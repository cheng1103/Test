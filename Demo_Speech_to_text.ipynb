{
  "nbformat": 4,
  "nbformat_minor": 0,
  "metadata": {
    "colab": {
      "name": "Demo Speech to text.ipynb",
      "provenance": [],
      "authorship_tag": "ABX9TyOdV/rl12me9JEEGSRNwhye",
      "include_colab_link": true
    },
    "kernelspec": {
      "name": "python3",
      "display_name": "Python 3"
    },
    "language_info": {
      "name": "python"
    }
  },
  "cells": [
    {
      "cell_type": "markdown",
      "metadata": {
        "id": "view-in-github",
        "colab_type": "text"
      },
      "source": [
        "<a href=\"https://colab.research.google.com/github/cheng1103/Test/blob/main/Demo_Speech_to_text.ipynb\" target=\"_parent\"><img src=\"https://colab.research.google.com/assets/colab-badge.svg\" alt=\"Open In Colab\"/></a>"
      ]
    },
    {
      "cell_type": "markdown",
      "source": [
        "<h1><strong>Demo-簡易語音辨識</strong></h1>\n",
        "\n",
        "<p>使用現成的Python模組，將mp3、w4a格式之音訊檔，轉換為wav，並且使用Google進行語音轉文字</p>\n"
      ],
      "metadata": {
        "id": "12CU3DfPGXdo"
      }
    },
    {
      "cell_type": "code",
      "source": [
        "from google.colab import drive\n",
        "drive.mount('/content/drive')\n",
        "\n",
        "#audio file type convert\n",
        "!pip install pydub\n",
        "!apt-get install ffmpeg\n",
        "from pydub import AudioSegment\n",
        "from os import path\n",
        "\n",
        "#Speech to text\n",
        "!pip install SpeechRecognition\n",
        "import speech_recognition as sr"
      ],
      "metadata": {
        "colab": {
          "base_uri": "https://localhost:8080/"
        },
        "id": "frDxK8NP3d0B",
        "outputId": "fcb11b1c-6157-41e1-97d6-aa18879d05e9"
      },
      "execution_count": 1,
      "outputs": [
        {
          "output_type": "stream",
          "name": "stdout",
          "text": [
            "Mounted at /content/drive\n",
            "Collecting pydub\n",
            "  Downloading pydub-0.25.1-py2.py3-none-any.whl (32 kB)\n",
            "Installing collected packages: pydub\n",
            "Successfully installed pydub-0.25.1\n",
            "Reading package lists... Done\n",
            "Building dependency tree       \n",
            "Reading state information... Done\n",
            "ffmpeg is already the newest version (7:3.4.8-0ubuntu0.2).\n",
            "0 upgraded, 0 newly installed, 0 to remove and 39 not upgraded.\n",
            "Collecting SpeechRecognition\n",
            "  Downloading SpeechRecognition-3.8.1-py2.py3-none-any.whl (32.8 MB)\n",
            "\u001b[K     |████████████████████████████████| 32.8 MB 184 kB/s \n",
            "\u001b[?25hInstalling collected packages: SpeechRecognition\n",
            "Successfully installed SpeechRecognition-3.8.1\n"
          ]
        }
      ]
    },
    {
      "cell_type": "markdown",
      "source": [
        "#音訊轉檔為WAV"
      ],
      "metadata": {
        "id": "6XhleD3q6E1p"
      }
    },
    {
      "cell_type": "code",
      "source": [
        "input_file = \"/content/drive/MyDrive/Data Set/Podcast/Jenny.mp3\"\n",
        "wav_filename = r\"/content/drive/MyDrive/Data Set/Podcast/Test.wav\"\n",
        "\n",
        "if 'mp3' in input_file:\n",
        "  file_type = 'mp3'\n",
        "else:\n",
        "  file_type = 'm4a'\n",
        "\n",
        "track = AudioSegment.from_file(input_file,  format=file_type)\n",
        "file_handle = track.export(wav_filename, format='wav')\n"
      ],
      "metadata": {
        "id": "eRUeRdopZI2H"
      },
      "execution_count": 5,
      "outputs": []
    },
    {
      "cell_type": "markdown",
      "source": [
        "#語音辨識"
      ],
      "metadata": {
        "id": "Cbay_i8CHLVq"
      }
    },
    {
      "cell_type": "code",
      "source": [
        "r = sr.Recognizer()\n",
        "\n",
        "route = '/content/drive/MyDrive/Data Set/Podcast/demo.wav'\n",
        "WAV = sr.WavFile(route)\n",
        "\n",
        "\n",
        "with WAV as source:\n",
        "    audio = r.record(source)\n",
        "text = r.recognize_google(audio, language = \"cmn-Hant-TW\")\n",
        "\n"
      ],
      "metadata": {
        "id": "9y4SNO5UeSPs"
      },
      "execution_count": 6,
      "outputs": []
    },
    {
      "cell_type": "code",
      "source": [
        "text\n"
      ],
      "metadata": {
        "id": "6272eiOn-xVr",
        "colab": {
          "base_uri": "https://localhost:8080/",
          "height": 55
        },
        "outputId": "237c2adb-bd3f-4650-b157-85eb87b4c3e1"
      },
      "execution_count": 7,
      "outputs": [
        {
          "output_type": "execute_result",
          "data": {
            "text/plain": [
              "'海膽好師姐你今天來跟他聊一下tesla最近最熱門的話題就是他向sec提交了它10K年報之後裡面揭露了他公司買了15義美員的比特幣他們開始吧比特幣是為公司的一個資產項目希望可以創造優於現金資產的效率那在2021年1月13更新了她的投資政策就是可以有更大的靈活性然後把他的資產更分散然後創造更大的回報那在不影響他現今的流動性的情況之下去把他部分的資產配置在比特幣上面未來能公司也有可能會開放說可以用比特幣去支付購買tesla的產品那個消息呢要比特幣在當天就直接上漲了10%短時間之內價格上漲到1顆四萬'"
            ],
            "application/vnd.google.colaboratory.intrinsic+json": {
              "type": "string"
            }
          },
          "metadata": {},
          "execution_count": 7
        }
      ]
    }
  ]
}