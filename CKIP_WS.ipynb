{
  "nbformat": 4,
  "nbformat_minor": 0,
  "metadata": {
    "colab": {
      "name": "CKIP_WS.ipynb",
      "provenance": [],
      "collapsed_sections": [],
      "mount_file_id": "1zm-K2M7goxagRLgrEodEHlMa2m8GKmeX",
      "authorship_tag": "ABX9TyPDaHeVcYs0nRP/dr/NGAAx",
      "include_colab_link": true
    },
    "kernelspec": {
      "name": "python3",
      "display_name": "Python 3"
    },
    "language_info": {
      "name": "python"
    }
  },
  "cells": [
    {
      "cell_type": "markdown",
      "metadata": {
        "id": "view-in-github",
        "colab_type": "text"
      },
      "source": [
        "<a href=\"https://colab.research.google.com/github/cheng1103/Test/blob/main/CKIP_WS.ipynb\" target=\"_parent\"><img src=\"https://colab.research.google.com/assets/colab-badge.svg\" alt=\"Open In Colab\"/></a>"
      ]
    },
    {
      "cell_type": "code",
      "source": [
        "'''\n",
        "\n",
        "R-Forge SVN(R語言)\n",
        "https://github.com/r-forge/tmcn\n",
        "\n",
        "===============================================\n",
        "GPU\n",
        "\n",
        "Colab使用\n",
        "https://zhuanlan.zhihu.com/p/141205106\n",
        "\n",
        "用 Google Colab 協助開發日常\n",
        "https://ithelp.ithome.com.tw/articles/10234527\n",
        "\n",
        "===============================================\n",
        "時間處理\n",
        "\n",
        "如何用pandas提取指定时间段的数据\n",
        "https://blog.csdn.net/qq_38412868/article/details/107445068\n",
        "\n",
        "'''\n",
        "#CkipTagger\n",
        "#https://github.com/ckiplab/ckiptagger/wiki/Chinese-README\n",
        "\n",
        "\n",
        "#清除所有變數\n",
        "#%reset -f\n",
        "\n",
        "\n",
        "#安裝套件\n",
        "!pip install tidytext\n",
        "!pip install -U ckiptagger[tf,gdown]\n",
        "\n",
        "\n",
        "#載入套件\n",
        "from ckiptagger import data_utils, construct_dictionary, WS, POS, NER\n",
        "\n",
        "\n",
        "import os\n",
        "import re\n",
        "import collections   #詞頻統計\n",
        "import numpy\n",
        "import time\n",
        "import datetime\n",
        "import pandas as pd"
      ],
      "metadata": {
        "id": "_mSmwTAY3DIT",
        "colab": {
          "base_uri": "https://localhost:8080/"
        },
        "outputId": "a5fe473c-0b3b-4df7-cce0-dc7648464a12"
      },
      "execution_count": null,
      "outputs": [
        {
          "output_type": "stream",
          "name": "stdout",
          "text": [
            "Collecting tidytext\n",
            "  Downloading tidytext-0.0.1.tar.gz (4.3 kB)\n",
            "Collecting siuba\n",
            "  Downloading siuba-0.1.2.tar.gz (106 kB)\n",
            "\u001b[K     |████████████████████████████████| 106 kB 4.4 MB/s \n",
            "\u001b[?25hRequirement already satisfied: pandas>=0.24.0 in /usr/local/lib/python3.7/dist-packages (from siuba->tidytext) (1.3.5)\n",
            "Requirement already satisfied: numpy>=1.12.0 in /usr/local/lib/python3.7/dist-packages (from siuba->tidytext) (1.19.5)\n",
            "Requirement already satisfied: SQLAlchemy>=1.2.19 in /usr/local/lib/python3.7/dist-packages (from siuba->tidytext) (1.4.31)\n",
            "Requirement already satisfied: PyYAML>=3.0.0 in /usr/local/lib/python3.7/dist-packages (from siuba->tidytext) (3.13)\n",
            "Requirement already satisfied: pytz>=2017.3 in /usr/local/lib/python3.7/dist-packages (from pandas>=0.24.0->siuba->tidytext) (2018.9)\n",
            "Requirement already satisfied: python-dateutil>=2.7.3 in /usr/local/lib/python3.7/dist-packages (from pandas>=0.24.0->siuba->tidytext) (2.8.2)\n",
            "Requirement already satisfied: six>=1.5 in /usr/local/lib/python3.7/dist-packages (from python-dateutil>=2.7.3->pandas>=0.24.0->siuba->tidytext) (1.15.0)\n",
            "Requirement already satisfied: greenlet!=0.4.17 in /usr/local/lib/python3.7/dist-packages (from SQLAlchemy>=1.2.19->siuba->tidytext) (1.1.2)\n",
            "Requirement already satisfied: importlib-metadata in /usr/local/lib/python3.7/dist-packages (from SQLAlchemy>=1.2.19->siuba->tidytext) (4.10.1)\n",
            "Requirement already satisfied: zipp>=0.5 in /usr/local/lib/python3.7/dist-packages (from importlib-metadata->SQLAlchemy>=1.2.19->siuba->tidytext) (3.7.0)\n",
            "Requirement already satisfied: typing-extensions>=3.6.4 in /usr/local/lib/python3.7/dist-packages (from importlib-metadata->SQLAlchemy>=1.2.19->siuba->tidytext) (3.10.0.2)\n",
            "Building wheels for collected packages: tidytext, siuba\n",
            "  Building wheel for tidytext (setup.py) ... \u001b[?25l\u001b[?25hdone\n",
            "  Created wheel for tidytext: filename=tidytext-0.0.1-py3-none-any.whl size=3894 sha256=c2c8b32009b6bdf0fc4d30f2993755b45910fd48ee652ff76c95dc7cf7cf1655\n",
            "  Stored in directory: /root/.cache/pip/wheels/46/3e/22/58c2c48258386098001ea3ef7652b69b6050fbcaa6b7adb9d7\n",
            "  Building wheel for siuba (setup.py) ... \u001b[?25l\u001b[?25hdone\n",
            "  Created wheel for siuba: filename=siuba-0.1.2-py3-none-any.whl size=126968 sha256=2e752f6e47a26ae2b216bff230e1c419e2095e108d43e32cd9a0fd980539068e\n",
            "  Stored in directory: /root/.cache/pip/wheels/bd/bf/fd/acdd87b7fa898b5af85090aba6ec6f258f6b97227851cf0f6a\n",
            "Successfully built tidytext siuba\n",
            "Installing collected packages: siuba, tidytext\n",
            "Successfully installed siuba-0.1.2 tidytext-0.0.1\n",
            "Collecting ckiptagger[gdown,tf]\n",
            "  Downloading ckiptagger-0.2.1-py3-none-any.whl (34 kB)\n",
            "Requirement already satisfied: tensorflow>=1.13.1 in /usr/local/lib/python3.7/dist-packages (from ckiptagger[gdown,tf]) (2.7.0)\n",
            "Requirement already satisfied: gdown in /usr/local/lib/python3.7/dist-packages (from ckiptagger[gdown,tf]) (4.2.1)\n",
            "Requirement already satisfied: termcolor>=1.1.0 in /usr/local/lib/python3.7/dist-packages (from tensorflow>=1.13.1->ckiptagger[gdown,tf]) (1.1.0)\n",
            "Requirement already satisfied: keras-preprocessing>=1.1.1 in /usr/local/lib/python3.7/dist-packages (from tensorflow>=1.13.1->ckiptagger[gdown,tf]) (1.1.2)\n",
            "Requirement already satisfied: tensorflow-estimator<2.8,~=2.7.0rc0 in /usr/local/lib/python3.7/dist-packages (from tensorflow>=1.13.1->ckiptagger[gdown,tf]) (2.7.0)\n",
            "Requirement already satisfied: absl-py>=0.4.0 in /usr/local/lib/python3.7/dist-packages (from tensorflow>=1.13.1->ckiptagger[gdown,tf]) (1.0.0)\n",
            "Requirement already satisfied: six>=1.12.0 in /usr/local/lib/python3.7/dist-packages (from tensorflow>=1.13.1->ckiptagger[gdown,tf]) (1.15.0)\n",
            "Requirement already satisfied: gast<0.5.0,>=0.2.1 in /usr/local/lib/python3.7/dist-packages (from tensorflow>=1.13.1->ckiptagger[gdown,tf]) (0.4.0)\n",
            "Requirement already satisfied: tensorboard~=2.6 in /usr/local/lib/python3.7/dist-packages (from tensorflow>=1.13.1->ckiptagger[gdown,tf]) (2.7.0)\n",
            "Requirement already satisfied: wrapt>=1.11.0 in /usr/local/lib/python3.7/dist-packages (from tensorflow>=1.13.1->ckiptagger[gdown,tf]) (1.13.3)\n",
            "Requirement already satisfied: tensorflow-io-gcs-filesystem>=0.21.0 in /usr/local/lib/python3.7/dist-packages (from tensorflow>=1.13.1->ckiptagger[gdown,tf]) (0.24.0)\n",
            "Requirement already satisfied: h5py>=2.9.0 in /usr/local/lib/python3.7/dist-packages (from tensorflow>=1.13.1->ckiptagger[gdown,tf]) (3.1.0)\n",
            "Requirement already satisfied: wheel<1.0,>=0.32.0 in /usr/local/lib/python3.7/dist-packages (from tensorflow>=1.13.1->ckiptagger[gdown,tf]) (0.37.1)\n",
            "Requirement already satisfied: numpy>=1.14.5 in /usr/local/lib/python3.7/dist-packages (from tensorflow>=1.13.1->ckiptagger[gdown,tf]) (1.19.5)\n",
            "Requirement already satisfied: flatbuffers<3.0,>=1.12 in /usr/local/lib/python3.7/dist-packages (from tensorflow>=1.13.1->ckiptagger[gdown,tf]) (2.0)\n",
            "Requirement already satisfied: protobuf>=3.9.2 in /usr/local/lib/python3.7/dist-packages (from tensorflow>=1.13.1->ckiptagger[gdown,tf]) (3.17.3)\n",
            "Requirement already satisfied: grpcio<2.0,>=1.24.3 in /usr/local/lib/python3.7/dist-packages (from tensorflow>=1.13.1->ckiptagger[gdown,tf]) (1.43.0)\n",
            "Requirement already satisfied: google-pasta>=0.1.1 in /usr/local/lib/python3.7/dist-packages (from tensorflow>=1.13.1->ckiptagger[gdown,tf]) (0.2.0)\n",
            "Requirement already satisfied: typing-extensions>=3.6.6 in /usr/local/lib/python3.7/dist-packages (from tensorflow>=1.13.1->ckiptagger[gdown,tf]) (3.10.0.2)\n",
            "Requirement already satisfied: libclang>=9.0.1 in /usr/local/lib/python3.7/dist-packages (from tensorflow>=1.13.1->ckiptagger[gdown,tf]) (13.0.0)\n",
            "Requirement already satisfied: keras<2.8,>=2.7.0rc0 in /usr/local/lib/python3.7/dist-packages (from tensorflow>=1.13.1->ckiptagger[gdown,tf]) (2.7.0)\n",
            "Requirement already satisfied: astunparse>=1.6.0 in /usr/local/lib/python3.7/dist-packages (from tensorflow>=1.13.1->ckiptagger[gdown,tf]) (1.6.3)\n",
            "Requirement already satisfied: opt-einsum>=2.3.2 in /usr/local/lib/python3.7/dist-packages (from tensorflow>=1.13.1->ckiptagger[gdown,tf]) (3.3.0)\n",
            "Requirement already satisfied: cached-property in /usr/local/lib/python3.7/dist-packages (from h5py>=2.9.0->tensorflow>=1.13.1->ckiptagger[gdown,tf]) (1.5.2)\n",
            "Requirement already satisfied: requests<3,>=2.21.0 in /usr/local/lib/python3.7/dist-packages (from tensorboard~=2.6->tensorflow>=1.13.1->ckiptagger[gdown,tf]) (2.23.0)\n",
            "Requirement already satisfied: markdown>=2.6.8 in /usr/local/lib/python3.7/dist-packages (from tensorboard~=2.6->tensorflow>=1.13.1->ckiptagger[gdown,tf]) (3.3.6)\n",
            "Requirement already satisfied: google-auth-oauthlib<0.5,>=0.4.1 in /usr/local/lib/python3.7/dist-packages (from tensorboard~=2.6->tensorflow>=1.13.1->ckiptagger[gdown,tf]) (0.4.6)\n",
            "Requirement already satisfied: setuptools>=41.0.0 in /usr/local/lib/python3.7/dist-packages (from tensorboard~=2.6->tensorflow>=1.13.1->ckiptagger[gdown,tf]) (57.4.0)\n",
            "Requirement already satisfied: werkzeug>=0.11.15 in /usr/local/lib/python3.7/dist-packages (from tensorboard~=2.6->tensorflow>=1.13.1->ckiptagger[gdown,tf]) (1.0.1)\n",
            "Requirement already satisfied: tensorboard-data-server<0.7.0,>=0.6.0 in /usr/local/lib/python3.7/dist-packages (from tensorboard~=2.6->tensorflow>=1.13.1->ckiptagger[gdown,tf]) (0.6.1)\n",
            "Requirement already satisfied: tensorboard-plugin-wit>=1.6.0 in /usr/local/lib/python3.7/dist-packages (from tensorboard~=2.6->tensorflow>=1.13.1->ckiptagger[gdown,tf]) (1.8.1)\n",
            "Requirement already satisfied: google-auth<3,>=1.6.3 in /usr/local/lib/python3.7/dist-packages (from tensorboard~=2.6->tensorflow>=1.13.1->ckiptagger[gdown,tf]) (1.35.0)\n",
            "Requirement already satisfied: pyasn1-modules>=0.2.1 in /usr/local/lib/python3.7/dist-packages (from google-auth<3,>=1.6.3->tensorboard~=2.6->tensorflow>=1.13.1->ckiptagger[gdown,tf]) (0.2.8)\n",
            "Requirement already satisfied: cachetools<5.0,>=2.0.0 in /usr/local/lib/python3.7/dist-packages (from google-auth<3,>=1.6.3->tensorboard~=2.6->tensorflow>=1.13.1->ckiptagger[gdown,tf]) (4.2.4)\n",
            "Requirement already satisfied: rsa<5,>=3.1.4 in /usr/local/lib/python3.7/dist-packages (from google-auth<3,>=1.6.3->tensorboard~=2.6->tensorflow>=1.13.1->ckiptagger[gdown,tf]) (4.8)\n",
            "Requirement already satisfied: requests-oauthlib>=0.7.0 in /usr/local/lib/python3.7/dist-packages (from google-auth-oauthlib<0.5,>=0.4.1->tensorboard~=2.6->tensorflow>=1.13.1->ckiptagger[gdown,tf]) (1.3.1)\n",
            "Requirement already satisfied: importlib-metadata>=4.4 in /usr/local/lib/python3.7/dist-packages (from markdown>=2.6.8->tensorboard~=2.6->tensorflow>=1.13.1->ckiptagger[gdown,tf]) (4.10.1)\n",
            "Requirement already satisfied: zipp>=0.5 in /usr/local/lib/python3.7/dist-packages (from importlib-metadata>=4.4->markdown>=2.6.8->tensorboard~=2.6->tensorflow>=1.13.1->ckiptagger[gdown,tf]) (3.7.0)\n",
            "Requirement already satisfied: pyasn1<0.5.0,>=0.4.6 in /usr/local/lib/python3.7/dist-packages (from pyasn1-modules>=0.2.1->google-auth<3,>=1.6.3->tensorboard~=2.6->tensorflow>=1.13.1->ckiptagger[gdown,tf]) (0.4.8)\n",
            "Requirement already satisfied: idna<3,>=2.5 in /usr/local/lib/python3.7/dist-packages (from requests<3,>=2.21.0->tensorboard~=2.6->tensorflow>=1.13.1->ckiptagger[gdown,tf]) (2.10)\n",
            "Requirement already satisfied: urllib3!=1.25.0,!=1.25.1,<1.26,>=1.21.1 in /usr/local/lib/python3.7/dist-packages (from requests<3,>=2.21.0->tensorboard~=2.6->tensorflow>=1.13.1->ckiptagger[gdown,tf]) (1.24.3)\n",
            "Requirement already satisfied: chardet<4,>=3.0.2 in /usr/local/lib/python3.7/dist-packages (from requests<3,>=2.21.0->tensorboard~=2.6->tensorflow>=1.13.1->ckiptagger[gdown,tf]) (3.0.4)\n",
            "Requirement already satisfied: certifi>=2017.4.17 in /usr/local/lib/python3.7/dist-packages (from requests<3,>=2.21.0->tensorboard~=2.6->tensorflow>=1.13.1->ckiptagger[gdown,tf]) (2021.10.8)\n",
            "Requirement already satisfied: oauthlib>=3.0.0 in /usr/local/lib/python3.7/dist-packages (from requests-oauthlib>=0.7.0->google-auth-oauthlib<0.5,>=0.4.1->tensorboard~=2.6->tensorflow>=1.13.1->ckiptagger[gdown,tf]) (3.2.0)\n",
            "Requirement already satisfied: beautifulsoup4 in /usr/local/lib/python3.7/dist-packages (from gdown->ckiptagger[gdown,tf]) (4.6.3)\n",
            "Requirement already satisfied: filelock in /usr/local/lib/python3.7/dist-packages (from gdown->ckiptagger[gdown,tf]) (3.4.2)\n",
            "Requirement already satisfied: tqdm in /usr/local/lib/python3.7/dist-packages (from gdown->ckiptagger[gdown,tf]) (4.62.3)\n",
            "Requirement already satisfied: PySocks!=1.5.7,>=1.5.6 in /usr/local/lib/python3.7/dist-packages (from requests<3,>=2.21.0->tensorboard~=2.6->tensorflow>=1.13.1->ckiptagger[gdown,tf]) (1.7.1)\n",
            "Installing collected packages: ckiptagger\n",
            "Successfully installed ckiptagger-0.2.1\n"
          ]
        }
      ]
    },
    {
      "cell_type": "code",
      "source": [
        "#下載模型\n",
        "#data_utils.download_data_gdown('/content/drive/MyDrive/Colab Notebooks/')"
      ],
      "metadata": {
        "id": "Tce6UgafsmyN",
        "colab": {
          "base_uri": "https://localhost:8080/"
        },
        "outputId": "d8331e5e-d8b6-42dc-bb04-7aae6d17e70b"
      },
      "execution_count": null,
      "outputs": [
        {
          "output_type": "stream",
          "name": "stdout",
          "text": [
            "Mounted at /content/drive\n"
          ]
        }
      ]
    },
    {
      "cell_type": "code",
      "source": [
        "#載入模型  GPU 版本\n",
        "\n",
        "#os.environ[\"CUDA_VISIBLE_DEVICES\"] = \"0\"\n",
        "#ws = WS(\"/content/drive/MyDrive/Colab Notebooks/data\", disable_cuda=False)\n",
        "#pos = POS(\"/content/drive/MyDrive/Colab Notebooks/data\", disable_cuda=False)\n",
        "#ner = NER(\"/content/drive/MyDrive/Colab Notebooks/data\", disable_cuda=False)\n",
        "\n",
        "\n",
        "\n",
        "#載入模型  CPU 版本\n",
        "\n",
        "ws = WS(\"/content/drive/MyDrive/Colab Notebooks/data\")  #斷詞\n",
        "pos = POS(\"/content/drive/MyDrive/Colab Notebooks/data\")  #詞性標記\n",
        "ner = NER(\"/content/drive/MyDrive/Colab Notebooks/data\")  #專有名詞辨識"
      ],
      "metadata": {
        "colab": {
          "base_uri": "https://localhost:8080/"
        },
        "id": "bB2r9fPUtN12",
        "outputId": "312a4308-09b8-433b-f527-ac40be1bd7d8"
      },
      "execution_count": null,
      "outputs": [
        {
          "output_type": "stream",
          "name": "stderr",
          "text": [
            "/usr/local/lib/python3.7/dist-packages/ckiptagger/model_ws.py:106: UserWarning: `tf.nn.rnn_cell.LSTMCell` is deprecated and will be removed in a future version. This class is equivalent as `tf.keras.layers.LSTMCell`, and will be replaced by that in Tensorflow 2.0.\n",
            "  cell = tf.compat.v1.nn.rnn_cell.LSTMCell(hidden_d, name=name)\n",
            "/usr/local/lib/python3.7/dist-packages/keras/layers/legacy_rnn/rnn_cell_impl.py:988: UserWarning: `layer.add_variable` is deprecated and will be removed in a future version. Please use `layer.add_weight` method instead.\n",
            "  partitioner=maybe_partitioner)\n",
            "/usr/local/lib/python3.7/dist-packages/keras/layers/legacy_rnn/rnn_cell_impl.py:996: UserWarning: `layer.add_variable` is deprecated and will be removed in a future version. Please use `layer.add_weight` method instead.\n",
            "  initializer=initializer)\n"
          ]
        }
      ]
    },
    {
      "cell_type": "code",
      "source": [
        ""
      ],
      "metadata": {
        "id": "9qq378G48A8A"
      },
      "execution_count": null,
      "outputs": []
    },
    {
      "cell_type": "code",
      "source": [
        "text = '代工大廠廣達 (2382-TW) 董事長林百里今 (12) 日出席天下經濟論壇，面對元宇宙 (Metaverse) 發展，看好包含 Meta(FB-US)、微軟 (MSFT-US) 等平台帶動商機成長，但對整體社會有信任 (Trust)、安全法規 (Security)、共識 (Acceptability) 等三大挑戰，台廠在此擁許多優勢，不過還需加強關注使用者行為的改變 (Behavior change)。林百里表示，元宇宙是廣達成立 33 年來，迎來的新挑戰，回顧過去布局，1988 年發展行動筆電、2000 年投資雲端伺服器、2020 年擴大運算 (Computing) 布局，2022 年迎來元宇宙，正持續發展智慧製造、交通、醫療等 Smart X，也做元宇宙的工具。林百里強調，廣達是做工具的，觀察元宇宙所需的硬體設備，包含基礎建設 (Infrastructure)、網路 (Network)、邊緣 (Edge)、雲端 (Cloud)、機器人 (Robotics)、IoT、XR 等都是可發展項目。展望元宇宙，林百里指出，臉書改名 Meta、微軟也擴大平台生態，都有助元宇宙概念成長，樂觀看待現實與虛擬世界的互動將助推新商機應用發酵，像是虛擬偶像、數位分身、大型互動虛擬演出、虛擬時尚等，更舉例一幅數位圖檔竟以 19.5 億元天價賣出，為虛擬藝術史 NFT 創造新里程碑。林百里笑說，當初對比特幣、狗狗幣覺得很不可思議，現階段也不會考慮花 19.5 億元買數位畫作，可預期未來很多東西都將在虛擬網路發生，自己與團隊都持續關注元宇宙各項發展，但元宇宙對整體社會還有信任 (Trust)、安全法規 (Security)、共識 (Acceptability) 等挑戰。元宇宙也將讓產業出現新變化，林百里認為，科技應用、使用者行為、營運模式都將相互連動，代表 AI、HI、BI 三者同等重要，過去工程師只做筆電產品，朝輕薄短小、省電就好，現在則需要從使用者行為 (Behavior)、整體解決方案回頭進行產品設計，這正是台廠較缺乏的部分。以廣達為例，林百里分享，四年前各事業群全部學習 AI 硬體，隨著 AI 發展成熟，現在不管是做智慧醫療、智慧城市、智慧運輸等，各部門都從 Smart 應用回過頭設計產品，而不是單從零件看產品，思維逐步轉變從解決方案出發。'\n",
        "ws_results = ws([text])\n",
        "ws_results"
      ],
      "metadata": {
        "id": "ofhEjrOopmtK"
      },
      "execution_count": null,
      "outputs": []
    },
    {
      "cell_type": "code",
      "source": [
        ""
      ],
      "metadata": {
        "id": "1y7EDCDnbV3Q"
      },
      "execution_count": null,
      "outputs": []
    }
  ]
}