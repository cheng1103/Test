{
  "nbformat": 4,
  "nbformat_minor": 0,
  "metadata": {
    "colab": {
      "name": "Podcast link.ipynb",
      "provenance": [],
      "collapsed_sections": [],
      "authorship_tag": "ABX9TyODToO22qKJzvEQyTiwICno"
    },
    "kernelspec": {
      "name": "python3",
      "display_name": "Python 3"
    },
    "language_info": {
      "name": "python"
    }
  },
  "cells": [
    {
      "cell_type": "code",
      "source": [
        "'''\n",
        "\n",
        "語音轉文字小工具\n",
        "https://github.com/reic/colab_python/blob/main/%E9%8C%84%E9%9F%B3%E6%AA%94%E8%BD%89%E6%96%87%E5%AD%97.ipynb\n",
        "\n",
        "'''"
      ],
      "metadata": {
        "id": "Mt-DU66bB0XX"
      },
      "execution_count": null,
      "outputs": []
    },
    {
      "cell_type": "code",
      "source": [
        "#url = 'https://player.soundon.fm/p/e75f72d6-a458-4982-861e-6c5fbad85956' #財報狗\n",
        "#url = 'https://player.soundon.fm/p/d2aab16c-3a70-4023-b52b-e50f07852ecd' #財經M平方\n",
        "url = 'https://player.soundon.fm/p/954689a5-3096-43a4-a80b-7810b219cef3' #Gooaye 股癌\n",
        "file_name = 'Gooaye 股癌'\n"
      ],
      "metadata": {
        "id": "ViHfASqxqzw8"
      },
      "execution_count": null,
      "outputs": []
    },
    {
      "cell_type": "code",
      "execution_count": null,
      "metadata": {
        "id": "8Rbe4HREr8BT",
        "colab": {
          "base_uri": "https://localhost:8080/"
        },
        "outputId": "ecf568ab-b23b-41d2-e063-8ffb3f949f3c"
      },
      "outputs": [
        {
          "output_type": "stream",
          "name": "stdout",
          "text": [
            "Requirement already satisfied: selenium in /usr/local/lib/python3.7/dist-packages (4.1.3)\n",
            "Requirement already satisfied: urllib3[secure,socks]~=1.26 in /usr/local/lib/python3.7/dist-packages (from selenium) (1.26.9)\n",
            "Requirement already satisfied: trio-websocket~=0.9 in /usr/local/lib/python3.7/dist-packages (from selenium) (0.9.2)\n",
            "Requirement already satisfied: trio~=0.17 in /usr/local/lib/python3.7/dist-packages (from selenium) (0.20.0)\n",
            "Requirement already satisfied: attrs>=19.2.0 in /usr/local/lib/python3.7/dist-packages (from trio~=0.17->selenium) (21.4.0)\n",
            "Requirement already satisfied: sniffio in /usr/local/lib/python3.7/dist-packages (from trio~=0.17->selenium) (1.2.0)\n",
            "Requirement already satisfied: idna in /usr/local/lib/python3.7/dist-packages (from trio~=0.17->selenium) (2.10)\n",
            "Requirement already satisfied: sortedcontainers in /usr/local/lib/python3.7/dist-packages (from trio~=0.17->selenium) (2.4.0)\n",
            "Requirement already satisfied: async-generator>=1.9 in /usr/local/lib/python3.7/dist-packages (from trio~=0.17->selenium) (1.10)\n",
            "Requirement already satisfied: outcome in /usr/local/lib/python3.7/dist-packages (from trio~=0.17->selenium) (1.1.0)\n",
            "Requirement already satisfied: wsproto>=0.14 in /usr/local/lib/python3.7/dist-packages (from trio-websocket~=0.9->selenium) (1.1.0)\n",
            "Requirement already satisfied: pyOpenSSL>=0.14 in /usr/local/lib/python3.7/dist-packages (from urllib3[secure,socks]~=1.26->selenium) (22.0.0)\n",
            "Requirement already satisfied: cryptography>=1.3.4 in /usr/local/lib/python3.7/dist-packages (from urllib3[secure,socks]~=1.26->selenium) (36.0.2)\n",
            "Requirement already satisfied: certifi in /usr/local/lib/python3.7/dist-packages (from urllib3[secure,socks]~=1.26->selenium) (2021.10.8)\n",
            "Requirement already satisfied: PySocks!=1.5.7,<2.0,>=1.5.6 in /usr/local/lib/python3.7/dist-packages (from urllib3[secure,socks]~=1.26->selenium) (1.7.1)\n",
            "Requirement already satisfied: cffi>=1.12 in /usr/local/lib/python3.7/dist-packages (from cryptography>=1.3.4->urllib3[secure,socks]~=1.26->selenium) (1.15.0)\n",
            "Requirement already satisfied: pycparser in /usr/local/lib/python3.7/dist-packages (from cffi>=1.12->cryptography>=1.3.4->urllib3[secure,socks]~=1.26->selenium) (2.21)\n",
            "Requirement already satisfied: h11<1,>=0.9.0 in /usr/local/lib/python3.7/dist-packages (from wsproto>=0.14->trio-websocket~=0.9->selenium) (0.13.0)\n",
            "Requirement already satisfied: typing-extensions in /usr/local/lib/python3.7/dist-packages (from h11<1,>=0.9.0->wsproto>=0.14->trio-websocket~=0.9->selenium) (3.10.0.2)\n",
            "Hit:1 https://cloud.r-project.org/bin/linux/ubuntu bionic-cran40/ InRelease\n",
            "Hit:2 http://archive.ubuntu.com/ubuntu bionic InRelease\n",
            "Hit:3 http://archive.ubuntu.com/ubuntu bionic-updates InRelease\n",
            "Hit:4 http://archive.ubuntu.com/ubuntu bionic-backports InRelease\n",
            "Ign:5 https://developer.download.nvidia.com/compute/cuda/repos/ubuntu1804/x86_64  InRelease\n",
            "Hit:6 http://ppa.launchpad.net/c2d4u.team/c2d4u4.0+/ubuntu bionic InRelease\n",
            "Hit:7 http://security.ubuntu.com/ubuntu bionic-security InRelease\n",
            "Ign:8 https://developer.download.nvidia.com/compute/machine-learning/repos/ubuntu1804/x86_64  InRelease\n",
            "Hit:9 https://developer.download.nvidia.com/compute/cuda/repos/ubuntu1804/x86_64  Release\n",
            "Hit:10 https://developer.download.nvidia.com/compute/machine-learning/repos/ubuntu1804/x86_64  Release\n",
            "Hit:11 http://ppa.launchpad.net/cran/libgit2/ubuntu bionic InRelease\n",
            "Hit:12 http://ppa.launchpad.net/deadsnakes/ppa/ubuntu bionic InRelease\n",
            "Hit:13 http://ppa.launchpad.net/graphics-drivers/ppa/ubuntu bionic InRelease\n",
            "Reading package lists... Done\n",
            "Reading package lists... Done\n",
            "Building dependency tree       \n",
            "Reading state information... Done\n",
            "chromium-chromedriver is already the newest version (99.0.4844.84-0ubuntu0.18.04.1).\n",
            "0 upgraded, 0 newly installed, 0 to remove and 96 not upgraded.\n",
            "cp: '/usr/lib/chromium-browser/chromedriver' and '/usr/bin/chromedriver' are the same file\n",
            "Requirement already satisfied: fake_useragent in /usr/local/lib/python3.7/dist-packages (0.1.11)\n"
          ]
        }
      ],
      "source": [
        "!pip install selenium\n",
        "!apt-get update # to update ubuntu to correctly run apt install\n",
        "!apt install chromium-chromedriver\n",
        "!cp /usr/lib/chromium-browser/chromedriver /usr/bin\n",
        "import sys\n",
        "sys.path.insert(0,'/usr/lib/chromium-browser/chromedriver')\n",
        "from selenium import webdriver\n",
        "from selenium.webdriver.chrome.options import Options\n",
        "from selenium.webdriver.common.by import By\n",
        "\n",
        "\n",
        "\n",
        "!pip install fake_useragent\n",
        "from fake_useragent import UserAgent\n",
        "from lxml import etree\n",
        "\n",
        "import pandas as pd\n",
        "import random\n",
        "import time"
      ]
    },
    {
      "cell_type": "code",
      "source": [
        "chrome_options = webdriver.ChromeOptions()\n",
        "chrome_options.add_argument('--headless')\n",
        "chrome_options.add_argument('--no-sandbox')\n",
        "chrome_options.add_argument('--disable-dev-shm-usage')\n",
        "browser = webdriver.Chrome('chromedriver',chrome_options=chrome_options)\n"
      ],
      "metadata": {
        "id": "76Ay3RLg48oO",
        "colab": {
          "base_uri": "https://localhost:8080/"
        },
        "outputId": "e343d226-5251-4e23-d805-b1aa3d6b8b59"
      },
      "execution_count": null,
      "outputs": [
        {
          "output_type": "stream",
          "name": "stderr",
          "text": [
            "/usr/local/lib/python3.7/dist-packages/ipykernel_launcher.py:5: DeprecationWarning: use options instead of chrome_options\n",
            "  \"\"\"\n"
          ]
        }
      ]
    },
    {
      "cell_type": "code",
      "source": [
        "#下載網頁\n",
        "browser.get(url)\n",
        "for i in range(200):\n",
        "\n",
        "  browser.execute_script(\"window.scrollBy(0, window.innerHeight)\")\n",
        "  t = random.uniform(0.75, 1.5) #隨機數\n",
        "  time.sleep(t) #暫停\n"
      ],
      "metadata": {
        "id": "qc0ZVbS9saCK"
      },
      "execution_count": null,
      "outputs": []
    },
    {
      "cell_type": "code",
      "source": [
        "#擷取頻道目錄\n",
        "channel_name = [] #裝頻道名稱\n",
        "title = [] #裝標題\n",
        "date = [] #裝日期\n",
        "links = [] #裝連結\n",
        "time_long = [] #裝時間長度\n",
        "\n",
        "#擷取網頁元素\n",
        "temp_channel = browser.find_elements(By.XPATH,'/html/body/div[1]/div/div[1]/div[2]/div/div[1]/div/div[2]/div[2]/h3')[0].text\n",
        "URLs = browser.find_elements(By.XPATH,'/html/body/div[1]/div/div[1]/div[2]/div/div[2]/div/div/a')\n",
        "temp_title = browser.find_elements(By.XPATH,'/html/body/div[1]/div/div[1]/div[2]/div/div[2]/div/div/a/div/div[2]/h4/div')\n",
        "temp_date = browser.find_elements(By.XPATH,'/html/body/div[1]/div/div[1]/div[2]/div/div[2]/div/div/a/div/div[2]/div[2]/time[2]')\n",
        "temp_time = browser.find_elements(By.XPATH,'/html/body/div[1]/div/div[1]/div[2]/div/div[2]/div/div/a/div/div[2]/div[2]/time[1]') \n",
        "#/html/body/div[1]/div/div[1]/div[2]/div/div[2]/div/div/a/div/div[2]/div[2]/time[1]/text()\n",
        "#擷取連結\n",
        "for node in URLs:\n",
        "  links.append(node.get_attribute(\"href\"))\n",
        "links = pd.DataFrame(links)\n",
        "\n",
        "#擷取標題、出刊日、長度\n",
        "t = len(URLs)\n",
        "for i in range(len(URLs)):\n",
        "  channel_name.append(temp_channel)\n",
        "  date.append(temp_date[i].text)\n",
        "  title.append(temp_title[i].text)\n",
        "  time_long.append(str(temp_time[i].text))\n",
        "\n",
        "\n",
        "\n",
        "#整理為表格\n",
        "channel_name = pd.DataFrame(channel_name)\n",
        "date = pd.DataFrame(date)\n",
        "title = pd.DataFrame(title)\n",
        "time_long = pd.DataFrame(time_long)\n",
        "\n",
        "data = pd.concat([channel_name, date, title, time_long, links], axis=1)\n",
        "data.columns = ['channel', 'date', 'title', 'long', 'link']"
      ],
      "metadata": {
        "id": "4vuc2o7T1RiS"
      },
      "execution_count": null,
      "outputs": []
    },
    {
      "cell_type": "code",
      "source": [
        "#擷取單集摘要、音源網址\n",
        "audio_link = []\n",
        "Summary = []\n",
        "\n",
        "for i in range(len(data['link'])):\n",
        "\n",
        "  url = data['link'][i]\n",
        "  #下載網頁\n",
        "  browser.get(url)\n",
        "  t = random.uniform(0.75, 1.5) #隨機數\n",
        "  time.sleep(t) #暫停\n",
        "\n",
        "  #取得播放連結\n",
        "  play = browser.find_element_by_xpath('/html/body/div[1]/div/div[1]/div[2]/div/div[1]/div/div[3]/div/button')\n",
        "  play.click()\n",
        "  browser.implicitly_wait(0.05) #等待載入\n",
        "  element = browser.find_elements_by_xpath('/html/body/audio')\n",
        "\n",
        "  temp_audio = []\n",
        "  for node in element:\n",
        "    temp_audio.append(node.get_attribute(\"src\"))\n",
        "  audio_link.append(temp_audio)\n",
        "\n",
        "\n",
        "  #取得摘要\n",
        "  temp_Summary = browser.find_elements(By.XPATH,'/html/body/div[1]/div/div[1]/div[2]/div/div[2]/div/div')[0].text\n",
        "  temp_Summary = temp_Summary.replace('\\n', '')\n",
        "  Summary.append(temp_Summary)\n",
        "\n",
        "audio_link = pd.DataFrame(audio_link)\n",
        "Summary = pd.DataFrame(Summary)\n",
        "\n",
        "\n"
      ],
      "metadata": {
        "id": "lMLSeMmC8JHg",
        "colab": {
          "base_uri": "https://localhost:8080/"
        },
        "outputId": "71e4be7e-9add-4424-f69b-f799886c2a07"
      },
      "execution_count": null,
      "outputs": [
        {
          "output_type": "stream",
          "name": "stderr",
          "text": [
            "/usr/local/lib/python3.7/dist-packages/ipykernel_launcher.py:14: DeprecationWarning: find_element_by_xpath is deprecated. Please use find_element(by=By.XPATH, value=xpath) instead\n",
            "  \n",
            "/usr/local/lib/python3.7/dist-packages/ipykernel_launcher.py:17: DeprecationWarning: find_elements_by_xpath is deprecated. Please use find_elements(by=By.XPATH, value=xpath) instead\n"
          ]
        }
      ]
    },
    {
      "cell_type": "code",
      "source": [
        "data\n"
      ],
      "metadata": {
        "colab": {
          "base_uri": "https://localhost:8080/",
          "height": 2453
        },
        "id": "WjlruGxa4Ru6",
        "outputId": "2708fc74-028d-4eba-c4d1-c1b6804ded4a"
      },
      "execution_count": null,
      "outputs": [
        {
          "output_type": "execute_result",
          "data": {
            "text/plain": [
              "       channel        date             title   long  \\\n",
              "0    Gooaye 股癌  2022-04-09        EP234 | 🕴️  52:38   \n",
              "1    Gooaye 股癌  2022-04-06         EP233 | 🛵  47:52   \n",
              "2    Gooaye 股癌  2022-04-02         EP232 | 🧙  50:31   \n",
              "3    Gooaye 股癌  2022-03-30         EP231 | 👽  51:14   \n",
              "4    Gooaye 股癌  2022-03-26         EP230 | 🀅  52:53   \n",
              "..         ...         ...               ...    ...   \n",
              "229  Gooaye 股癌  2020-03-04  EP5 | ∑( ◦д⊙)‼ 🔫  27:24   \n",
              "230  Gooaye 股癌  2020-03-03  EP4 |( ͡° ͜ʖ ͡°)  25:27   \n",
              "231  Gooaye 股癌  2020-03-02  EP3 |( *・ω・)✄╰ひ╯  26:54   \n",
              "232  Gooaye 股癌  2020-02-29  EP2 |( *・ω・)╰✄-╯  30:31   \n",
              "233  Gooaye 股癌  2020-02-27  EP1 |( *・ω・)╰—╯✄  23:43   \n",
              "\n",
              "                                                  link  \\\n",
              "0    https://player.soundon.fm/p/954689a5-3096-43a4...   \n",
              "1    https://player.soundon.fm/p/954689a5-3096-43a4...   \n",
              "2    https://player.soundon.fm/p/954689a5-3096-43a4...   \n",
              "3    https://player.soundon.fm/p/954689a5-3096-43a4...   \n",
              "4    https://player.soundon.fm/p/954689a5-3096-43a4...   \n",
              "..                                                 ...   \n",
              "229  https://player.soundon.fm/p/954689a5-3096-43a4...   \n",
              "230  https://player.soundon.fm/p/954689a5-3096-43a4...   \n",
              "231  https://player.soundon.fm/p/954689a5-3096-43a4...   \n",
              "232  https://player.soundon.fm/p/954689a5-3096-43a4...   \n",
              "233  https://player.soundon.fm/p/954689a5-3096-43a4...   \n",
              "\n",
              "                                            audio_link  \\\n",
              "0    https://chtbl.com/track/4B4E1D/rss.soundon.fm/...   \n",
              "1    https://chtbl.com/track/4B4E1D/rss.soundon.fm/...   \n",
              "2    https://chtbl.com/track/4B4E1D/rss.soundon.fm/...   \n",
              "3    https://chtbl.com/track/4B4E1D/rss.soundon.fm/...   \n",
              "4    https://chtbl.com/track/4B4E1D/rss.soundon.fm/...   \n",
              "..                                                 ...   \n",
              "229                                               None   \n",
              "230  https://chtbl.com/track/4B4E1D/rss.soundon.fm/...   \n",
              "231  https://chtbl.com/track/4B4E1D/rss.soundon.fm/...   \n",
              "232  https://chtbl.com/track/4B4E1D/rss.soundon.fm/...   \n",
              "233  https://chtbl.com/track/4B4E1D/rss.soundon.fm/...   \n",
              "\n",
              "                                               Summary  \n",
              "0    Vito Corleone “Cause a man who doesn't spend t...  \n",
              "1    好甩要暈車了==Welcome on board ✈️Chicco Seat3 寶寶的安全頭...  \n",
              "2    盤點一下本集節目由 台灣情趣領導商城 Dr.情趣 贊助Dr. 情趣，台灣情趣第一領導商城秉持...  \n",
              "3    QA 有厲害的摸高大師決定要進場了各位小心史上最偉大的發明~寶寶安撫神器來了來自韓國第一品牌...  \n",
              "4    這是很不真實的一個禮拜本集節目由 # Sony LinkBuds WF-L900 真無線藍牙...  \n",
              "..                                                 ...  \n",
              "229  聯準會緊急降息兩碼，卻沒有有效的激勵美股持續上漲，這和前天大漲 1300 點的創紀錄漲點可能...  \n",
              "230  GE 傳奇 Jack Welch 逝世，分享他的一些軼事。史上最大的反彈現蹤，是否空頭有結束...  \n",
              "231  若疫情持續擴散至美國發生預防性裁員，那會是下一波的危機；中國 PMI 開出新低，如但如同新春...  \n",
              "232  股市躺完換黃金躺，所謂的「避險產品」很多只是媒體教給你的。迪士尼的 Disney + 將是 ...  \n",
              "233  剛從義大利回來兩個多禮拜，義大利就變成疫區；全球股市崩跌，武漢肺炎到底對股市和經濟會有什麼影...  \n",
              "\n",
              "[234 rows x 7 columns]"
            ],
            "text/html": [
              "\n",
              "  <div id=\"df-3c08df89-7306-4b47-9441-80249af1a505\">\n",
              "    <div class=\"colab-df-container\">\n",
              "      <div>\n",
              "<style scoped>\n",
              "    .dataframe tbody tr th:only-of-type {\n",
              "        vertical-align: middle;\n",
              "    }\n",
              "\n",
              "    .dataframe tbody tr th {\n",
              "        vertical-align: top;\n",
              "    }\n",
              "\n",
              "    .dataframe thead th {\n",
              "        text-align: right;\n",
              "    }\n",
              "</style>\n",
              "<table border=\"1\" class=\"dataframe\">\n",
              "  <thead>\n",
              "    <tr style=\"text-align: right;\">\n",
              "      <th></th>\n",
              "      <th>channel</th>\n",
              "      <th>date</th>\n",
              "      <th>title</th>\n",
              "      <th>long</th>\n",
              "      <th>link</th>\n",
              "      <th>audio_link</th>\n",
              "      <th>Summary</th>\n",
              "    </tr>\n",
              "  </thead>\n",
              "  <tbody>\n",
              "    <tr>\n",
              "      <th>0</th>\n",
              "      <td>Gooaye 股癌</td>\n",
              "      <td>2022-04-09</td>\n",
              "      <td>EP234 | 🕴️</td>\n",
              "      <td>52:38</td>\n",
              "      <td>https://player.soundon.fm/p/954689a5-3096-43a4...</td>\n",
              "      <td>https://chtbl.com/track/4B4E1D/rss.soundon.fm/...</td>\n",
              "      <td>Vito Corleone “Cause a man who doesn't spend t...</td>\n",
              "    </tr>\n",
              "    <tr>\n",
              "      <th>1</th>\n",
              "      <td>Gooaye 股癌</td>\n",
              "      <td>2022-04-06</td>\n",
              "      <td>EP233 | 🛵</td>\n",
              "      <td>47:52</td>\n",
              "      <td>https://player.soundon.fm/p/954689a5-3096-43a4...</td>\n",
              "      <td>https://chtbl.com/track/4B4E1D/rss.soundon.fm/...</td>\n",
              "      <td>好甩要暈車了==Welcome on board ✈️Chicco Seat3 寶寶的安全頭...</td>\n",
              "    </tr>\n",
              "    <tr>\n",
              "      <th>2</th>\n",
              "      <td>Gooaye 股癌</td>\n",
              "      <td>2022-04-02</td>\n",
              "      <td>EP232 | 🧙</td>\n",
              "      <td>50:31</td>\n",
              "      <td>https://player.soundon.fm/p/954689a5-3096-43a4...</td>\n",
              "      <td>https://chtbl.com/track/4B4E1D/rss.soundon.fm/...</td>\n",
              "      <td>盤點一下本集節目由 台灣情趣領導商城 Dr.情趣 贊助Dr. 情趣，台灣情趣第一領導商城秉持...</td>\n",
              "    </tr>\n",
              "    <tr>\n",
              "      <th>3</th>\n",
              "      <td>Gooaye 股癌</td>\n",
              "      <td>2022-03-30</td>\n",
              "      <td>EP231 | 👽</td>\n",
              "      <td>51:14</td>\n",
              "      <td>https://player.soundon.fm/p/954689a5-3096-43a4...</td>\n",
              "      <td>https://chtbl.com/track/4B4E1D/rss.soundon.fm/...</td>\n",
              "      <td>QA 有厲害的摸高大師決定要進場了各位小心史上最偉大的發明~寶寶安撫神器來了來自韓國第一品牌...</td>\n",
              "    </tr>\n",
              "    <tr>\n",
              "      <th>4</th>\n",
              "      <td>Gooaye 股癌</td>\n",
              "      <td>2022-03-26</td>\n",
              "      <td>EP230 | 🀅</td>\n",
              "      <td>52:53</td>\n",
              "      <td>https://player.soundon.fm/p/954689a5-3096-43a4...</td>\n",
              "      <td>https://chtbl.com/track/4B4E1D/rss.soundon.fm/...</td>\n",
              "      <td>這是很不真實的一個禮拜本集節目由 # Sony LinkBuds WF-L900 真無線藍牙...</td>\n",
              "    </tr>\n",
              "    <tr>\n",
              "      <th>...</th>\n",
              "      <td>...</td>\n",
              "      <td>...</td>\n",
              "      <td>...</td>\n",
              "      <td>...</td>\n",
              "      <td>...</td>\n",
              "      <td>...</td>\n",
              "      <td>...</td>\n",
              "    </tr>\n",
              "    <tr>\n",
              "      <th>229</th>\n",
              "      <td>Gooaye 股癌</td>\n",
              "      <td>2020-03-04</td>\n",
              "      <td>EP5 | ∑( ◦д⊙)‼ 🔫</td>\n",
              "      <td>27:24</td>\n",
              "      <td>https://player.soundon.fm/p/954689a5-3096-43a4...</td>\n",
              "      <td>None</td>\n",
              "      <td>聯準會緊急降息兩碼，卻沒有有效的激勵美股持續上漲，這和前天大漲 1300 點的創紀錄漲點可能...</td>\n",
              "    </tr>\n",
              "    <tr>\n",
              "      <th>230</th>\n",
              "      <td>Gooaye 股癌</td>\n",
              "      <td>2020-03-03</td>\n",
              "      <td>EP4 |( ͡° ͜ʖ ͡°)</td>\n",
              "      <td>25:27</td>\n",
              "      <td>https://player.soundon.fm/p/954689a5-3096-43a4...</td>\n",
              "      <td>https://chtbl.com/track/4B4E1D/rss.soundon.fm/...</td>\n",
              "      <td>GE 傳奇 Jack Welch 逝世，分享他的一些軼事。史上最大的反彈現蹤，是否空頭有結束...</td>\n",
              "    </tr>\n",
              "    <tr>\n",
              "      <th>231</th>\n",
              "      <td>Gooaye 股癌</td>\n",
              "      <td>2020-03-02</td>\n",
              "      <td>EP3 |( *・ω・)✄╰ひ╯</td>\n",
              "      <td>26:54</td>\n",
              "      <td>https://player.soundon.fm/p/954689a5-3096-43a4...</td>\n",
              "      <td>https://chtbl.com/track/4B4E1D/rss.soundon.fm/...</td>\n",
              "      <td>若疫情持續擴散至美國發生預防性裁員，那會是下一波的危機；中國 PMI 開出新低，如但如同新春...</td>\n",
              "    </tr>\n",
              "    <tr>\n",
              "      <th>232</th>\n",
              "      <td>Gooaye 股癌</td>\n",
              "      <td>2020-02-29</td>\n",
              "      <td>EP2 |( *・ω・)╰✄-╯</td>\n",
              "      <td>30:31</td>\n",
              "      <td>https://player.soundon.fm/p/954689a5-3096-43a4...</td>\n",
              "      <td>https://chtbl.com/track/4B4E1D/rss.soundon.fm/...</td>\n",
              "      <td>股市躺完換黃金躺，所謂的「避險產品」很多只是媒體教給你的。迪士尼的 Disney + 將是 ...</td>\n",
              "    </tr>\n",
              "    <tr>\n",
              "      <th>233</th>\n",
              "      <td>Gooaye 股癌</td>\n",
              "      <td>2020-02-27</td>\n",
              "      <td>EP1 |( *・ω・)╰—╯✄</td>\n",
              "      <td>23:43</td>\n",
              "      <td>https://player.soundon.fm/p/954689a5-3096-43a4...</td>\n",
              "      <td>https://chtbl.com/track/4B4E1D/rss.soundon.fm/...</td>\n",
              "      <td>剛從義大利回來兩個多禮拜，義大利就變成疫區；全球股市崩跌，武漢肺炎到底對股市和經濟會有什麼影...</td>\n",
              "    </tr>\n",
              "  </tbody>\n",
              "</table>\n",
              "<p>234 rows × 7 columns</p>\n",
              "</div>\n",
              "      <button class=\"colab-df-convert\" onclick=\"convertToInteractive('df-3c08df89-7306-4b47-9441-80249af1a505')\"\n",
              "              title=\"Convert this dataframe to an interactive table.\"\n",
              "              style=\"display:none;\">\n",
              "        \n",
              "  <svg xmlns=\"http://www.w3.org/2000/svg\" height=\"24px\"viewBox=\"0 0 24 24\"\n",
              "       width=\"24px\">\n",
              "    <path d=\"M0 0h24v24H0V0z\" fill=\"none\"/>\n",
              "    <path d=\"M18.56 5.44l.94 2.06.94-2.06 2.06-.94-2.06-.94-.94-2.06-.94 2.06-2.06.94zm-11 1L8.5 8.5l.94-2.06 2.06-.94-2.06-.94L8.5 2.5l-.94 2.06-2.06.94zm10 10l.94 2.06.94-2.06 2.06-.94-2.06-.94-.94-2.06-.94 2.06-2.06.94z\"/><path d=\"M17.41 7.96l-1.37-1.37c-.4-.4-.92-.59-1.43-.59-.52 0-1.04.2-1.43.59L10.3 9.45l-7.72 7.72c-.78.78-.78 2.05 0 2.83L4 21.41c.39.39.9.59 1.41.59.51 0 1.02-.2 1.41-.59l7.78-7.78 2.81-2.81c.8-.78.8-2.07 0-2.86zM5.41 20L4 18.59l7.72-7.72 1.47 1.35L5.41 20z\"/>\n",
              "  </svg>\n",
              "      </button>\n",
              "      \n",
              "  <style>\n",
              "    .colab-df-container {\n",
              "      display:flex;\n",
              "      flex-wrap:wrap;\n",
              "      gap: 12px;\n",
              "    }\n",
              "\n",
              "    .colab-df-convert {\n",
              "      background-color: #E8F0FE;\n",
              "      border: none;\n",
              "      border-radius: 50%;\n",
              "      cursor: pointer;\n",
              "      display: none;\n",
              "      fill: #1967D2;\n",
              "      height: 32px;\n",
              "      padding: 0 0 0 0;\n",
              "      width: 32px;\n",
              "    }\n",
              "\n",
              "    .colab-df-convert:hover {\n",
              "      background-color: #E2EBFA;\n",
              "      box-shadow: 0px 1px 2px rgba(60, 64, 67, 0.3), 0px 1px 3px 1px rgba(60, 64, 67, 0.15);\n",
              "      fill: #174EA6;\n",
              "    }\n",
              "\n",
              "    [theme=dark] .colab-df-convert {\n",
              "      background-color: #3B4455;\n",
              "      fill: #D2E3FC;\n",
              "    }\n",
              "\n",
              "    [theme=dark] .colab-df-convert:hover {\n",
              "      background-color: #434B5C;\n",
              "      box-shadow: 0px 1px 3px 1px rgba(0, 0, 0, 0.15);\n",
              "      filter: drop-shadow(0px 1px 2px rgba(0, 0, 0, 0.3));\n",
              "      fill: #FFFFFF;\n",
              "    }\n",
              "  </style>\n",
              "\n",
              "      <script>\n",
              "        const buttonEl =\n",
              "          document.querySelector('#df-3c08df89-7306-4b47-9441-80249af1a505 button.colab-df-convert');\n",
              "        buttonEl.style.display =\n",
              "          google.colab.kernel.accessAllowed ? 'block' : 'none';\n",
              "\n",
              "        async function convertToInteractive(key) {\n",
              "          const element = document.querySelector('#df-3c08df89-7306-4b47-9441-80249af1a505');\n",
              "          const dataTable =\n",
              "            await google.colab.kernel.invokeFunction('convertToInteractive',\n",
              "                                                     [key], {});\n",
              "          if (!dataTable) return;\n",
              "\n",
              "          const docLinkHtml = 'Like what you see? Visit the ' +\n",
              "            '<a target=\"_blank\" href=https://colab.research.google.com/notebooks/data_table.ipynb>data table notebook</a>'\n",
              "            + ' to learn more about interactive tables.';\n",
              "          element.innerHTML = '';\n",
              "          dataTable['output_type'] = 'display_data';\n",
              "          await google.colab.output.renderOutput(dataTable, element);\n",
              "          const docLink = document.createElement('div');\n",
              "          docLink.innerHTML = docLinkHtml;\n",
              "          element.appendChild(docLink);\n",
              "        }\n",
              "      </script>\n",
              "    </div>\n",
              "  </div>\n",
              "  "
            ]
          },
          "metadata": {},
          "execution_count": 55
        }
      ]
    },
    {
      "cell_type": "code",
      "source": [
        "from google.colab import drive\n",
        "drive.mount('/content/drive')\n",
        "\n",
        "\n",
        "data = pd.concat([channel_name, date, title, time_long, links, audio_link, Summary], axis=1)\n",
        "data.columns = ['channel', 'date', 'title', 'long', 'link', 'audio_link', 'Summary']\n",
        "\n",
        "\n",
        "#輸出檔案\n",
        "path = '/content/drive/MyDrive/DATA set/'+file_name+'.csv'\n",
        "data.to_csv(path, index=None)"
      ],
      "metadata": {
        "id": "Q2QFm4hr7Qo5",
        "colab": {
          "base_uri": "https://localhost:8080/"
        },
        "outputId": "6debcf59-0c42-4eaa-f909-aa1c5a3d79de"
      },
      "execution_count": null,
      "outputs": [
        {
          "output_type": "stream",
          "name": "stdout",
          "text": [
            "Drive already mounted at /content/drive; to attempt to forcibly remount, call drive.mount(\"/content/drive\", force_remount=True).\n"
          ]
        }
      ]
    },
    {
      "cell_type": "code",
      "source": [
        "import requests\n"
      ],
      "metadata": {
        "colab": {
          "base_uri": "https://localhost:8080/"
        },
        "id": "4iJmfGx7TxbM",
        "outputId": "fb0792f2-423c-4fa5-b15e-c322cc30192a"
      },
      "execution_count": null,
      "outputs": [
        {
          "output_type": "stream",
          "name": "stdout",
          "text": [
            "Collecting tensorflow-io\n",
            "  Downloading tensorflow_io-0.24.0-cp37-cp37m-manylinux_2_12_x86_64.manylinux2010_x86_64.whl (23.4 MB)\n",
            "\u001b[K     |████████████████████████████████| 23.4 MB 1.2 MB/s \n",
            "\u001b[?25hRequirement already satisfied: tensorflow-io-gcs-filesystem==0.24.0 in /usr/local/lib/python3.7/dist-packages (from tensorflow-io) (0.24.0)\n",
            "Installing collected packages: tensorflow-io\n",
            "Successfully installed tensorflow-io-0.24.0\n"
          ]
        }
      ]
    },
    {
      "cell_type": "code",
      "source": [
        "\n",
        "\n",
        "\n",
        "url = \"https://anchor.fm/s/209541b8/podcast/play/47944792/https%3A%2F%2Fd3ctxlq1ktw2nl.cloudfront.net%2Fstaging%2F2022-1-20%2F249492821-44100-2-664ddbe3944b5.m4a\"    # 音频的URL\n",
        "req = requests.get(url) \n"
      ],
      "metadata": {
        "colab": {
          "base_uri": "https://localhost:8080/",
          "height": 472
        },
        "id": "Tztbxnm6USkl",
        "outputId": "5d765450-0d81-4606-d9eb-3291a83f591e"
      },
      "execution_count": null,
      "outputs": [
        {
          "output_type": "error",
          "ename": "ValueError",
          "evalue": "ignored",
          "traceback": [
            "\u001b[0;31m---------------------------------------------------------------------------\u001b[0m",
            "\u001b[0;31mValueError\u001b[0m                                Traceback (most recent call last)",
            "\u001b[0;32m<ipython-input-5-e421e9fbfc2b>\u001b[0m in \u001b[0;36m<module>\u001b[0;34m()\u001b[0m\n\u001b[1;32m      8\u001b[0m \u001b[0mreq\u001b[0m \u001b[0;34m=\u001b[0m \u001b[0mrequests\u001b[0m\u001b[0;34m.\u001b[0m\u001b[0mget\u001b[0m\u001b[0;34m(\u001b[0m\u001b[0murl\u001b[0m\u001b[0;34m)\u001b[0m\u001b[0;34m\u001b[0m\u001b[0;34m\u001b[0m\u001b[0m\n\u001b[1;32m      9\u001b[0m \u001b[0;34m\u001b[0m\u001b[0m\n\u001b[0;32m---> 10\u001b[0;31m \u001b[0maudio\u001b[0m \u001b[0;34m=\u001b[0m \u001b[0mtfio\u001b[0m\u001b[0;34m.\u001b[0m\u001b[0maudio\u001b[0m\u001b[0;34m.\u001b[0m\u001b[0mAudioIOTensor\u001b[0m\u001b[0;34m(\u001b[0m\u001b[0mreq\u001b[0m\u001b[0;34m)\u001b[0m\u001b[0;34m\u001b[0m\u001b[0;34m\u001b[0m\u001b[0m\n\u001b[0m\u001b[1;32m     11\u001b[0m \u001b[0;34m\u001b[0m\u001b[0m\n\u001b[1;32m     12\u001b[0m \u001b[0mprint\u001b[0m\u001b[0;34m(\u001b[0m\u001b[0maudio\u001b[0m\u001b[0;34m)\u001b[0m\u001b[0;34m\u001b[0m\u001b[0;34m\u001b[0m\u001b[0m\n",
            "\u001b[0;32m/usr/local/lib/python3.7/dist-packages/tensorflow_io/python/ops/audio_ops.py\u001b[0m in \u001b[0;36m__init__\u001b[0;34m(self, filename, dtype)\u001b[0m\n\u001b[1;32m    662\u001b[0m             \u001b[0;32mif\u001b[0m \u001b[0;32mnot\u001b[0m \u001b[0mtf\u001b[0m\u001b[0;34m.\u001b[0m\u001b[0mexecuting_eagerly\u001b[0m\u001b[0;34m(\u001b[0m\u001b[0;34m)\u001b[0m\u001b[0;34m:\u001b[0m\u001b[0;34m\u001b[0m\u001b[0;34m\u001b[0m\u001b[0m\n\u001b[1;32m    663\u001b[0m                 \u001b[0;32massert\u001b[0m \u001b[0mdtype\u001b[0m \u001b[0;32mis\u001b[0m \u001b[0;32mnot\u001b[0m \u001b[0;32mNone\u001b[0m\u001b[0;34m,\u001b[0m \u001b[0;34m\"dtype must be provided in graph mode\"\u001b[0m\u001b[0;34m\u001b[0m\u001b[0;34m\u001b[0m\u001b[0m\n\u001b[0;32m--> 664\u001b[0;31m             \u001b[0mresource\u001b[0m \u001b[0;34m=\u001b[0m \u001b[0mcore_ops\u001b[0m\u001b[0;34m.\u001b[0m\u001b[0mio_audio_readable_init\u001b[0m\u001b[0;34m(\u001b[0m\u001b[0mfilename\u001b[0m\u001b[0;34m)\u001b[0m\u001b[0;34m\u001b[0m\u001b[0;34m\u001b[0m\u001b[0m\n\u001b[0m\u001b[1;32m    665\u001b[0m             \u001b[0;32mif\u001b[0m \u001b[0mtf\u001b[0m\u001b[0;34m.\u001b[0m\u001b[0mexecuting_eagerly\u001b[0m\u001b[0;34m(\u001b[0m\u001b[0;34m)\u001b[0m\u001b[0;34m:\u001b[0m\u001b[0;34m\u001b[0m\u001b[0;34m\u001b[0m\u001b[0m\n\u001b[1;32m    666\u001b[0m                 \u001b[0mshape\u001b[0m\u001b[0;34m,\u001b[0m \u001b[0mdtype\u001b[0m\u001b[0;34m,\u001b[0m \u001b[0mrate\u001b[0m \u001b[0;34m=\u001b[0m \u001b[0mcore_ops\u001b[0m\u001b[0;34m.\u001b[0m\u001b[0mio_audio_readable_spec\u001b[0m\u001b[0;34m(\u001b[0m\u001b[0mresource\u001b[0m\u001b[0;34m)\u001b[0m\u001b[0;34m\u001b[0m\u001b[0;34m\u001b[0m\u001b[0m\n",
            "\u001b[0;32m<string>\u001b[0m in \u001b[0;36mio_audio_readable_init\u001b[0;34m(input, container, shared_name, name)\u001b[0m\n",
            "\u001b[0;32m<string>\u001b[0m in \u001b[0;36mio_audio_readable_init_eager_fallback\u001b[0;34m(input, container, shared_name, name, ctx)\u001b[0m\n",
            "\u001b[0;32m/usr/local/lib/python3.7/dist-packages/tensorflow/python/profiler/trace.py\u001b[0m in \u001b[0;36mwrapped\u001b[0;34m(*args, **kwargs)\u001b[0m\n\u001b[1;32m    181\u001b[0m         \u001b[0;32mwith\u001b[0m \u001b[0mTrace\u001b[0m\u001b[0;34m(\u001b[0m\u001b[0mtrace_name\u001b[0m\u001b[0;34m,\u001b[0m \u001b[0;34m**\u001b[0m\u001b[0mtrace_kwargs\u001b[0m\u001b[0;34m)\u001b[0m\u001b[0;34m:\u001b[0m\u001b[0;34m\u001b[0m\u001b[0;34m\u001b[0m\u001b[0m\n\u001b[1;32m    182\u001b[0m           \u001b[0;32mreturn\u001b[0m \u001b[0mfunc\u001b[0m\u001b[0;34m(\u001b[0m\u001b[0;34m*\u001b[0m\u001b[0margs\u001b[0m\u001b[0;34m,\u001b[0m \u001b[0;34m**\u001b[0m\u001b[0mkwargs\u001b[0m\u001b[0;34m)\u001b[0m\u001b[0;34m\u001b[0m\u001b[0;34m\u001b[0m\u001b[0m\n\u001b[0;32m--> 183\u001b[0;31m       \u001b[0;32mreturn\u001b[0m \u001b[0mfunc\u001b[0m\u001b[0;34m(\u001b[0m\u001b[0;34m*\u001b[0m\u001b[0margs\u001b[0m\u001b[0;34m,\u001b[0m \u001b[0;34m**\u001b[0m\u001b[0mkwargs\u001b[0m\u001b[0;34m)\u001b[0m\u001b[0;34m\u001b[0m\u001b[0;34m\u001b[0m\u001b[0m\n\u001b[0m\u001b[1;32m    184\u001b[0m \u001b[0;34m\u001b[0m\u001b[0m\n\u001b[1;32m    185\u001b[0m     \u001b[0;32mreturn\u001b[0m \u001b[0mwrapped\u001b[0m\u001b[0;34m\u001b[0m\u001b[0;34m\u001b[0m\u001b[0m\n",
            "\u001b[0;32m/usr/local/lib/python3.7/dist-packages/tensorflow/python/framework/ops.py\u001b[0m in \u001b[0;36mconvert_to_tensor\u001b[0;34m(value, dtype, name, as_ref, preferred_dtype, dtype_hint, ctx, accepted_result_types)\u001b[0m\n\u001b[1;32m   1693\u001b[0m \u001b[0;34m\u001b[0m\u001b[0m\n\u001b[1;32m   1694\u001b[0m     \u001b[0;32mif\u001b[0m \u001b[0mret\u001b[0m \u001b[0;32mis\u001b[0m \u001b[0;32mNone\u001b[0m\u001b[0;34m:\u001b[0m\u001b[0;34m\u001b[0m\u001b[0;34m\u001b[0m\u001b[0m\n\u001b[0;32m-> 1695\u001b[0;31m       \u001b[0mret\u001b[0m \u001b[0;34m=\u001b[0m \u001b[0mconversion_func\u001b[0m\u001b[0;34m(\u001b[0m\u001b[0mvalue\u001b[0m\u001b[0;34m,\u001b[0m \u001b[0mdtype\u001b[0m\u001b[0;34m=\u001b[0m\u001b[0mdtype\u001b[0m\u001b[0;34m,\u001b[0m \u001b[0mname\u001b[0m\u001b[0;34m=\u001b[0m\u001b[0mname\u001b[0m\u001b[0;34m,\u001b[0m \u001b[0mas_ref\u001b[0m\u001b[0;34m=\u001b[0m\u001b[0mas_ref\u001b[0m\u001b[0;34m)\u001b[0m\u001b[0;34m\u001b[0m\u001b[0;34m\u001b[0m\u001b[0m\n\u001b[0m\u001b[1;32m   1696\u001b[0m \u001b[0;34m\u001b[0m\u001b[0m\n\u001b[1;32m   1697\u001b[0m     \u001b[0;32mif\u001b[0m \u001b[0mret\u001b[0m \u001b[0;32mis\u001b[0m \u001b[0mNotImplemented\u001b[0m\u001b[0;34m:\u001b[0m\u001b[0;34m\u001b[0m\u001b[0;34m\u001b[0m\u001b[0m\n",
            "\u001b[0;32m/usr/local/lib/python3.7/dist-packages/tensorflow/python/framework/constant_op.py\u001b[0m in \u001b[0;36m_constant_tensor_conversion_function\u001b[0;34m(v, dtype, name, as_ref)\u001b[0m\n\u001b[1;32m    341\u001b[0m                                          as_ref=False):\n\u001b[1;32m    342\u001b[0m   \u001b[0m_\u001b[0m \u001b[0;34m=\u001b[0m \u001b[0mas_ref\u001b[0m\u001b[0;34m\u001b[0m\u001b[0;34m\u001b[0m\u001b[0m\n\u001b[0;32m--> 343\u001b[0;31m   \u001b[0;32mreturn\u001b[0m \u001b[0mconstant\u001b[0m\u001b[0;34m(\u001b[0m\u001b[0mv\u001b[0m\u001b[0;34m,\u001b[0m \u001b[0mdtype\u001b[0m\u001b[0;34m=\u001b[0m\u001b[0mdtype\u001b[0m\u001b[0;34m,\u001b[0m \u001b[0mname\u001b[0m\u001b[0;34m=\u001b[0m\u001b[0mname\u001b[0m\u001b[0;34m)\u001b[0m\u001b[0;34m\u001b[0m\u001b[0;34m\u001b[0m\u001b[0m\n\u001b[0m\u001b[1;32m    344\u001b[0m \u001b[0;34m\u001b[0m\u001b[0m\n\u001b[1;32m    345\u001b[0m \u001b[0;34m\u001b[0m\u001b[0m\n",
            "\u001b[0;32m/usr/local/lib/python3.7/dist-packages/tensorflow/python/framework/constant_op.py\u001b[0m in \u001b[0;36mconstant\u001b[0;34m(value, dtype, shape, name)\u001b[0m\n\u001b[1;32m    266\u001b[0m   \"\"\"\n\u001b[1;32m    267\u001b[0m   return _constant_impl(value, dtype, shape, name, verify_shape=False,\n\u001b[0;32m--> 268\u001b[0;31m                         allow_broadcast=True)\n\u001b[0m\u001b[1;32m    269\u001b[0m \u001b[0;34m\u001b[0m\u001b[0m\n\u001b[1;32m    270\u001b[0m \u001b[0;34m\u001b[0m\u001b[0m\n",
            "\u001b[0;32m/usr/local/lib/python3.7/dist-packages/tensorflow/python/framework/constant_op.py\u001b[0m in \u001b[0;36m_constant_impl\u001b[0;34m(value, dtype, shape, name, verify_shape, allow_broadcast)\u001b[0m\n\u001b[1;32m    277\u001b[0m       \u001b[0;32mwith\u001b[0m \u001b[0mtrace\u001b[0m\u001b[0;34m.\u001b[0m\u001b[0mTrace\u001b[0m\u001b[0;34m(\u001b[0m\u001b[0;34m\"tf.constant\"\u001b[0m\u001b[0;34m)\u001b[0m\u001b[0;34m:\u001b[0m\u001b[0;34m\u001b[0m\u001b[0;34m\u001b[0m\u001b[0m\n\u001b[1;32m    278\u001b[0m         \u001b[0;32mreturn\u001b[0m \u001b[0m_constant_eager_impl\u001b[0m\u001b[0;34m(\u001b[0m\u001b[0mctx\u001b[0m\u001b[0;34m,\u001b[0m \u001b[0mvalue\u001b[0m\u001b[0;34m,\u001b[0m \u001b[0mdtype\u001b[0m\u001b[0;34m,\u001b[0m \u001b[0mshape\u001b[0m\u001b[0;34m,\u001b[0m \u001b[0mverify_shape\u001b[0m\u001b[0;34m)\u001b[0m\u001b[0;34m\u001b[0m\u001b[0;34m\u001b[0m\u001b[0m\n\u001b[0;32m--> 279\u001b[0;31m     \u001b[0;32mreturn\u001b[0m \u001b[0m_constant_eager_impl\u001b[0m\u001b[0;34m(\u001b[0m\u001b[0mctx\u001b[0m\u001b[0;34m,\u001b[0m \u001b[0mvalue\u001b[0m\u001b[0;34m,\u001b[0m \u001b[0mdtype\u001b[0m\u001b[0;34m,\u001b[0m \u001b[0mshape\u001b[0m\u001b[0;34m,\u001b[0m \u001b[0mverify_shape\u001b[0m\u001b[0;34m)\u001b[0m\u001b[0;34m\u001b[0m\u001b[0;34m\u001b[0m\u001b[0m\n\u001b[0m\u001b[1;32m    280\u001b[0m \u001b[0;34m\u001b[0m\u001b[0m\n\u001b[1;32m    281\u001b[0m   \u001b[0mg\u001b[0m \u001b[0;34m=\u001b[0m \u001b[0mops\u001b[0m\u001b[0;34m.\u001b[0m\u001b[0mget_default_graph\u001b[0m\u001b[0;34m(\u001b[0m\u001b[0;34m)\u001b[0m\u001b[0;34m\u001b[0m\u001b[0;34m\u001b[0m\u001b[0m\n",
            "\u001b[0;32m/usr/local/lib/python3.7/dist-packages/tensorflow/python/framework/constant_op.py\u001b[0m in \u001b[0;36m_constant_eager_impl\u001b[0;34m(ctx, value, dtype, shape, verify_shape)\u001b[0m\n\u001b[1;32m    302\u001b[0m \u001b[0;32mdef\u001b[0m \u001b[0m_constant_eager_impl\u001b[0m\u001b[0;34m(\u001b[0m\u001b[0mctx\u001b[0m\u001b[0;34m,\u001b[0m \u001b[0mvalue\u001b[0m\u001b[0;34m,\u001b[0m \u001b[0mdtype\u001b[0m\u001b[0;34m,\u001b[0m \u001b[0mshape\u001b[0m\u001b[0;34m,\u001b[0m \u001b[0mverify_shape\u001b[0m\u001b[0;34m)\u001b[0m\u001b[0;34m:\u001b[0m\u001b[0;34m\u001b[0m\u001b[0;34m\u001b[0m\u001b[0m\n\u001b[1;32m    303\u001b[0m   \u001b[0;34m\"\"\"Creates a constant on the current device.\"\"\"\u001b[0m\u001b[0;34m\u001b[0m\u001b[0;34m\u001b[0m\u001b[0m\n\u001b[0;32m--> 304\u001b[0;31m   \u001b[0mt\u001b[0m \u001b[0;34m=\u001b[0m \u001b[0mconvert_to_eager_tensor\u001b[0m\u001b[0;34m(\u001b[0m\u001b[0mvalue\u001b[0m\u001b[0;34m,\u001b[0m \u001b[0mctx\u001b[0m\u001b[0;34m,\u001b[0m \u001b[0mdtype\u001b[0m\u001b[0;34m)\u001b[0m\u001b[0;34m\u001b[0m\u001b[0;34m\u001b[0m\u001b[0m\n\u001b[0m\u001b[1;32m    305\u001b[0m   \u001b[0;32mif\u001b[0m \u001b[0mshape\u001b[0m \u001b[0;32mis\u001b[0m \u001b[0;32mNone\u001b[0m\u001b[0;34m:\u001b[0m\u001b[0;34m\u001b[0m\u001b[0;34m\u001b[0m\u001b[0m\n\u001b[1;32m    306\u001b[0m     \u001b[0;32mreturn\u001b[0m \u001b[0mt\u001b[0m\u001b[0;34m\u001b[0m\u001b[0;34m\u001b[0m\u001b[0m\n",
            "\u001b[0;32m/usr/local/lib/python3.7/dist-packages/tensorflow/python/framework/constant_op.py\u001b[0m in \u001b[0;36mconvert_to_eager_tensor\u001b[0;34m(value, ctx, dtype)\u001b[0m\n\u001b[1;32m    100\u001b[0m       \u001b[0mdtype\u001b[0m \u001b[0;34m=\u001b[0m \u001b[0mdtypes\u001b[0m\u001b[0;34m.\u001b[0m\u001b[0mas_dtype\u001b[0m\u001b[0;34m(\u001b[0m\u001b[0mdtype\u001b[0m\u001b[0;34m)\u001b[0m\u001b[0;34m.\u001b[0m\u001b[0mas_datatype_enum\u001b[0m\u001b[0;34m\u001b[0m\u001b[0;34m\u001b[0m\u001b[0m\n\u001b[1;32m    101\u001b[0m   \u001b[0mctx\u001b[0m\u001b[0;34m.\u001b[0m\u001b[0mensure_initialized\u001b[0m\u001b[0;34m(\u001b[0m\u001b[0;34m)\u001b[0m\u001b[0;34m\u001b[0m\u001b[0;34m\u001b[0m\u001b[0m\n\u001b[0;32m--> 102\u001b[0;31m   \u001b[0;32mreturn\u001b[0m \u001b[0mops\u001b[0m\u001b[0;34m.\u001b[0m\u001b[0mEagerTensor\u001b[0m\u001b[0;34m(\u001b[0m\u001b[0mvalue\u001b[0m\u001b[0;34m,\u001b[0m \u001b[0mctx\u001b[0m\u001b[0;34m.\u001b[0m\u001b[0mdevice_name\u001b[0m\u001b[0;34m,\u001b[0m \u001b[0mdtype\u001b[0m\u001b[0;34m)\u001b[0m\u001b[0;34m\u001b[0m\u001b[0;34m\u001b[0m\u001b[0m\n\u001b[0m\u001b[1;32m    103\u001b[0m \u001b[0;34m\u001b[0m\u001b[0m\n\u001b[1;32m    104\u001b[0m \u001b[0;34m\u001b[0m\u001b[0m\n",
            "\u001b[0;31mValueError\u001b[0m: Attempt to convert a value (<Response [200]>) with an unsupported type (<class 'requests.models.Response'>) to a Tensor."
          ]
        }
      ]
    }
  ]
}