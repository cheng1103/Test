{
  "nbformat": 4,
  "nbformat_minor": 0,
  "metadata": {
    "colab": {
      "name": "Google Podcast.ipynb",
      "provenance": [],
      "collapsed_sections": [],
      "authorship_tag": "ABX9TyOK6AzELBlL1G2C+Z1evQLn",
      "include_colab_link": true
    },
    "kernelspec": {
      "name": "python3",
      "display_name": "Python 3"
    },
    "language_info": {
      "name": "python"
    }
  },
  "cells": [
    {
      "cell_type": "markdown",
      "metadata": {
        "id": "view-in-github",
        "colab_type": "text"
      },
      "source": [
        "<a href=\"https://colab.research.google.com/github/cheng1103/Test/blob/main/Google_Podcast.ipynb\" target=\"_parent\"><img src=\"https://colab.research.google.com/assets/colab-badge.svg\" alt=\"Open In Colab\"/></a>"
      ]
    },
    {
      "cell_type": "markdown",
      "source": [
        "<h1><strong>Google Podcast 爬蟲(用於Colab平台)</strong></h1>\n",
        "\n",
        "<p>爬取Google Podcast，只要輸入頻道的網址，便能擷取所有的單集，並包含以下資訊：出刊日、標題、長度、單集連結、音訊連結、單集摘要</p>\n",
        "\n",
        "<p><strong>可同時下載各集音檔</strong></p>\n"
      ],
      "metadata": {
        "id": "6JD73KWlKnhr"
      }
    },
    {
      "cell_type": "markdown",
      "source": [
        "# 頻道網址設定"
      ],
      "metadata": {
        "id": "BHDCJXrdPVwe"
      }
    },
    {
      "cell_type": "code",
      "source": [
        "#url = 'https://podcasts.google.com/feed/aHR0cHM6Ly9hbmNob3IuZm0vcy8yMDk1NDFiOC9wb2RjYXN0L3Jzcw?sa=X&ved=0CAYQrrcFahcKEwigwavVo5H3AhUAAAAAHQAAAAAQAQ' #財報狗\n",
        "#url = 'https://podcasts.google.com/feed/aHR0cHM6Ly9mZWVkcy5zb3VuZG9uLmZtL3BvZGNhc3RzLzk1NDY4OWE1LTMwOTYtNDNhNC1hODBiLTc4MTBiMjE5Y2VmMy54bWw' #股癌\n",
        "#url = 'https://podcasts.google.com/feed/aHR0cHM6Ly9hcGkuc291bmRvbi5mbS92Mi9wb2RjYXN0cy9jOTJjYjY2YS0xNGZjLTQxMmYtODRhYS0wODEyNWFkZDVjYTkvZmVlZC54bWw?sa=X&ved=0CAMQ4aUDahcKEwiYgunN8JL3AhUAAAAAHQAAAAAQLQ' #IEO 看什麼\n",
        "url = 'https://podcasts.google.com/feed/aHR0cHM6Ly9hcGkuc291bmRvbi5mbS92Mi9wb2RjYXN0cy80YTg2NjBhMC1lMGQwLTQ5MGItOGQ0Ni1jMjgyMTk2MDZmNDcvZmVlZC54bWw' #美股投資學－財女Jenny\n",
        "#url = 'https://podcasts.google.com/feed/aHR0cHM6Ly9hcGkuc291bmRvbi5mbS92Mi9wb2RjYXN0cy9kMzkwNzk2MS1lYjI0LTQ3MDUtOGVmMS01MTdlY2JkZmJjNDYvZmVlZC54bWw' #Gamma - 科技投資\n",
        "\n",
        "\n"
      ],
      "metadata": {
        "id": "ViHfASqxqzw8"
      },
      "execution_count": 179,
      "outputs": []
    },
    {
      "cell_type": "markdown",
      "source": [
        "# 安裝並載入套件"
      ],
      "metadata": {
        "id": "QesQpGIsPeo-"
      }
    },
    {
      "cell_type": "code",
      "execution_count": 45,
      "metadata": {
        "id": "8Rbe4HREr8BT",
        "colab": {
          "base_uri": "https://localhost:8080/"
        },
        "outputId": "d14f7876-dc79-49b3-ecfa-788d03ed64ee"
      },
      "outputs": [
        {
          "output_type": "stream",
          "name": "stdout",
          "text": [
            "Requirement already satisfied: selenium in /usr/local/lib/python3.7/dist-packages (4.1.3)\n",
            "Requirement already satisfied: urllib3[secure,socks]~=1.26 in /usr/local/lib/python3.7/dist-packages (from selenium) (1.26.9)\n",
            "Requirement already satisfied: trio~=0.17 in /usr/local/lib/python3.7/dist-packages (from selenium) (0.20.0)\n",
            "Requirement already satisfied: trio-websocket~=0.9 in /usr/local/lib/python3.7/dist-packages (from selenium) (0.9.2)\n",
            "Requirement already satisfied: outcome in /usr/local/lib/python3.7/dist-packages (from trio~=0.17->selenium) (1.1.0)\n",
            "Requirement already satisfied: async-generator>=1.9 in /usr/local/lib/python3.7/dist-packages (from trio~=0.17->selenium) (1.10)\n",
            "Requirement already satisfied: attrs>=19.2.0 in /usr/local/lib/python3.7/dist-packages (from trio~=0.17->selenium) (21.4.0)\n",
            "Requirement already satisfied: sniffio in /usr/local/lib/python3.7/dist-packages (from trio~=0.17->selenium) (1.2.0)\n",
            "Requirement already satisfied: sortedcontainers in /usr/local/lib/python3.7/dist-packages (from trio~=0.17->selenium) (2.4.0)\n",
            "Requirement already satisfied: idna in /usr/local/lib/python3.7/dist-packages (from trio~=0.17->selenium) (2.10)\n",
            "Requirement already satisfied: wsproto>=0.14 in /usr/local/lib/python3.7/dist-packages (from trio-websocket~=0.9->selenium) (1.1.0)\n",
            "Requirement already satisfied: certifi in /usr/local/lib/python3.7/dist-packages (from urllib3[secure,socks]~=1.26->selenium) (2021.10.8)\n",
            "Requirement already satisfied: cryptography>=1.3.4 in /usr/local/lib/python3.7/dist-packages (from urllib3[secure,socks]~=1.26->selenium) (36.0.2)\n",
            "Requirement already satisfied: pyOpenSSL>=0.14 in /usr/local/lib/python3.7/dist-packages (from urllib3[secure,socks]~=1.26->selenium) (22.0.0)\n",
            "Requirement already satisfied: PySocks!=1.5.7,<2.0,>=1.5.6 in /usr/local/lib/python3.7/dist-packages (from urllib3[secure,socks]~=1.26->selenium) (1.7.1)\n",
            "Requirement already satisfied: cffi>=1.12 in /usr/local/lib/python3.7/dist-packages (from cryptography>=1.3.4->urllib3[secure,socks]~=1.26->selenium) (1.15.0)\n",
            "Requirement already satisfied: pycparser in /usr/local/lib/python3.7/dist-packages (from cffi>=1.12->cryptography>=1.3.4->urllib3[secure,socks]~=1.26->selenium) (2.21)\n",
            "Requirement already satisfied: h11<1,>=0.9.0 in /usr/local/lib/python3.7/dist-packages (from wsproto>=0.14->trio-websocket~=0.9->selenium) (0.13.0)\n",
            "Requirement already satisfied: typing-extensions in /usr/local/lib/python3.7/dist-packages (from h11<1,>=0.9.0->wsproto>=0.14->trio-websocket~=0.9->selenium) (4.1.1)\n",
            "Hit:1 https://cloud.r-project.org/bin/linux/ubuntu bionic-cran40/ InRelease\n",
            "Ign:2 https://developer.download.nvidia.com/compute/cuda/repos/ubuntu1804/x86_64  InRelease\n",
            "Hit:3 http://archive.ubuntu.com/ubuntu bionic InRelease\n",
            "Get:4 http://security.ubuntu.com/ubuntu bionic-security InRelease [88.7 kB]\n",
            "Ign:5 https://developer.download.nvidia.com/compute/machine-learning/repos/ubuntu1804/x86_64  InRelease\n",
            "Hit:6 https://developer.download.nvidia.com/compute/cuda/repos/ubuntu1804/x86_64  Release\n",
            "Hit:7 https://developer.download.nvidia.com/compute/machine-learning/repos/ubuntu1804/x86_64  Release\n",
            "Hit:8 http://ppa.launchpad.net/c2d4u.team/c2d4u4.0+/ubuntu bionic InRelease\n",
            "Get:9 http://archive.ubuntu.com/ubuntu bionic-updates InRelease [88.7 kB]\n",
            "Hit:11 http://ppa.launchpad.net/cran/libgit2/ubuntu bionic InRelease\n",
            "Get:13 http://archive.ubuntu.com/ubuntu bionic-backports InRelease [74.6 kB]\n",
            "Hit:14 http://ppa.launchpad.net/deadsnakes/ppa/ubuntu bionic InRelease\n",
            "Hit:15 http://ppa.launchpad.net/graphics-drivers/ppa/ubuntu bionic InRelease\n",
            "Fetched 252 kB in 3s (93.6 kB/s)\n",
            "Reading package lists... Done\n",
            "Reading package lists... Done\n",
            "Building dependency tree       \n",
            "Reading state information... Done\n",
            "chromium-chromedriver is already the newest version (99.0.4844.84-0ubuntu0.18.04.1).\n",
            "0 upgraded, 0 newly installed, 0 to remove and 45 not upgraded.\n",
            "cp: '/usr/lib/chromium-browser/chromedriver' and '/usr/bin/chromedriver' are the same file\n",
            "Requirement already satisfied: fake_useragent in /usr/local/lib/python3.7/dist-packages (0.1.11)\n",
            "Drive already mounted at /content/drive; to attempt to forcibly remount, call drive.mount(\"/content/drive\", force_remount=True).\n"
          ]
        }
      ],
      "source": [
        "!pip install selenium\n",
        "!apt-get update # to update ubuntu to correctly run apt install\n",
        "#!apt-get install xvfb\n",
        "!apt install chromium-chromedriver\n",
        "!cp /usr/lib/chromium-browser/chromedriver /usr/bin\n",
        "import sys\n",
        "sys.path.insert(0,'/usr/lib/chromium-browser/chromedriver')\n",
        "from selenium import webdriver\n",
        "from selenium.webdriver.chrome.options import Options\n",
        "from selenium.webdriver.common.by import By\n",
        "from selenium.webdriver import ActionChains\n",
        "\n",
        "\n",
        "!pip install fake_useragent\n",
        "from fake_useragent import UserAgent\n",
        "from lxml import etree\n",
        "import requests\n",
        "import pandas as pd\n",
        "import random\n",
        "import time\n",
        "\n",
        "from google.colab import drive\n",
        "drive.mount('/content/drive')"
      ]
    },
    {
      "cell_type": "markdown",
      "source": [
        "#瀏覽器參數設定"
      ],
      "metadata": {
        "id": "f7rTtHcqPogw"
      }
    },
    {
      "cell_type": "code",
      "source": [
        "chrome_options = webdriver.ChromeOptions()\n",
        "chrome_options.add_argument('--headless')\n",
        "chrome_options.add_argument('--no-sandbox')\n",
        "chrome_options.add_argument('--disable-dev-shm-usage')\n",
        "browser = webdriver.Chrome('chromedriver',chrome_options=chrome_options)\n"
      ],
      "metadata": {
        "id": "76Ay3RLg48oO",
        "colab": {
          "base_uri": "https://localhost:8080/"
        },
        "outputId": "24d6fd99-08e9-44cf-8146-d3a66b1d04bd"
      },
      "execution_count": 108,
      "outputs": [
        {
          "output_type": "stream",
          "name": "stderr",
          "text": [
            "/usr/local/lib/python3.7/dist-packages/ipykernel_launcher.py:5: DeprecationWarning: use options instead of chrome_options\n",
            "  \"\"\"\n"
          ]
        }
      ]
    },
    {
      "cell_type": "markdown",
      "source": [
        "#擷取頻道資料"
      ],
      "metadata": {
        "id": "ciOHJ3GSP22d"
      }
    },
    {
      "cell_type": "code",
      "source": [
        "headers = UserAgent().random\n",
        "req = requests.get(url, headers={\"User-Agent\":headers})\n",
        "req = req.content.decode()\n",
        "req = etree.HTML(req)\n",
        "\n",
        "channel_name = req.xpath('//*[@id=\"yDmH0d\"]/c-wiz/div/div[2]/div/div[1]/div[1]/div[1]/text()')\n",
        "channel_name = str(channel_name[0])\n",
        "date = req.xpath('//*[@id=\"yDmH0d\"]/c-wiz/div/div[2]/div/div[2]/div[2]/a/div/div[1]/text()')\n",
        "title = req.xpath('//*[@id=\"yDmH0d\"]/c-wiz/div/div[2]/div/div[2]/div[2]/a/div/div[2]/div/text()')\n",
        "length = req.xpath('//*[@id=\"yDmH0d\"]/c-wiz/div/div[2]/div/div[2]/div[2]/a/div/div[4]/div[1]/div/div/span/text()')\n",
        "links = req.xpath('//*[@id=\"yDmH0d\"]/c-wiz/div/div[2]/div/div[2]/div[2]/a/@href')\n",
        "Summary = req.xpath('//*[@id=\"yDmH0d\"]/c-wiz/div/div[2]/div/div[2]/div[2]/a/div/div[3]/text()')\n",
        "\n",
        "for i in range(len(title)):\n",
        "  url = links[i]\n",
        "  url = url[1:len(url)]\n",
        "  links[i] = 'https://podcasts.google.com' + url\n",
        "  Summary[i] = Summary[i].replace('\\n', '').replace('\\xa0', '')\n",
        "\n",
        "date = pd.DataFrame(date)\n",
        "title = pd.DataFrame(title)\n",
        "length = pd.DataFrame(length)\n",
        "links = pd.DataFrame(links)\n",
        "Summary = pd.DataFrame(Summary)\n",
        "temp_data = pd.concat([date, title, length, links], axis=1)\n",
        "temp_data.columns = ['date', 'title', 'length', 'link']"
      ],
      "metadata": {
        "id": "qc0ZVbS9saCK"
      },
      "execution_count": 180,
      "outputs": []
    },
    {
      "cell_type": "code",
      "source": [
        "#擷取音訊連結\n",
        "audio_link = []\n",
        "\n",
        "for i in range(len(temp_data)):\n",
        "  url = temp_data['link'][i]\n",
        "  browser.get(url)\n",
        "\n",
        "  t = random.uniform(1, 1.5) #隨機數\n",
        "  time.sleep(t) #暫停\n",
        "\n",
        "  element = browser.find_element(by=By.XPATH, value='//*[@id=\"yDmH0d\"]/c-wiz/div/div[2]/div/div[1]/div[3]/div[1]')\n",
        "  temp_audio = element.get_attribute(\"jsdata\").replace('Kwyn5e;', '').replace(';2', '')\n",
        "  audio_link.append(temp_audio)\n",
        "\n",
        "audio_link = pd.DataFrame(audio_link)"
      ],
      "metadata": {
        "id": "UmDm4hSYURXk"
      },
      "execution_count": 181,
      "outputs": []
    },
    {
      "cell_type": "markdown",
      "source": [
        "#整理與檢視資料\n",
        "\n"
      ],
      "metadata": {
        "id": "0oaJbA5zyHsv"
      }
    },
    {
      "cell_type": "code",
      "source": [
        "data = pd.concat([date, title, length, links, audio_link, Summary], axis=1)\n",
        "data.columns = ['date', 'title', 'length', 'link', 'audio_link', 'Summary']\n",
        "data"
      ],
      "metadata": {
        "colab": {
          "base_uri": "https://localhost:8080/",
          "height": 641
        },
        "id": "kCoMDRHQW090",
        "outputId": "d08de195-e2d5-4f2d-a32b-f65e1b5e314f"
      },
      "execution_count": 182,
      "outputs": [
        {
          "output_type": "execute_result",
          "data": {
            "text/plain": [
              "             date                                            title  length  \\\n",
              "0      3 days ago                       EP123 人生理財、投資策略，個股資訊Q&A大平台  35 min   \n",
              "1     Apr 7, 2022                 EP122 財女說書《選擇，不只是選擇》：反向思考，避開投資陷阱  24 min   \n",
              "2     Apr 4, 2022          EP121 Tesla第一季交付年增70%優於預期，如何找到下一個Tesla？  35 min   \n",
              "3    Mar 31, 2022                  EP120 Nvidia GTC大會，日常作息如何提高生產力?  39 min   \n",
              "4    Mar 28, 2022      EP119 Tesla, Apple股價轉強帶動美股大盤上攻～巴菲特投資組合為什麼強？  29 min   \n",
              "..            ...                                              ...     ...   \n",
              "118  Jan 28, 2021  EP05 美股大幅拉回該緊張嗎？介紹一家已經賺錢的SaaS成長股Servicenow(NOW)  13 min   \n",
              "119  Jan 26, 2021                EP04 從GameStop(GME)之亂，學習散戶的多空應變之道  17 min   \n",
              "120  Jan 18, 2021       EP03 Howard Marks備忘錄-美股中價值與成長的差異，成長股該如何投資？  17 min   \n",
              "121  Jan 10, 2021      EP02 亞馬遜、摩根大通與波克夏合資的醫保公司Haven結束，美股遠距醫療產業起飛！  13 min   \n",
              "122  Dec 30, 2020            EP01 將ARK創新策略加入美股投資組合，是否可以為你創造長期超級績效？  17 min   \n",
              "\n",
              "                                                  link  \\\n",
              "0    https://podcasts.google.com/feed/aHR0cHM6Ly9hc...   \n",
              "1    https://podcasts.google.com/feed/aHR0cHM6Ly9hc...   \n",
              "2    https://podcasts.google.com/feed/aHR0cHM6Ly9hc...   \n",
              "3    https://podcasts.google.com/feed/aHR0cHM6Ly9hc...   \n",
              "4    https://podcasts.google.com/feed/aHR0cHM6Ly9hc...   \n",
              "..                                                 ...   \n",
              "118  https://podcasts.google.com/feed/aHR0cHM6Ly9hc...   \n",
              "119  https://podcasts.google.com/feed/aHR0cHM6Ly9hc...   \n",
              "120  https://podcasts.google.com/feed/aHR0cHM6Ly9hc...   \n",
              "121  https://podcasts.google.com/feed/aHR0cHM6Ly9hc...   \n",
              "122  https://podcasts.google.com/feed/aHR0cHM6Ly9hc...   \n",
              "\n",
              "                                            audio_link  \\\n",
              "0    https://chtbl.com/track/FB36A5/rss.soundon.fm/...   \n",
              "1    https://chtbl.com/track/FB36A5/rss.soundon.fm/...   \n",
              "2    https://chtbl.com/track/FB36A5/rss.soundon.fm/...   \n",
              "3    https://chtbl.com/track/FB36A5/rss.soundon.fm/...   \n",
              "4    https://chtbl.com/track/FB36A5/rss.soundon.fm/...   \n",
              "..                                                 ...   \n",
              "118  https://chtbl.com/track/FB36A5/rss.soundon.fm/...   \n",
              "119  https://chtbl.com/track/FB36A5/rss.soundon.fm/...   \n",
              "120  https://chtbl.com/track/FB36A5/rss.soundon.fm/...   \n",
              "121  https://chtbl.com/track/FB36A5/rss.soundon.fm/...   \n",
              "122  https://chtbl.com/track/FB36A5/rss.soundon.fm/...   \n",
              "\n",
              "                                               Summary  \n",
              "0    🔒 訂閱Pressplay專欄『美股投資學』最新文章https://pse.is/43ae2...  \n",
              "1    🔒 訂閱Pressplay專欄『美股投資學』最新文章https://pse.is/43ae2...  \n",
              "2    🔒 訂閱Pressplay專欄『美股投資學』最新文章https://pse.is/43ae2...  \n",
              "3    保養跟投資一樣，選對商品，長期持有！好皮膚需要時間照顧，但堅持一定可以看到成效推薦給大家法國...  \n",
              "4    🔒 訂閱Pressplay專欄『美股投資學』最新文章https://pse.is/43ae2...  \n",
              "..                                                 ...  \n",
              "118  美股科技巨頭財報利多不漲，拉回是否可以進場布局？今天介紹一家也剛公布優異財報的SaaS成長股...  \n",
              "119  機構與散戶之戰尚未結束，周一開盤GME股價一度飆漲至144%，至收盤收斂至18%散戶到底該追...  \n",
              "120  每一次的危機都是一次財富重分配的機會，在極度悲觀的市場入市的投資人，享受資產重新上漲的獲利，...  \n",
              "121  亞馬遜、摩根大通與波克夏合資的醫保公司Heaven結束，聯合健康保險與CVS股價沒有反應，卻...  \n",
              "122  今年以來ARK五檔旗艦型ETF創造平均150%的報酬率，吸引大量資金流入！資金湧入對這些ET...  \n",
              "\n",
              "[123 rows x 6 columns]"
            ],
            "text/html": [
              "\n",
              "  <div id=\"df-2e78d1f1-5891-4f26-8aae-542a793a63e1\">\n",
              "    <div class=\"colab-df-container\">\n",
              "      <div>\n",
              "<style scoped>\n",
              "    .dataframe tbody tr th:only-of-type {\n",
              "        vertical-align: middle;\n",
              "    }\n",
              "\n",
              "    .dataframe tbody tr th {\n",
              "        vertical-align: top;\n",
              "    }\n",
              "\n",
              "    .dataframe thead th {\n",
              "        text-align: right;\n",
              "    }\n",
              "</style>\n",
              "<table border=\"1\" class=\"dataframe\">\n",
              "  <thead>\n",
              "    <tr style=\"text-align: right;\">\n",
              "      <th></th>\n",
              "      <th>date</th>\n",
              "      <th>title</th>\n",
              "      <th>length</th>\n",
              "      <th>link</th>\n",
              "      <th>audio_link</th>\n",
              "      <th>Summary</th>\n",
              "    </tr>\n",
              "  </thead>\n",
              "  <tbody>\n",
              "    <tr>\n",
              "      <th>0</th>\n",
              "      <td>3 days ago</td>\n",
              "      <td>EP123 人生理財、投資策略，個股資訊Q&amp;A大平台</td>\n",
              "      <td>35 min</td>\n",
              "      <td>https://podcasts.google.com/feed/aHR0cHM6Ly9hc...</td>\n",
              "      <td>https://chtbl.com/track/FB36A5/rss.soundon.fm/...</td>\n",
              "      <td>🔒 訂閱Pressplay專欄『美股投資學』最新文章https://pse.is/43ae2...</td>\n",
              "    </tr>\n",
              "    <tr>\n",
              "      <th>1</th>\n",
              "      <td>Apr 7, 2022</td>\n",
              "      <td>EP122 財女說書《選擇，不只是選擇》：反向思考，避開投資陷阱</td>\n",
              "      <td>24 min</td>\n",
              "      <td>https://podcasts.google.com/feed/aHR0cHM6Ly9hc...</td>\n",
              "      <td>https://chtbl.com/track/FB36A5/rss.soundon.fm/...</td>\n",
              "      <td>🔒 訂閱Pressplay專欄『美股投資學』最新文章https://pse.is/43ae2...</td>\n",
              "    </tr>\n",
              "    <tr>\n",
              "      <th>2</th>\n",
              "      <td>Apr 4, 2022</td>\n",
              "      <td>EP121 Tesla第一季交付年增70%優於預期，如何找到下一個Tesla？</td>\n",
              "      <td>35 min</td>\n",
              "      <td>https://podcasts.google.com/feed/aHR0cHM6Ly9hc...</td>\n",
              "      <td>https://chtbl.com/track/FB36A5/rss.soundon.fm/...</td>\n",
              "      <td>🔒 訂閱Pressplay專欄『美股投資學』最新文章https://pse.is/43ae2...</td>\n",
              "    </tr>\n",
              "    <tr>\n",
              "      <th>3</th>\n",
              "      <td>Mar 31, 2022</td>\n",
              "      <td>EP120 Nvidia GTC大會，日常作息如何提高生產力?</td>\n",
              "      <td>39 min</td>\n",
              "      <td>https://podcasts.google.com/feed/aHR0cHM6Ly9hc...</td>\n",
              "      <td>https://chtbl.com/track/FB36A5/rss.soundon.fm/...</td>\n",
              "      <td>保養跟投資一樣，選對商品，長期持有！好皮膚需要時間照顧，但堅持一定可以看到成效推薦給大家法國...</td>\n",
              "    </tr>\n",
              "    <tr>\n",
              "      <th>4</th>\n",
              "      <td>Mar 28, 2022</td>\n",
              "      <td>EP119 Tesla, Apple股價轉強帶動美股大盤上攻～巴菲特投資組合為什麼強？</td>\n",
              "      <td>29 min</td>\n",
              "      <td>https://podcasts.google.com/feed/aHR0cHM6Ly9hc...</td>\n",
              "      <td>https://chtbl.com/track/FB36A5/rss.soundon.fm/...</td>\n",
              "      <td>🔒 訂閱Pressplay專欄『美股投資學』最新文章https://pse.is/43ae2...</td>\n",
              "    </tr>\n",
              "    <tr>\n",
              "      <th>...</th>\n",
              "      <td>...</td>\n",
              "      <td>...</td>\n",
              "      <td>...</td>\n",
              "      <td>...</td>\n",
              "      <td>...</td>\n",
              "      <td>...</td>\n",
              "    </tr>\n",
              "    <tr>\n",
              "      <th>118</th>\n",
              "      <td>Jan 28, 2021</td>\n",
              "      <td>EP05 美股大幅拉回該緊張嗎？介紹一家已經賺錢的SaaS成長股Servicenow(NOW)</td>\n",
              "      <td>13 min</td>\n",
              "      <td>https://podcasts.google.com/feed/aHR0cHM6Ly9hc...</td>\n",
              "      <td>https://chtbl.com/track/FB36A5/rss.soundon.fm/...</td>\n",
              "      <td>美股科技巨頭財報利多不漲，拉回是否可以進場布局？今天介紹一家也剛公布優異財報的SaaS成長股...</td>\n",
              "    </tr>\n",
              "    <tr>\n",
              "      <th>119</th>\n",
              "      <td>Jan 26, 2021</td>\n",
              "      <td>EP04 從GameStop(GME)之亂，學習散戶的多空應變之道</td>\n",
              "      <td>17 min</td>\n",
              "      <td>https://podcasts.google.com/feed/aHR0cHM6Ly9hc...</td>\n",
              "      <td>https://chtbl.com/track/FB36A5/rss.soundon.fm/...</td>\n",
              "      <td>機構與散戶之戰尚未結束，周一開盤GME股價一度飆漲至144%，至收盤收斂至18%散戶到底該追...</td>\n",
              "    </tr>\n",
              "    <tr>\n",
              "      <th>120</th>\n",
              "      <td>Jan 18, 2021</td>\n",
              "      <td>EP03 Howard Marks備忘錄-美股中價值與成長的差異，成長股該如何投資？</td>\n",
              "      <td>17 min</td>\n",
              "      <td>https://podcasts.google.com/feed/aHR0cHM6Ly9hc...</td>\n",
              "      <td>https://chtbl.com/track/FB36A5/rss.soundon.fm/...</td>\n",
              "      <td>每一次的危機都是一次財富重分配的機會，在極度悲觀的市場入市的投資人，享受資產重新上漲的獲利，...</td>\n",
              "    </tr>\n",
              "    <tr>\n",
              "      <th>121</th>\n",
              "      <td>Jan 10, 2021</td>\n",
              "      <td>EP02 亞馬遜、摩根大通與波克夏合資的醫保公司Haven結束，美股遠距醫療產業起飛！</td>\n",
              "      <td>13 min</td>\n",
              "      <td>https://podcasts.google.com/feed/aHR0cHM6Ly9hc...</td>\n",
              "      <td>https://chtbl.com/track/FB36A5/rss.soundon.fm/...</td>\n",
              "      <td>亞馬遜、摩根大通與波克夏合資的醫保公司Heaven結束，聯合健康保險與CVS股價沒有反應，卻...</td>\n",
              "    </tr>\n",
              "    <tr>\n",
              "      <th>122</th>\n",
              "      <td>Dec 30, 2020</td>\n",
              "      <td>EP01 將ARK創新策略加入美股投資組合，是否可以為你創造長期超級績效？</td>\n",
              "      <td>17 min</td>\n",
              "      <td>https://podcasts.google.com/feed/aHR0cHM6Ly9hc...</td>\n",
              "      <td>https://chtbl.com/track/FB36A5/rss.soundon.fm/...</td>\n",
              "      <td>今年以來ARK五檔旗艦型ETF創造平均150%的報酬率，吸引大量資金流入！資金湧入對這些ET...</td>\n",
              "    </tr>\n",
              "  </tbody>\n",
              "</table>\n",
              "<p>123 rows × 6 columns</p>\n",
              "</div>\n",
              "      <button class=\"colab-df-convert\" onclick=\"convertToInteractive('df-2e78d1f1-5891-4f26-8aae-542a793a63e1')\"\n",
              "              title=\"Convert this dataframe to an interactive table.\"\n",
              "              style=\"display:none;\">\n",
              "        \n",
              "  <svg xmlns=\"http://www.w3.org/2000/svg\" height=\"24px\"viewBox=\"0 0 24 24\"\n",
              "       width=\"24px\">\n",
              "    <path d=\"M0 0h24v24H0V0z\" fill=\"none\"/>\n",
              "    <path d=\"M18.56 5.44l.94 2.06.94-2.06 2.06-.94-2.06-.94-.94-2.06-.94 2.06-2.06.94zm-11 1L8.5 8.5l.94-2.06 2.06-.94-2.06-.94L8.5 2.5l-.94 2.06-2.06.94zm10 10l.94 2.06.94-2.06 2.06-.94-2.06-.94-.94-2.06-.94 2.06-2.06.94z\"/><path d=\"M17.41 7.96l-1.37-1.37c-.4-.4-.92-.59-1.43-.59-.52 0-1.04.2-1.43.59L10.3 9.45l-7.72 7.72c-.78.78-.78 2.05 0 2.83L4 21.41c.39.39.9.59 1.41.59.51 0 1.02-.2 1.41-.59l7.78-7.78 2.81-2.81c.8-.78.8-2.07 0-2.86zM5.41 20L4 18.59l7.72-7.72 1.47 1.35L5.41 20z\"/>\n",
              "  </svg>\n",
              "      </button>\n",
              "      \n",
              "  <style>\n",
              "    .colab-df-container {\n",
              "      display:flex;\n",
              "      flex-wrap:wrap;\n",
              "      gap: 12px;\n",
              "    }\n",
              "\n",
              "    .colab-df-convert {\n",
              "      background-color: #E8F0FE;\n",
              "      border: none;\n",
              "      border-radius: 50%;\n",
              "      cursor: pointer;\n",
              "      display: none;\n",
              "      fill: #1967D2;\n",
              "      height: 32px;\n",
              "      padding: 0 0 0 0;\n",
              "      width: 32px;\n",
              "    }\n",
              "\n",
              "    .colab-df-convert:hover {\n",
              "      background-color: #E2EBFA;\n",
              "      box-shadow: 0px 1px 2px rgba(60, 64, 67, 0.3), 0px 1px 3px 1px rgba(60, 64, 67, 0.15);\n",
              "      fill: #174EA6;\n",
              "    }\n",
              "\n",
              "    [theme=dark] .colab-df-convert {\n",
              "      background-color: #3B4455;\n",
              "      fill: #D2E3FC;\n",
              "    }\n",
              "\n",
              "    [theme=dark] .colab-df-convert:hover {\n",
              "      background-color: #434B5C;\n",
              "      box-shadow: 0px 1px 3px 1px rgba(0, 0, 0, 0.15);\n",
              "      filter: drop-shadow(0px 1px 2px rgba(0, 0, 0, 0.3));\n",
              "      fill: #FFFFFF;\n",
              "    }\n",
              "  </style>\n",
              "\n",
              "      <script>\n",
              "        const buttonEl =\n",
              "          document.querySelector('#df-2e78d1f1-5891-4f26-8aae-542a793a63e1 button.colab-df-convert');\n",
              "        buttonEl.style.display =\n",
              "          google.colab.kernel.accessAllowed ? 'block' : 'none';\n",
              "\n",
              "        async function convertToInteractive(key) {\n",
              "          const element = document.querySelector('#df-2e78d1f1-5891-4f26-8aae-542a793a63e1');\n",
              "          const dataTable =\n",
              "            await google.colab.kernel.invokeFunction('convertToInteractive',\n",
              "                                                     [key], {});\n",
              "          if (!dataTable) return;\n",
              "\n",
              "          const docLinkHtml = 'Like what you see? Visit the ' +\n",
              "            '<a target=\"_blank\" href=https://colab.research.google.com/notebooks/data_table.ipynb>data table notebook</a>'\n",
              "            + ' to learn more about interactive tables.';\n",
              "          element.innerHTML = '';\n",
              "          dataTable['output_type'] = 'display_data';\n",
              "          await google.colab.output.renderOutput(dataTable, element);\n",
              "          const docLink = document.createElement('div');\n",
              "          docLink.innerHTML = docLinkHtml;\n",
              "          element.appendChild(docLink);\n",
              "        }\n",
              "      </script>\n",
              "    </div>\n",
              "  </div>\n",
              "  "
            ]
          },
          "metadata": {},
          "execution_count": 182
        }
      ]
    },
    {
      "cell_type": "markdown",
      "source": [
        "#匯出資料"
      ],
      "metadata": {
        "id": "L5xIxaOTQgpk"
      }
    },
    {
      "cell_type": "code",
      "source": [
        "#輸出檔案\n",
        "path = '/content/drive/MyDrive/Data Set/Podcast/'+channel_name+'.csv' #路徑\n",
        "data.to_csv(path, index=None)"
      ],
      "metadata": {
        "id": "niEE80BDcJTQ"
      },
      "execution_count": 183,
      "outputs": []
    },
    {
      "cell_type": "markdown",
      "source": [
        "#下載Podcast音檔"
      ],
      "metadata": {
        "id": "LXaO20dn1L-R"
      }
    },
    {
      "cell_type": "code",
      "source": [
        "#判別檔案格式\n",
        "if 'mp3' in data['audio_link'][1]:\n",
        "  file_type = '.mp3'\n",
        "else:\n",
        "  file_type = '.m4a'\n",
        "\n",
        "#for i in range(3):\n",
        "for i in range(len(data['link'])):\n",
        "  url = data['audio_link'][i]\n",
        "\n",
        "  #設定檔名\n",
        "  audio_name = channel_name + ' ' + data['date'][i]\n",
        "  downloaded_file_location = '/content/drive/MyDrive/Data Set/Podcast/'+ audio_name + file_type\n",
        "\n",
        "  # Downloading the audio file\n",
        "  headers = UserAgent().random  #隨機請求表頭\n",
        "  req = requests.get(url, headers={\"User-Agent\":headers}).content\n",
        "\n",
        "  t = random.uniform(0.5, 1) #隨機數\n",
        "  time.sleep(t) #暫停\n",
        "\n",
        "  with open(downloaded_file_location, 'wb') as f:\n",
        "      f.write(req)"
      ],
      "metadata": {
        "id": "4iJmfGx7TxbM"
      },
      "execution_count": 166,
      "outputs": []
    },
    {
      "cell_type": "code",
      "source": [
        ""
      ],
      "metadata": {
        "id": "gBleZygKzq6X"
      },
      "execution_count": null,
      "outputs": []
    }
  ]
}