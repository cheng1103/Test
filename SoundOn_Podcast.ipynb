{
  "nbformat": 4,
  "nbformat_minor": 0,
  "metadata": {
    "colab": {
      "name": "SoundOn Podcast.ipynb",
      "provenance": [],
      "collapsed_sections": [],
      "authorship_tag": "ABX9TyP2aicPRejTaeMoMwrJOEQL",
      "include_colab_link": true
    },
    "kernelspec": {
      "name": "python3",
      "display_name": "Python 3"
    },
    "language_info": {
      "name": "python"
    }
  },
  "cells": [
    {
      "cell_type": "markdown",
      "metadata": {
        "id": "view-in-github",
        "colab_type": "text"
      },
      "source": [
        "<a href=\"https://colab.research.google.com/github/cheng1103/Test/blob/main/SoundOn_Podcast.ipynb\" target=\"_parent\"><img src=\"https://colab.research.google.com/assets/colab-badge.svg\" alt=\"Open In Colab\"/></a>"
      ]
    },
    {
      "cell_type": "markdown",
      "source": [
        "<h1><strong>SoundOn Podcast 爬蟲(已失效)</strong></h1>\n",
        "\n",
        "<p>爬取SoundOn上的Podcast，只要輸入頻道的網址，便能擷取所有的單集，並包含以下資訊：出刊日、標題、長度、單集連結、音訊連結、單集摘要</p>\n",
        "\n",
        "<p><strong>可同時下載各集音檔</strong></p>\n"
      ],
      "metadata": {
        "id": "6JD73KWlKnhr"
      }
    },
    {
      "cell_type": "markdown",
      "source": [
        "# 頻道網址與檔名設定"
      ],
      "metadata": {
        "id": "BHDCJXrdPVwe"
      }
    },
    {
      "cell_type": "code",
      "source": [
        "url = 'https://player.soundon.fm/p/e75f72d6-a458-4982-861e-6c5fbad85956' #財報狗\n",
        "#url = 'https://player.soundon.fm/p/d2aab16c-3a70-4023-b52b-e50f07852ecd' #財經M平方\n",
        "#url = 'https://player.soundon.fm/p/954689a5-3096-43a4-a80b-7810b219cef3' #Gooaye 股癌\n",
        "\n",
        "file_name = '財報狗'\n"
      ],
      "metadata": {
        "id": "ViHfASqxqzw8"
      },
      "execution_count": null,
      "outputs": []
    },
    {
      "cell_type": "markdown",
      "source": [
        "# 安裝並載入套件"
      ],
      "metadata": {
        "id": "QesQpGIsPeo-"
      }
    },
    {
      "cell_type": "code",
      "execution_count": null,
      "metadata": {
        "id": "8Rbe4HREr8BT",
        "colab": {
          "base_uri": "https://localhost:8080/"
        },
        "outputId": "ab746bff-4788-4fbb-ea4f-6b81164187e8"
      },
      "outputs": [
        {
          "output_type": "stream",
          "name": "stdout",
          "text": [
            "Requirement already satisfied: selenium in /usr/local/lib/python3.7/dist-packages (4.1.3)\n",
            "Requirement already satisfied: trio~=0.17 in /usr/local/lib/python3.7/dist-packages (from selenium) (0.20.0)\n",
            "Requirement already satisfied: trio-websocket~=0.9 in /usr/local/lib/python3.7/dist-packages (from selenium) (0.9.2)\n",
            "Requirement already satisfied: urllib3[secure,socks]~=1.26 in /usr/local/lib/python3.7/dist-packages (from selenium) (1.26.9)\n",
            "Requirement already satisfied: sortedcontainers in /usr/local/lib/python3.7/dist-packages (from trio~=0.17->selenium) (2.4.0)\n",
            "Requirement already satisfied: async-generator>=1.9 in /usr/local/lib/python3.7/dist-packages (from trio~=0.17->selenium) (1.10)\n",
            "Requirement already satisfied: sniffio in /usr/local/lib/python3.7/dist-packages (from trio~=0.17->selenium) (1.2.0)\n",
            "Requirement already satisfied: idna in /usr/local/lib/python3.7/dist-packages (from trio~=0.17->selenium) (2.10)\n",
            "Requirement already satisfied: attrs>=19.2.0 in /usr/local/lib/python3.7/dist-packages (from trio~=0.17->selenium) (21.4.0)\n",
            "Requirement already satisfied: outcome in /usr/local/lib/python3.7/dist-packages (from trio~=0.17->selenium) (1.1.0)\n",
            "Requirement already satisfied: wsproto>=0.14 in /usr/local/lib/python3.7/dist-packages (from trio-websocket~=0.9->selenium) (1.1.0)\n",
            "Requirement already satisfied: pyOpenSSL>=0.14 in /usr/local/lib/python3.7/dist-packages (from urllib3[secure,socks]~=1.26->selenium) (22.0.0)\n",
            "Requirement already satisfied: cryptography>=1.3.4 in /usr/local/lib/python3.7/dist-packages (from urllib3[secure,socks]~=1.26->selenium) (36.0.2)\n",
            "Requirement already satisfied: certifi in /usr/local/lib/python3.7/dist-packages (from urllib3[secure,socks]~=1.26->selenium) (2021.10.8)\n",
            "Requirement already satisfied: PySocks!=1.5.7,<2.0,>=1.5.6 in /usr/local/lib/python3.7/dist-packages (from urllib3[secure,socks]~=1.26->selenium) (1.7.1)\n",
            "Requirement already satisfied: cffi>=1.12 in /usr/local/lib/python3.7/dist-packages (from cryptography>=1.3.4->urllib3[secure,socks]~=1.26->selenium) (1.15.0)\n",
            "Requirement already satisfied: pycparser in /usr/local/lib/python3.7/dist-packages (from cffi>=1.12->cryptography>=1.3.4->urllib3[secure,socks]~=1.26->selenium) (2.21)\n",
            "Requirement already satisfied: h11<1,>=0.9.0 in /usr/local/lib/python3.7/dist-packages (from wsproto>=0.14->trio-websocket~=0.9->selenium) (0.13.0)\n",
            "Requirement already satisfied: typing-extensions in /usr/local/lib/python3.7/dist-packages (from h11<1,>=0.9.0->wsproto>=0.14->trio-websocket~=0.9->selenium) (3.10.0.2)\n",
            "Hit:1 http://ppa.launchpad.net/c2d4u.team/c2d4u4.0+/ubuntu bionic InRelease\n",
            "Hit:2 https://cloud.r-project.org/bin/linux/ubuntu bionic-cran40/ InRelease\n",
            "Hit:3 http://ppa.launchpad.net/cran/libgit2/ubuntu bionic InRelease\n",
            "Hit:4 http://ppa.launchpad.net/deadsnakes/ppa/ubuntu bionic InRelease\n",
            "Hit:5 http://ppa.launchpad.net/graphics-drivers/ppa/ubuntu bionic InRelease\n",
            "Hit:6 http://archive.ubuntu.com/ubuntu bionic InRelease\n",
            "Hit:7 http://archive.ubuntu.com/ubuntu bionic-updates InRelease\n",
            "Hit:8 http://archive.ubuntu.com/ubuntu bionic-backports InRelease\n",
            "Hit:9 http://security.ubuntu.com/ubuntu bionic-security InRelease\n",
            "Ign:10 https://developer.download.nvidia.com/compute/cuda/repos/ubuntu1804/x86_64  InRelease\n",
            "Ign:11 https://developer.download.nvidia.com/compute/machine-learning/repos/ubuntu1804/x86_64  InRelease\n",
            "Hit:12 https://developer.download.nvidia.com/compute/cuda/repos/ubuntu1804/x86_64  Release\n",
            "Hit:13 https://developer.download.nvidia.com/compute/machine-learning/repos/ubuntu1804/x86_64  Release\n",
            "Reading package lists... Done\n",
            "Reading package lists... Done\n",
            "Building dependency tree       \n",
            "Reading state information... Done\n",
            "chromium-chromedriver is already the newest version (99.0.4844.84-0ubuntu0.18.04.1).\n",
            "0 upgraded, 0 newly installed, 0 to remove and 40 not upgraded.\n",
            "cp: '/usr/lib/chromium-browser/chromedriver' and '/usr/bin/chromedriver' are the same file\n",
            "Requirement already satisfied: fake_useragent in /usr/local/lib/python3.7/dist-packages (0.1.11)\n"
          ]
        }
      ],
      "source": [
        "!pip install selenium\n",
        "!apt-get update # to update ubuntu to correctly run apt install\n",
        "!apt install chromium-chromedriver\n",
        "!cp /usr/lib/chromium-browser/chromedriver /usr/bin\n",
        "import sys\n",
        "sys.path.insert(0,'/usr/lib/chromium-browser/chromedriver')\n",
        "from selenium import webdriver\n",
        "from selenium.webdriver.chrome.options import Options\n",
        "from selenium.webdriver.common.by import By\n",
        "\n",
        "\n",
        "\n",
        "!pip install fake_useragent\n",
        "from fake_useragent import UserAgent\n",
        "from lxml import etree\n",
        "import requests\n",
        "import pandas as pd\n",
        "import random\n",
        "import time"
      ]
    },
    {
      "cell_type": "markdown",
      "source": [
        "#瀏覽器參數設定"
      ],
      "metadata": {
        "id": "f7rTtHcqPogw"
      }
    },
    {
      "cell_type": "code",
      "source": [
        "chrome_options = webdriver.ChromeOptions()\n",
        "chrome_options.add_argument('--headless')\n",
        "chrome_options.add_argument('--no-sandbox')\n",
        "chrome_options.add_argument('--disable-dev-shm-usage')\n",
        "browser = webdriver.Chrome('chromedriver',chrome_options=chrome_options)\n"
      ],
      "metadata": {
        "id": "76Ay3RLg48oO",
        "colab": {
          "base_uri": "https://localhost:8080/"
        },
        "outputId": "4b609130-9e32-4840-ae7c-6f22ca9615d8"
      },
      "execution_count": null,
      "outputs": [
        {
          "output_type": "stream",
          "name": "stderr",
          "text": [
            "/usr/local/lib/python3.7/dist-packages/ipykernel_launcher.py:5: DeprecationWarning: use options instead of chrome_options\n",
            "  \"\"\"\n"
          ]
        }
      ]
    },
    {
      "cell_type": "markdown",
      "source": [
        "#載入網頁(頻道)"
      ],
      "metadata": {
        "id": "ciOHJ3GSP22d"
      }
    },
    {
      "cell_type": "code",
      "source": [
        "#下載網頁\n",
        "browser.get(url)\n",
        "for i in range(200):\n",
        "\n",
        "  browser.execute_script(\"window.scrollBy(0, window.innerHeight)\")\n",
        "  t = random.uniform(0.5, 1.5) #隨機數\n",
        "  time.sleep(t) #暫停\n"
      ],
      "metadata": {
        "id": "qc0ZVbS9saCK"
      },
      "execution_count": null,
      "outputs": []
    },
    {
      "cell_type": "markdown",
      "source": [
        "#擷取網頁資訊"
      ],
      "metadata": {
        "id": "JhaWYYshQIoI"
      }
    },
    {
      "cell_type": "code",
      "source": [
        "#擷取頻道目錄\n",
        "channel_name = [] #裝頻道名稱\n",
        "title = [] #裝標題\n",
        "date = [] #裝日期\n",
        "links = [] #裝連結\n",
        "time_long = [] #裝時間長度\n",
        "\n",
        "#擷取網頁元素\n",
        "temp_channel = browser.find_elements(By.XPATH,'/html/body/div[1]/div/div[1]/div[2]/div/div[1]/div/div[2]/div[2]/h3')[0].text\n",
        "URLs = browser.find_elements(By.XPATH,'/html/body/div[1]/div/div[1]/div[2]/div/div[2]/div/div/a')\n",
        "temp_title = browser.find_elements(By.XPATH,'/html/body/div[1]/div/div[1]/div[2]/div/div[2]/div/div/a/div/div[2]/h4/div')\n",
        "temp_date = browser.find_elements(By.XPATH,'/html/body/div[1]/div/div[1]/div[2]/div/div[2]/div/div/a/div/div[2]/div[2]/time[2]')\n",
        "temp_time = browser.find_elements(By.XPATH,'/html/body/div[1]/div/div[1]/div[2]/div/div[2]/div/div/a/div/div[2]/div[2]/time[1]') \n",
        "#/html/body/div[1]/div/div[1]/div[2]/div/div[2]/div/div/a/div/div[2]/div[2]/time[1]/text()\n",
        "#擷取連結\n",
        "for node in URLs:\n",
        "  links.append(node.get_attribute(\"href\"))\n",
        "links = pd.DataFrame(links)\n",
        "\n",
        "#擷取標題、出刊日、長度\n",
        "t = len(URLs)\n",
        "for i in range(len(URLs)):\n",
        "  channel_name.append(temp_channel)\n",
        "  date.append(temp_date[i].text)\n",
        "  title.append(temp_title[i].text)\n",
        "  time_long.append(str(temp_time[i].text))\n",
        "\n",
        "\n",
        "\n",
        "#整理為表格\n",
        "channel_name = pd.DataFrame(channel_name)\n",
        "date = pd.DataFrame(date)\n",
        "title = pd.DataFrame(title)\n",
        "time_long = pd.DataFrame(time_long)\n",
        "\n",
        "data = pd.concat([channel_name, date, title, time_long, links], axis=1)\n",
        "data.columns = ['channel', 'date', 'title', 'long', 'link']"
      ],
      "metadata": {
        "id": "4vuc2o7T1RiS"
      },
      "execution_count": null,
      "outputs": []
    },
    {
      "cell_type": "code",
      "source": [
        "#擷取單集摘要、音訊網址\n",
        "audio_link = []\n",
        "Summary = []\n",
        "\n",
        "for i in range(len(data['link'])):\n",
        "\n",
        "  url = data['link'][i]\n",
        "  #下載網頁\n",
        "  browser.get(url)\n",
        "  t = random.uniform(0.75, 1.5) #隨機數\n",
        "  time.sleep(t) #暫停\n",
        "\n",
        "  #取得播放連結\n",
        "  play = browser.find_element_by_xpath('/html/body/div[1]/div/div[1]/div[2]/div/div[1]/div/div[3]/div/button')\n",
        "  play.click()\n",
        "  browser.implicitly_wait(0.05) #等待載入\n",
        "  element = browser.find_elements_by_xpath('/html/body/audio')\n",
        "\n",
        "  temp_audio = []\n",
        "  for node in element:\n",
        "    temp_audio.append(node.get_attribute(\"src\"))\n",
        "  audio_link.append(temp_audio)\n",
        "\n",
        "\n",
        "  #取得摘要\n",
        "  temp_Summary = browser.find_elements(By.XPATH,'/html/body/div[1]/div/div[1]/div[2]/div/div[2]/div/div')[0].text\n",
        "  temp_Summary = temp_Summary.replace('\\n', '')\n",
        "  Summary.append(temp_Summary)\n",
        "\n",
        "audio_link = pd.DataFrame(audio_link)\n",
        "Summary = pd.DataFrame(Summary)\n",
        "\n",
        "\n"
      ],
      "metadata": {
        "id": "lMLSeMmC8JHg",
        "colab": {
          "base_uri": "https://localhost:8080/"
        },
        "outputId": "cdec79a0-93a8-4e54-f452-4d53432e26b9"
      },
      "execution_count": null,
      "outputs": [
        {
          "output_type": "stream",
          "name": "stderr",
          "text": [
            "/usr/local/lib/python3.7/dist-packages/ipykernel_launcher.py:14: DeprecationWarning: find_element_by_xpath is deprecated. Please use find_element(by=By.XPATH, value=xpath) instead\n",
            "  \n",
            "/usr/local/lib/python3.7/dist-packages/ipykernel_launcher.py:17: DeprecationWarning: find_elements_by_xpath is deprecated. Please use find_elements(by=By.XPATH, value=xpath) instead\n"
          ]
        }
      ]
    },
    {
      "cell_type": "markdown",
      "source": [
        "#檢視資料"
      ],
      "metadata": {
        "id": "jr_RWsjeQXOk"
      }
    },
    {
      "cell_type": "code",
      "source": [
        "data\n"
      ],
      "metadata": {
        "colab": {
          "base_uri": "https://localhost:8080/",
          "height": 424
        },
        "id": "WjlruGxa4Ru6",
        "outputId": "dd7d33c4-7bd5-4025-9813-45664dd23a1a"
      },
      "execution_count": null,
      "outputs": [
        {
          "output_type": "execute_result",
          "data": {
            "text/plain": [
              "              channel        date  \\\n",
              "0    財報狗 - 掌握台股美股時事議題  2022-04-05   \n",
              "1    財報狗 - 掌握台股美股時事議題  2022-03-31   \n",
              "2    財報狗 - 掌握台股美股時事議題  2022-03-29   \n",
              "3    財報狗 - 掌握台股美股時事議題  2022-03-24   \n",
              "4    財報狗 - 掌握台股美股時事議題  2022-03-20   \n",
              "..                ...         ...   \n",
              "116  財報狗 - 掌握台股美股時事議題  2020-06-18   \n",
              "117  財報狗 - 掌握台股美股時事議題  2020-06-10   \n",
              "118  財報狗 - 掌握台股美股時事議題  2020-05-28   \n",
              "119  財報狗 - 掌握台股美股時事議題  2020-05-21   \n",
              "120  財報狗 - 掌握台股美股時事議題  2020-05-17   \n",
              "\n",
              "                                               title   long  \\\n",
              "0             110.【台股美股提款機】無懼消費市場轉弱 伺服器可望引領今年美光業績創新高  26:26   \n",
              "1                109.【財經時事放大鏡】疫情帶動外送風潮也枉然 雲端廚房的經營難題多  22:48   \n",
              "2    108.【台股美股提款機】記憶體產業風水輪流轉 NAND Flash 未來兩季將優於 DRAM  39:21   \n",
              "3                 107.【財經時事放大鏡】高階顯卡報價跳水 俄烏戰後的高糧價風暴難解  21:56   \n",
              "4                     106.【達人聊產業】伺服器產業揭密 ＆ 相關投資機會大盤點  49:14   \n",
              "..                                               ...    ...   \n",
              "116                真・佛系投資人 - 華爾街股票研究員 Vincent Ep. #4  49:42   \n",
              "117                  股票、期權、賭博與詐騙 - 麥克風的市場求生手冊 Ep. #3  51:26   \n",
              "118          29 歲如何管理 10 億資金 - 博弈式價值投資人 Frank Ep. #2  49:18   \n",
              "119                財報狗共同創辦人 Jeff - 從財報背後挖出成長股 Ep. #1  55:30   \n",
              "120                                財報狗 podcast 第一季簡介  01:20   \n",
              "\n",
              "                                                  link  \n",
              "0    https://player.soundon.fm/p/e75f72d6-a458-4982...  \n",
              "1    https://player.soundon.fm/p/e75f72d6-a458-4982...  \n",
              "2    https://player.soundon.fm/p/e75f72d6-a458-4982...  \n",
              "3    https://player.soundon.fm/p/e75f72d6-a458-4982...  \n",
              "4    https://player.soundon.fm/p/e75f72d6-a458-4982...  \n",
              "..                                                 ...  \n",
              "116  https://player.soundon.fm/p/e75f72d6-a458-4982...  \n",
              "117  https://player.soundon.fm/p/e75f72d6-a458-4982...  \n",
              "118  https://player.soundon.fm/p/e75f72d6-a458-4982...  \n",
              "119  https://player.soundon.fm/p/e75f72d6-a458-4982...  \n",
              "120  https://player.soundon.fm/p/e75f72d6-a458-4982...  \n",
              "\n",
              "[121 rows x 5 columns]"
            ],
            "text/html": [
              "\n",
              "  <div id=\"df-f097e70e-a473-4c53-9949-26d45fae9571\">\n",
              "    <div class=\"colab-df-container\">\n",
              "      <div>\n",
              "<style scoped>\n",
              "    .dataframe tbody tr th:only-of-type {\n",
              "        vertical-align: middle;\n",
              "    }\n",
              "\n",
              "    .dataframe tbody tr th {\n",
              "        vertical-align: top;\n",
              "    }\n",
              "\n",
              "    .dataframe thead th {\n",
              "        text-align: right;\n",
              "    }\n",
              "</style>\n",
              "<table border=\"1\" class=\"dataframe\">\n",
              "  <thead>\n",
              "    <tr style=\"text-align: right;\">\n",
              "      <th></th>\n",
              "      <th>channel</th>\n",
              "      <th>date</th>\n",
              "      <th>title</th>\n",
              "      <th>long</th>\n",
              "      <th>link</th>\n",
              "    </tr>\n",
              "  </thead>\n",
              "  <tbody>\n",
              "    <tr>\n",
              "      <th>0</th>\n",
              "      <td>財報狗 - 掌握台股美股時事議題</td>\n",
              "      <td>2022-04-05</td>\n",
              "      <td>110.【台股美股提款機】無懼消費市場轉弱 伺服器可望引領今年美光業績創新高</td>\n",
              "      <td>26:26</td>\n",
              "      <td>https://player.soundon.fm/p/e75f72d6-a458-4982...</td>\n",
              "    </tr>\n",
              "    <tr>\n",
              "      <th>1</th>\n",
              "      <td>財報狗 - 掌握台股美股時事議題</td>\n",
              "      <td>2022-03-31</td>\n",
              "      <td>109.【財經時事放大鏡】疫情帶動外送風潮也枉然 雲端廚房的經營難題多</td>\n",
              "      <td>22:48</td>\n",
              "      <td>https://player.soundon.fm/p/e75f72d6-a458-4982...</td>\n",
              "    </tr>\n",
              "    <tr>\n",
              "      <th>2</th>\n",
              "      <td>財報狗 - 掌握台股美股時事議題</td>\n",
              "      <td>2022-03-29</td>\n",
              "      <td>108.【台股美股提款機】記憶體產業風水輪流轉 NAND Flash 未來兩季將優於 DRAM</td>\n",
              "      <td>39:21</td>\n",
              "      <td>https://player.soundon.fm/p/e75f72d6-a458-4982...</td>\n",
              "    </tr>\n",
              "    <tr>\n",
              "      <th>3</th>\n",
              "      <td>財報狗 - 掌握台股美股時事議題</td>\n",
              "      <td>2022-03-24</td>\n",
              "      <td>107.【財經時事放大鏡】高階顯卡報價跳水 俄烏戰後的高糧價風暴難解</td>\n",
              "      <td>21:56</td>\n",
              "      <td>https://player.soundon.fm/p/e75f72d6-a458-4982...</td>\n",
              "    </tr>\n",
              "    <tr>\n",
              "      <th>4</th>\n",
              "      <td>財報狗 - 掌握台股美股時事議題</td>\n",
              "      <td>2022-03-20</td>\n",
              "      <td>106.【達人聊產業】伺服器產業揭密 ＆ 相關投資機會大盤點</td>\n",
              "      <td>49:14</td>\n",
              "      <td>https://player.soundon.fm/p/e75f72d6-a458-4982...</td>\n",
              "    </tr>\n",
              "    <tr>\n",
              "      <th>...</th>\n",
              "      <td>...</td>\n",
              "      <td>...</td>\n",
              "      <td>...</td>\n",
              "      <td>...</td>\n",
              "      <td>...</td>\n",
              "    </tr>\n",
              "    <tr>\n",
              "      <th>116</th>\n",
              "      <td>財報狗 - 掌握台股美股時事議題</td>\n",
              "      <td>2020-06-18</td>\n",
              "      <td>真・佛系投資人 - 華爾街股票研究員 Vincent Ep. #4</td>\n",
              "      <td>49:42</td>\n",
              "      <td>https://player.soundon.fm/p/e75f72d6-a458-4982...</td>\n",
              "    </tr>\n",
              "    <tr>\n",
              "      <th>117</th>\n",
              "      <td>財報狗 - 掌握台股美股時事議題</td>\n",
              "      <td>2020-06-10</td>\n",
              "      <td>股票、期權、賭博與詐騙 - 麥克風的市場求生手冊 Ep. #3</td>\n",
              "      <td>51:26</td>\n",
              "      <td>https://player.soundon.fm/p/e75f72d6-a458-4982...</td>\n",
              "    </tr>\n",
              "    <tr>\n",
              "      <th>118</th>\n",
              "      <td>財報狗 - 掌握台股美股時事議題</td>\n",
              "      <td>2020-05-28</td>\n",
              "      <td>29 歲如何管理 10 億資金 - 博弈式價值投資人 Frank Ep. #2</td>\n",
              "      <td>49:18</td>\n",
              "      <td>https://player.soundon.fm/p/e75f72d6-a458-4982...</td>\n",
              "    </tr>\n",
              "    <tr>\n",
              "      <th>119</th>\n",
              "      <td>財報狗 - 掌握台股美股時事議題</td>\n",
              "      <td>2020-05-21</td>\n",
              "      <td>財報狗共同創辦人 Jeff - 從財報背後挖出成長股 Ep. #1</td>\n",
              "      <td>55:30</td>\n",
              "      <td>https://player.soundon.fm/p/e75f72d6-a458-4982...</td>\n",
              "    </tr>\n",
              "    <tr>\n",
              "      <th>120</th>\n",
              "      <td>財報狗 - 掌握台股美股時事議題</td>\n",
              "      <td>2020-05-17</td>\n",
              "      <td>財報狗 podcast 第一季簡介</td>\n",
              "      <td>01:20</td>\n",
              "      <td>https://player.soundon.fm/p/e75f72d6-a458-4982...</td>\n",
              "    </tr>\n",
              "  </tbody>\n",
              "</table>\n",
              "<p>121 rows × 5 columns</p>\n",
              "</div>\n",
              "      <button class=\"colab-df-convert\" onclick=\"convertToInteractive('df-f097e70e-a473-4c53-9949-26d45fae9571')\"\n",
              "              title=\"Convert this dataframe to an interactive table.\"\n",
              "              style=\"display:none;\">\n",
              "        \n",
              "  <svg xmlns=\"http://www.w3.org/2000/svg\" height=\"24px\"viewBox=\"0 0 24 24\"\n",
              "       width=\"24px\">\n",
              "    <path d=\"M0 0h24v24H0V0z\" fill=\"none\"/>\n",
              "    <path d=\"M18.56 5.44l.94 2.06.94-2.06 2.06-.94-2.06-.94-.94-2.06-.94 2.06-2.06.94zm-11 1L8.5 8.5l.94-2.06 2.06-.94-2.06-.94L8.5 2.5l-.94 2.06-2.06.94zm10 10l.94 2.06.94-2.06 2.06-.94-2.06-.94-.94-2.06-.94 2.06-2.06.94z\"/><path d=\"M17.41 7.96l-1.37-1.37c-.4-.4-.92-.59-1.43-.59-.52 0-1.04.2-1.43.59L10.3 9.45l-7.72 7.72c-.78.78-.78 2.05 0 2.83L4 21.41c.39.39.9.59 1.41.59.51 0 1.02-.2 1.41-.59l7.78-7.78 2.81-2.81c.8-.78.8-2.07 0-2.86zM5.41 20L4 18.59l7.72-7.72 1.47 1.35L5.41 20z\"/>\n",
              "  </svg>\n",
              "      </button>\n",
              "      \n",
              "  <style>\n",
              "    .colab-df-container {\n",
              "      display:flex;\n",
              "      flex-wrap:wrap;\n",
              "      gap: 12px;\n",
              "    }\n",
              "\n",
              "    .colab-df-convert {\n",
              "      background-color: #E8F0FE;\n",
              "      border: none;\n",
              "      border-radius: 50%;\n",
              "      cursor: pointer;\n",
              "      display: none;\n",
              "      fill: #1967D2;\n",
              "      height: 32px;\n",
              "      padding: 0 0 0 0;\n",
              "      width: 32px;\n",
              "    }\n",
              "\n",
              "    .colab-df-convert:hover {\n",
              "      background-color: #E2EBFA;\n",
              "      box-shadow: 0px 1px 2px rgba(60, 64, 67, 0.3), 0px 1px 3px 1px rgba(60, 64, 67, 0.15);\n",
              "      fill: #174EA6;\n",
              "    }\n",
              "\n",
              "    [theme=dark] .colab-df-convert {\n",
              "      background-color: #3B4455;\n",
              "      fill: #D2E3FC;\n",
              "    }\n",
              "\n",
              "    [theme=dark] .colab-df-convert:hover {\n",
              "      background-color: #434B5C;\n",
              "      box-shadow: 0px 1px 3px 1px rgba(0, 0, 0, 0.15);\n",
              "      filter: drop-shadow(0px 1px 2px rgba(0, 0, 0, 0.3));\n",
              "      fill: #FFFFFF;\n",
              "    }\n",
              "  </style>\n",
              "\n",
              "      <script>\n",
              "        const buttonEl =\n",
              "          document.querySelector('#df-f097e70e-a473-4c53-9949-26d45fae9571 button.colab-df-convert');\n",
              "        buttonEl.style.display =\n",
              "          google.colab.kernel.accessAllowed ? 'block' : 'none';\n",
              "\n",
              "        async function convertToInteractive(key) {\n",
              "          const element = document.querySelector('#df-f097e70e-a473-4c53-9949-26d45fae9571');\n",
              "          const dataTable =\n",
              "            await google.colab.kernel.invokeFunction('convertToInteractive',\n",
              "                                                     [key], {});\n",
              "          if (!dataTable) return;\n",
              "\n",
              "          const docLinkHtml = 'Like what you see? Visit the ' +\n",
              "            '<a target=\"_blank\" href=https://colab.research.google.com/notebooks/data_table.ipynb>data table notebook</a>'\n",
              "            + ' to learn more about interactive tables.';\n",
              "          element.innerHTML = '';\n",
              "          dataTable['output_type'] = 'display_data';\n",
              "          await google.colab.output.renderOutput(dataTable, element);\n",
              "          const docLink = document.createElement('div');\n",
              "          docLink.innerHTML = docLinkHtml;\n",
              "          element.appendChild(docLink);\n",
              "        }\n",
              "      </script>\n",
              "    </div>\n",
              "  </div>\n",
              "  "
            ]
          },
          "metadata": {},
          "execution_count": 14
        }
      ]
    },
    {
      "cell_type": "markdown",
      "source": [
        "#匯出資料"
      ],
      "metadata": {
        "id": "L5xIxaOTQgpk"
      }
    },
    {
      "cell_type": "code",
      "source": [
        "from google.colab import drive\n",
        "drive.mount('/content/drive')\n",
        "\n",
        "\n",
        "data = pd.concat([channel_name, date, title, time_long, links, audio_link, Summary], axis=1)\n",
        "data.columns = ['channel', 'date', 'title', 'long', 'link', 'audio_link', 'Summary']\n",
        "\n",
        "\n",
        "#輸出檔案\n",
        "path = '/content/drive/MyDrive/Data Set/'+file_name+'.csv' #路徑\n",
        "data.to_csv(path, index=None)"
      ],
      "metadata": {
        "id": "Q2QFm4hr7Qo5",
        "colab": {
          "base_uri": "https://localhost:8080/"
        },
        "outputId": "21b52658-134d-4cad-a159-47737f3e0266"
      },
      "execution_count": null,
      "outputs": [
        {
          "output_type": "stream",
          "name": "stdout",
          "text": [
            "Drive already mounted at /content/drive; to attempt to forcibly remount, call drive.mount(\"/content/drive\", force_remount=True).\n"
          ]
        }
      ]
    },
    {
      "cell_type": "markdown",
      "source": [
        "#下載Podcast音檔"
      ],
      "metadata": {
        "id": "LXaO20dn1L-R"
      }
    },
    {
      "cell_type": "code",
      "source": [
        "for i in range(len(data['link'])):\n",
        "\n",
        "  url = data['audio_link'][i]\n",
        "\n",
        "  #設定檔名\n",
        "  file_name = data['channel'][i] + ' ' + data['date'][i]\n",
        "  downloaded_file_location = '/content/drive/MyDrive/Data Set/Podcast/'+file_name+'.mp3'\n",
        "\n",
        "  # Downloading the audio file\n",
        "  headers = UserAgent().random  #隨機請求表頭\n",
        "  req = requests.get(url, headers={\"User-Agent\":headers}).content\n",
        "\n",
        "  t = random.uniform(0.5, 1) #隨機數\n",
        "  time.sleep(t) #暫停\n",
        "\n",
        "  with open(downloaded_file_location, 'wb') as f:\n",
        "      f.write(req)"
      ],
      "metadata": {
        "id": "4iJmfGx7TxbM"
      },
      "execution_count": null,
      "outputs": []
    },
    {
      "cell_type": "code",
      "source": [
        ""
      ],
      "metadata": {
        "id": "g3TON2BE1zmA"
      },
      "execution_count": null,
      "outputs": []
    }
  ]
}