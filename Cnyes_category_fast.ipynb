{
  "nbformat": 4,
  "nbformat_minor": 0,
  "metadata": {
    "colab": {
      "name": "Cnyes category fast.ipynb",
      "provenance": [],
      "collapsed_sections": [],
      "authorship_tag": "ABX9TyM62h4asfYl02H/58HqeQ2U",
      "include_colab_link": true
    },
    "kernelspec": {
      "name": "python3",
      "display_name": "Python 3"
    },
    "language_info": {
      "name": "python"
    }
  },
  "cells": [
    {
      "cell_type": "markdown",
      "metadata": {
        "id": "view-in-github",
        "colab_type": "text"
      },
      "source": [
        "<a href=\"https://colab.research.google.com/github/cheng1103/Test/blob/main/Cnyes_category_fast.ipynb\" target=\"_parent\"><img src=\"https://colab.research.google.com/assets/colab-badge.svg\" alt=\"Open In Colab\"/></a>"
      ]
    },
    {
      "cell_type": "markdown",
      "source": [
        "<h1><span style=\"font-size:20px\"><strong>鉅亨網新聞主題爬蟲（快速版，用於Colab平台）</strong></span></h1>\n",
        "\n",
        "<p>可自訂主題新聞與日期區間爬取新聞內文，並可設定是否爬取頭條以外的新聞<br />\n",
        "<span style=\"color:null\"><strong>輸出資料的欄位依序為：</strong></span> <strong>張貼時間、新聞編號(網址)、版別、標題、頭條標記、內文、股號(如果有)</strong> <strong>。資料格式為csv檔，並以UTF8編碼，直接存入Google雲端硬碟</strong></p>\n",
        "\n",
        "<p>支援的分類新聞目錄：</p>\n",
        "\n",
        "<p>1.台股 V<br />\n",
        "&nbsp; a.台灣政經 V<br />\n",
        "&nbsp; b.台股盤勢 V<br />\n",
        "&nbsp; c.台股盤勢 V<br />\n",
        "&nbsp; d.台股盤勢 V</p>\n",
        "\n",
        "<p>2.國際股 V<br />\n",
        "&nbsp; a.美股 V<br />\n",
        "&nbsp; b.美股雷達 V<br />\n",
        "&nbsp; c.歐亞股 V<br />\n",
        "&nbsp; d.國際政經 V</p>\n",
        "\n",
        "<p>3.陸港股 V</p>\n",
        "\n",
        "<p>4.外匯 V</p>\n",
        "\n",
        "<p>5.期貨 V</p>\n",
        "\n",
        "<p>6.房產 V</p>\n",
        "\n",
        "<p>7.基金 V</p>\n",
        "\n",
        "<p>8.區塊鏈 V</p>\n"
      ],
      "metadata": {
        "id": "afItgO51IoQn"
      }
    },
    {
      "cell_type": "markdown",
      "source": [
        "# 新聞類別與查詢區間設定\n"
      ],
      "metadata": {
        "id": "5jgVBggFpjLR"
      }
    },
    {
      "cell_type": "code",
      "source": [
        "#.設定區域\n",
        "#==============================================\n",
        "#頭條設定 \n",
        "# 1表示限定頭條； 0表示不限 \n",
        "Headline = 1\n",
        "\n",
        "#輸入類別\n",
        "c = '台股'\n",
        "\n",
        "#查詢區間\n",
        "s_time = \"2021-07-01 00:00:00\" #開始日期 \n",
        "e_time = \"2021-12-31 00:00:00\" #結束日期\n",
        "\n",
        "#檔名設定\n",
        "file_name = 'original_data'\n",
        "\n",
        "#==============================================\n",
        "\n",
        "data = []\n",
        "\n",
        "kind = {\n",
        "  '台股':'tw_stock',\n",
        "  '台灣政經':'tw_macro',\n",
        "  '台股盤勢':'tw_quo',\n",
        "  '專家觀點':'stock_report',\n",
        "  '台股新聞':'tw_stock_news',\n",
        "\n",
        "  '國際股':'wd_stock',\n",
        "  '美股':'us_stock',\n",
        "  '美股雷達':'us_stock_live',\n",
        "  '歐亞股':'eu_asia_stock',\n",
        "  '國際政經':'wd_macro',\n",
        "\n",
        "  '陸港股':'cn_stock',\n",
        "  '外匯':'forex',\n",
        "  '期貨':'future',\n",
        "  '房產':'cnyeshouse',\n",
        "  '基金':'fund',\n",
        "  '區塊鏈':'bc'\n",
        "\n",
        "}\n",
        "\n",
        "c = kind.get(c)\n",
        "\n",
        "\n",
        "#頭條篩選\n",
        "if Headline == 1 :\n",
        "  CH = '&isCategoryHeadline=1'\n",
        "else :\n",
        "  CH = ''"
      ],
      "metadata": {
        "id": "xj5iK1cXiZ9h"
      },
      "execution_count": 23,
      "outputs": []
    },
    {
      "cell_type": "markdown",
      "source": [
        "# 安裝並載入套件"
      ],
      "metadata": {
        "id": "4u1lolz2_ykf"
      }
    },
    {
      "cell_type": "code",
      "source": [
        "!pip install fake_useragent\n",
        "from fake_useragent import UserAgent\n",
        "import requests\n",
        "from bs4 import BeautifulSoup\n",
        "from lxml import etree\n",
        "\n",
        "import random\n",
        "import time\n",
        "import datetime\n",
        "import json\n",
        "import pandas as pd\n",
        "import re\n",
        "#%reset -f"
      ],
      "metadata": {
        "id": "8sRkBMjM7Lca",
        "colab": {
          "base_uri": "https://localhost:8080/"
        },
        "outputId": "6d63b171-d444-429e-fa32-65ecf7327ba9"
      },
      "execution_count": 15,
      "outputs": [
        {
          "output_type": "stream",
          "name": "stdout",
          "text": [
            "Requirement already satisfied: fake_useragent in /usr/local/lib/python3.7/dist-packages (0.1.11)\n"
          ]
        }
      ]
    },
    {
      "cell_type": "markdown",
      "source": [
        "# 自定義程式"
      ],
      "metadata": {
        "id": "-Lt-MrRvpOUV"
      }
    },
    {
      "cell_type": "code",
      "source": [
        "def url_list(s_time,e_time):\n",
        "  \n",
        "  #==============================================\n",
        "  #時間區間設定\n",
        "  s_time = int(time.mktime(time.strptime(s_time, \"%Y-%m-%d %H:%M:%S\")))-28800 # 轉成時間戳\n",
        "  e_time = int(time.mktime(time.strptime(e_time, \"%Y-%m-%d %H:%M:%S\")))-28800\n",
        "\n",
        "  #==============================================\n",
        "  p = 1\n",
        "  l_page = 9\n",
        "  data = pd.DataFrame()\n",
        "\n",
        "  while p <= l_page :\n",
        "\n",
        "    headers = UserAgent().random #隨機請求表頭\n",
        "    \n",
        "    url = 'https://api.cnyes.com/media/api/v1/newslist/category/'+c+'?startAt='+str(s_time)+'&endAt='+str(e_time)+CH+\"&limit=30&page=\"+str(p)\n",
        "    req = requests.get(url, headers={\"User-Agent\":headers})\n",
        "    req = req.json()\n",
        "\n",
        "    #最末頁之路徑\n",
        "    if p == 1:\n",
        "      l_page = req[\"items\"][\"last_page\"] \n",
        "\n",
        "    req_data = req[\"items\"][\"data\"]\n",
        "    temp = pd.DataFrame.from_dict(req_data)\n",
        "    \n",
        "    #擷取資料\n",
        "    publishAt = temp['publishAt']\n",
        "    newsId_url = temp['newsId']\n",
        "    category = temp['categoryName']\n",
        "    title = temp['title']\n",
        "    Headline = temp['isCategoryHeadline']\n",
        "    stock = temp['stock']\n",
        "    content = temp['content']\n",
        "\n",
        "    temp_data = pd.concat([publishAt, Headline, category, title, content, stock, newsId_url], axis=1)\n",
        "    temp_data = reFormat(temp_data)\n",
        "\n",
        "    data = pd.concat([data, temp_data], ignore_index=True)\n",
        "    \n",
        "\n",
        "\n",
        "    #休眠\n",
        "    t = random.uniform(0.005, 0.1) #隨機數\n",
        "    time.sleep(t) #暫停\n",
        "\n",
        "    p = p+1\n",
        "\n",
        "    if p%20 == 0:\n",
        "      print(p/l_page*100)\n",
        "      data.drop_duplicates(subset='newsId', keep='first', inplace=True) #移除重複資料\n",
        "      t = random.uniform(0.2, 1) #隨機數\n",
        "      time.sleep(t)\n",
        "\n",
        "\n",
        "  data.drop_duplicates(subset='newsId', keep='first', inplace=True) #移除重複資料\n",
        "  return(data)\n",
        "\n"
      ],
      "metadata": {
        "id": "JuqudU7urVAr"
      },
      "execution_count": 18,
      "outputs": []
    },
    {
      "cell_type": "code",
      "source": [
        "def reFormat (temp_data):\n",
        "  for r in range(len(temp_data)):\n",
        "\n",
        "    #擷取文字\n",
        "    c = temp_data['content'][r]\n",
        "    c = etree.HTML(c).xpath('string(.)')\n",
        "    c = etree.HTML(c).xpath('//*[not(figcaption)]/p/text()') #####\n",
        "    c = \"\".join(c)\n",
        "    c = c.replace('\\n', '').replace('\\xa0', '')\n",
        "\n",
        "    temp_data['content'][r] = c\n",
        "\n",
        "\n",
        "    #擷取股票代號\n",
        "    temp_data['stock'][r] = ','.join(temp_data['stock'][r])\n",
        "    if len(temp_data['stock'][r]) == 0 :\n",
        "      temp_data['stock'][r] = '0'\n",
        "\n",
        "    #轉換時間格式\n",
        "    struct_time = time.localtime(temp_data['publishAt'][r]) # 轉成時間元組\n",
        "    temp_data['publishAt'][r] = time.strftime(\"%Y/%m/%d %H:%M\", struct_time) # 轉成字串\n",
        "\n",
        "  return(temp_data)"
      ],
      "metadata": {
        "id": "9J9g1t50mCDU"
      },
      "execution_count": 17,
      "outputs": []
    },
    {
      "cell_type": "code",
      "source": [
        "  headers = UserAgent().random\n",
        "  url = 'https://api.cnyes.com/media/api/v1/newslist/category/tw_stock?startAt=1640966400&endAt=1641139199&limit=30'\n",
        "    \n",
        "  req = requests.get(url, headers={\"User-Agent\":headers})\n",
        "  req = req.json()\n",
        "  req_data = req[\"items\"][\"data\"]\n",
        "  temp = pd.DataFrame.from_dict(req_data)\n",
        "\n",
        "  publishAt = temp['publishAt']\n",
        "  newsId_url = temp['newsId']\n",
        "  category = temp['categoryName']\n",
        "  title = temp['title']\n",
        "  Headline = temp['isCategoryHeadline']\n",
        "  stock = temp['stock']\n",
        "  content = temp['content']\n",
        "\n",
        "  temp_data = pd.concat([publishAt, Headline, category, title, content, stock, newsId_url], axis=1)\n",
        "  \n",
        "  c = temp_data['content'][11]\n",
        "\n",
        "'''\n",
        "  c = etree.HTML(text=c)\n",
        "  c = c.xpath('string(.)')\n",
        "  pattern = re.compile(r'<[^>]+>',re.S)\n",
        "  c = pattern.sub('', c)\n",
        "  c = c.replace('\\n', '').replace('&nbsp', '')\n",
        "\n",
        "''' \n",
        "  #c = temp_data['content'][r]\n",
        "  c = etree.HTML(c).xpath('string(.)')\n",
        "  c = etree.HTML(c).xpath('//*[not(figcaption)]/p/text()')\n",
        "  c = \"\".join(c)\n",
        "  c = c.replace('\\n', '').replace('\\xa0', '')\n",
        "\n",
        "\n",
        "\n",
        "  \n",
        "\n",
        "\n",
        "  # 10 11\n",
        "\n",
        "\n",
        "  \n",
        "  \n",
        "  c"
      ],
      "metadata": {
        "colab": {
          "base_uri": "https://localhost:8080/",
          "height": 36
        },
        "id": "H25YQPkr7056",
        "outputId": "5e3387d9-a681-497a-9f5a-c893108f47a9"
      },
      "execution_count": null,
      "outputs": [
        {
          "output_type": "execute_result",
          "data": {
            "application/vnd.google.colaboratory.intrinsic+json": {
              "type": "string"
            },
            "text/plain": [
              "'「We are family」、「We are Taiwan」字樣出現在台北 101 跨年到數動畫影片，期盼凝聚臺灣人民的心，迎向 2022。／中國信託銀行提供'"
            ]
          },
          "metadata": {},
          "execution_count": 110
        }
      ]
    },
    {
      "cell_type": "code",
      "source": [
        ""
      ],
      "metadata": {
        "id": "VA0x2GtwV2Qm"
      },
      "execution_count": null,
      "outputs": []
    },
    {
      "cell_type": "markdown",
      "source": [
        "# 執行程式"
      ],
      "metadata": {
        "id": "iYEHWFTNp1yH"
      }
    },
    {
      "cell_type": "code",
      "source": [
        "data = url_list(s_time,e_time)\n",
        "data = data.sort_values(by='publishAt', ascending=True)\n",
        "data = data.reset_index(drop=True) "
      ],
      "metadata": {
        "id": "NaKvr2pjc4pM",
        "colab": {
          "base_uri": "https://localhost:8080/"
        },
        "outputId": "f8e4181a-db26-44ed-a288-6b67b3f6b1b0"
      },
      "execution_count": 24,
      "outputs": [
        {
          "output_type": "stream",
          "name": "stderr",
          "text": [
            "/usr/local/lib/python3.7/dist-packages/ipykernel_launcher.py:11: SettingWithCopyWarning: \n",
            "A value is trying to be set on a copy of a slice from a DataFrame\n",
            "\n",
            "See the caveats in the documentation: https://pandas.pydata.org/pandas-docs/stable/user_guide/indexing.html#returning-a-view-versus-a-copy\n",
            "  # This is added back by InteractiveShellApp.init_path()\n",
            "/usr/local/lib/python3.7/dist-packages/ipykernel_launcher.py:15: SettingWithCopyWarning: \n",
            "A value is trying to be set on a copy of a slice from a DataFrame\n",
            "\n",
            "See the caveats in the documentation: https://pandas.pydata.org/pandas-docs/stable/user_guide/indexing.html#returning-a-view-versus-a-copy\n",
            "  from ipykernel import kernelapp as app\n",
            "/usr/local/lib/python3.7/dist-packages/ipykernel_launcher.py:21: SettingWithCopyWarning: \n",
            "A value is trying to be set on a copy of a slice from a DataFrame\n",
            "\n",
            "See the caveats in the documentation: https://pandas.pydata.org/pandas-docs/stable/user_guide/indexing.html#returning-a-view-versus-a-copy\n",
            "/usr/local/lib/python3.7/dist-packages/pandas/core/indexing.py:1732: SettingWithCopyWarning: \n",
            "A value is trying to be set on a copy of a slice from a DataFrame\n",
            "\n",
            "See the caveats in the documentation: https://pandas.pydata.org/pandas-docs/stable/user_guide/indexing.html#returning-a-view-versus-a-copy\n",
            "  self._setitem_single_block(indexer, value, name)\n",
            "/usr/local/lib/python3.7/dist-packages/ipykernel_launcher.py:17: SettingWithCopyWarning: \n",
            "A value is trying to be set on a copy of a slice from a DataFrame\n",
            "\n",
            "See the caveats in the documentation: https://pandas.pydata.org/pandas-docs/stable/user_guide/indexing.html#returning-a-view-versus-a-copy\n"
          ]
        },
        {
          "output_type": "stream",
          "name": "stdout",
          "text": [
            "6.191950464396285\n",
            "12.38390092879257\n",
            "18.575851393188856\n",
            "24.76780185758514\n",
            "30.959752321981426\n",
            "37.15170278637771\n",
            "43.343653250774\n",
            "49.53560371517028\n",
            "55.72755417956656\n",
            "61.91950464396285\n",
            "68.11145510835914\n",
            "74.30340557275542\n",
            "80.4953560371517\n",
            "86.687306501548\n",
            "92.87925696594426\n",
            "99.07120743034056\n"
          ]
        }
      ]
    },
    {
      "cell_type": "markdown",
      "source": [
        "# 檢視資料"
      ],
      "metadata": {
        "id": "eoxbWzWqhn2g"
      }
    },
    {
      "cell_type": "code",
      "source": [
        "data"
      ],
      "metadata": {
        "colab": {
          "base_uri": "https://localhost:8080/",
          "height": 641
        },
        "id": "U8wBYKHweS7C",
        "outputId": "e2ec5168-f9d7-4d6b-a67e-484e72f2ec77"
      },
      "execution_count": 25,
      "outputs": [
        {
          "output_type": "execute_result",
          "data": {
            "text/html": [
              "\n",
              "  <div id=\"df-d53a594e-7e87-43e3-88a3-9ce5272aea22\">\n",
              "    <div class=\"colab-df-container\">\n",
              "      <div>\n",
              "<style scoped>\n",
              "    .dataframe tbody tr th:only-of-type {\n",
              "        vertical-align: middle;\n",
              "    }\n",
              "\n",
              "    .dataframe tbody tr th {\n",
              "        vertical-align: top;\n",
              "    }\n",
              "\n",
              "    .dataframe thead th {\n",
              "        text-align: right;\n",
              "    }\n",
              "</style>\n",
              "<table border=\"1\" class=\"dataframe\">\n",
              "  <thead>\n",
              "    <tr style=\"text-align: right;\">\n",
              "      <th></th>\n",
              "      <th>publishAt</th>\n",
              "      <th>isCategoryHeadline</th>\n",
              "      <th>categoryName</th>\n",
              "      <th>title</th>\n",
              "      <th>content</th>\n",
              "      <th>stock</th>\n",
              "      <th>newsId</th>\n",
              "    </tr>\n",
              "  </thead>\n",
              "  <tbody>\n",
              "    <tr>\n",
              "      <th>0</th>\n",
              "      <td>2021/06/30 21:10</td>\n",
              "      <td>1</td>\n",
              "      <td>台股新聞</td>\n",
              "      <td>〈台股盤前要聞〉國巨併購奇力新、星鏈8月覆蓋全球 今日必看財經新聞</td>\n",
              "      <td>關注台股盤前要聞重點，被動元件廠掀整併，國巨宣布併購奇力新，可望貢獻集團營收 15%，獲利估...</td>\n",
              "      <td>2327,2456,2317,2330,2354,2371,2454,2603,3008,3...</td>\n",
              "      <td>4668195</td>\n",
              "    </tr>\n",
              "    <tr>\n",
              "      <th>1</th>\n",
              "      <td>2021/06/30 23:52</td>\n",
              "      <td>1</td>\n",
              "      <td>台股新聞</td>\n",
              "      <td>盤前財經大事搶先讀2021年07月01日</td>\n",
              "      <td>台灣 6 月製造業 PMI日本銀行短觀報告美國上週初領失業金人數股東會：群創、晟德、臻鼎 -...</td>\n",
              "      <td>2317,2327,2330,2354,2371,2454,2456,3008,3034,3357</td>\n",
              "      <td>4668342</td>\n",
              "    </tr>\n",
              "    <tr>\n",
              "      <th>2</th>\n",
              "      <td>2021/06/30 23:53</td>\n",
              "      <td>1</td>\n",
              "      <td>台股盤勢</td>\n",
              "      <td>〈台股盤前〉資金回流電金傳齊揚  Q3大盤續攻靠電子股比重回升</td>\n",
              "      <td>台股在資金回流，電金傳同步點火多頭帶動下，推升指數站上歷史新高收在 17755.46 點，傳...</td>\n",
              "      <td>0</td>\n",
              "      <td>4668292</td>\n",
              "    </tr>\n",
              "    <tr>\n",
              "      <th>3</th>\n",
              "      <td>2021/07/01 01:00</td>\n",
              "      <td>1</td>\n",
              "      <td>台股新聞</td>\n",
              "      <td>群益權證小教室：投資人必看的基本面-產業選股</td>\n",
              "      <td>歡迎來到群益權證小教室！「權證」是很適合小資族的投資工具，有機會透過小額資金創造更多收入，今...</td>\n",
              "      <td>2603,2607,2615,2617,2618,2636</td>\n",
              "      <td>4667787</td>\n",
              "    </tr>\n",
              "    <tr>\n",
              "      <th>4</th>\n",
              "      <td>2021/07/01 01:06</td>\n",
              "      <td>1</td>\n",
              "      <td>台股盤勢</td>\n",
              "      <td>【Wen姐筆記】第3季揭序幕 多空搶7大戲先登場？</td>\n",
              "      <td>台股第 2 季上演神鬼奇航，昨日季底作帳幾乎完美謝幕，加權指數以 17755.46 點作收，...</td>\n",
              "      <td>0</td>\n",
              "      <td>4668383</td>\n",
              "    </tr>\n",
              "    <tr>\n",
              "      <th>...</th>\n",
              "      <td>...</td>\n",
              "      <td>...</td>\n",
              "      <td>...</td>\n",
              "      <td>...</td>\n",
              "      <td>...</td>\n",
              "      <td>...</td>\n",
              "      <td>...</td>\n",
              "    </tr>\n",
              "    <tr>\n",
              "      <th>9654</th>\n",
              "      <td>2021/12/31 04:35</td>\n",
              "      <td>1</td>\n",
              "      <td>台股新聞</td>\n",
              "      <td>金融業走過2021年獲利榮景 升息年存股族先存這4檔</td>\n",
              "      <td>金融業歷經 2021 年業績暢旺的榮景年，也大舉吸引存股族搶進，11 月定期定額個股前十大，...</td>\n",
              "      <td>2886,2884,5880,2892,2891,2885,5876</td>\n",
              "      <td>4794505</td>\n",
              "    </tr>\n",
              "    <tr>\n",
              "      <th>9655</th>\n",
              "      <td>2021/12/31 06:04</td>\n",
              "      <td>1</td>\n",
              "      <td>台股新聞</td>\n",
              "      <td>台灣大併台灣之星、西安封城衝擊記憶體、台股封關 本周大事回顧</td>\n",
              "      <td>中國西安本周傳出疫情爆發，三星、美光等大廠皆在當地設廠，牽動記憶體市況，台灣大周四丟出震撼彈...</td>\n",
              "      <td>3045,8299,3260,6239,US-MU,2317,2330,2412,2603</td>\n",
              "      <td>4795142</td>\n",
              "    </tr>\n",
              "    <tr>\n",
              "      <th>9656</th>\n",
              "      <td>2021/12/31 09:22</td>\n",
              "      <td>1</td>\n",
              "      <td>台股新聞</td>\n",
              "      <td>台光電為擴載板產能 斥21.6億元購入桃園大園工業地產</td>\n",
              "      <td>台灣商用不動產 2021 年年末重大交易頻傳，繼聯德控 - KY(4912-TW) 29 日...</td>\n",
              "      <td>2383</td>\n",
              "      <td>4795215</td>\n",
              "    </tr>\n",
              "    <tr>\n",
              "      <th>9657</th>\n",
              "      <td>2021/12/31 11:48</td>\n",
              "      <td>1</td>\n",
              "      <td>台股新聞</td>\n",
              "      <td>迎接2022年 郭台銘分享8字箴言</td>\n",
              "      <td>2021 年即將結束，對於迎接 2022 年，鴻海 (2317-TW) 創辦人郭台銘今 (3...</td>\n",
              "      <td>2317</td>\n",
              "      <td>4795255</td>\n",
              "    </tr>\n",
              "    <tr>\n",
              "      <th>9658</th>\n",
              "      <td>2021/12/31 14:22</td>\n",
              "      <td>1</td>\n",
              "      <td>台股新聞</td>\n",
              "      <td>〈西安封城〉力成西安廠產能完全恢復 不影響明年1月營運</td>\n",
              "      <td>中國西安 23 日起封城，封測廠力成 (6239-TW) 西安廠先前遭波及，使產能利用率降至...</td>\n",
              "      <td>6239</td>\n",
              "      <td>4795270</td>\n",
              "    </tr>\n",
              "  </tbody>\n",
              "</table>\n",
              "<p>9659 rows × 7 columns</p>\n",
              "</div>\n",
              "      <button class=\"colab-df-convert\" onclick=\"convertToInteractive('df-d53a594e-7e87-43e3-88a3-9ce5272aea22')\"\n",
              "              title=\"Convert this dataframe to an interactive table.\"\n",
              "              style=\"display:none;\">\n",
              "        \n",
              "  <svg xmlns=\"http://www.w3.org/2000/svg\" height=\"24px\"viewBox=\"0 0 24 24\"\n",
              "       width=\"24px\">\n",
              "    <path d=\"M0 0h24v24H0V0z\" fill=\"none\"/>\n",
              "    <path d=\"M18.56 5.44l.94 2.06.94-2.06 2.06-.94-2.06-.94-.94-2.06-.94 2.06-2.06.94zm-11 1L8.5 8.5l.94-2.06 2.06-.94-2.06-.94L8.5 2.5l-.94 2.06-2.06.94zm10 10l.94 2.06.94-2.06 2.06-.94-2.06-.94-.94-2.06-.94 2.06-2.06.94z\"/><path d=\"M17.41 7.96l-1.37-1.37c-.4-.4-.92-.59-1.43-.59-.52 0-1.04.2-1.43.59L10.3 9.45l-7.72 7.72c-.78.78-.78 2.05 0 2.83L4 21.41c.39.39.9.59 1.41.59.51 0 1.02-.2 1.41-.59l7.78-7.78 2.81-2.81c.8-.78.8-2.07 0-2.86zM5.41 20L4 18.59l7.72-7.72 1.47 1.35L5.41 20z\"/>\n",
              "  </svg>\n",
              "      </button>\n",
              "      \n",
              "  <style>\n",
              "    .colab-df-container {\n",
              "      display:flex;\n",
              "      flex-wrap:wrap;\n",
              "      gap: 12px;\n",
              "    }\n",
              "\n",
              "    .colab-df-convert {\n",
              "      background-color: #E8F0FE;\n",
              "      border: none;\n",
              "      border-radius: 50%;\n",
              "      cursor: pointer;\n",
              "      display: none;\n",
              "      fill: #1967D2;\n",
              "      height: 32px;\n",
              "      padding: 0 0 0 0;\n",
              "      width: 32px;\n",
              "    }\n",
              "\n",
              "    .colab-df-convert:hover {\n",
              "      background-color: #E2EBFA;\n",
              "      box-shadow: 0px 1px 2px rgba(60, 64, 67, 0.3), 0px 1px 3px 1px rgba(60, 64, 67, 0.15);\n",
              "      fill: #174EA6;\n",
              "    }\n",
              "\n",
              "    [theme=dark] .colab-df-convert {\n",
              "      background-color: #3B4455;\n",
              "      fill: #D2E3FC;\n",
              "    }\n",
              "\n",
              "    [theme=dark] .colab-df-convert:hover {\n",
              "      background-color: #434B5C;\n",
              "      box-shadow: 0px 1px 3px 1px rgba(0, 0, 0, 0.15);\n",
              "      filter: drop-shadow(0px 1px 2px rgba(0, 0, 0, 0.3));\n",
              "      fill: #FFFFFF;\n",
              "    }\n",
              "  </style>\n",
              "\n",
              "      <script>\n",
              "        const buttonEl =\n",
              "          document.querySelector('#df-d53a594e-7e87-43e3-88a3-9ce5272aea22 button.colab-df-convert');\n",
              "        buttonEl.style.display =\n",
              "          google.colab.kernel.accessAllowed ? 'block' : 'none';\n",
              "\n",
              "        async function convertToInteractive(key) {\n",
              "          const element = document.querySelector('#df-d53a594e-7e87-43e3-88a3-9ce5272aea22');\n",
              "          const dataTable =\n",
              "            await google.colab.kernel.invokeFunction('convertToInteractive',\n",
              "                                                     [key], {});\n",
              "          if (!dataTable) return;\n",
              "\n",
              "          const docLinkHtml = 'Like what you see? Visit the ' +\n",
              "            '<a target=\"_blank\" href=https://colab.research.google.com/notebooks/data_table.ipynb>data table notebook</a>'\n",
              "            + ' to learn more about interactive tables.';\n",
              "          element.innerHTML = '';\n",
              "          dataTable['output_type'] = 'display_data';\n",
              "          await google.colab.output.renderOutput(dataTable, element);\n",
              "          const docLink = document.createElement('div');\n",
              "          docLink.innerHTML = docLinkHtml;\n",
              "          element.appendChild(docLink);\n",
              "        }\n",
              "      </script>\n",
              "    </div>\n",
              "  </div>\n",
              "  "
            ],
            "text/plain": [
              "             publishAt  ...   newsId\n",
              "0     2021/06/30 21:10  ...  4668195\n",
              "1     2021/06/30 23:52  ...  4668342\n",
              "2     2021/06/30 23:53  ...  4668292\n",
              "3     2021/07/01 01:00  ...  4667787\n",
              "4     2021/07/01 01:06  ...  4668383\n",
              "...                ...  ...      ...\n",
              "9654  2021/12/31 04:35  ...  4794505\n",
              "9655  2021/12/31 06:04  ...  4795142\n",
              "9656  2021/12/31 09:22  ...  4795215\n",
              "9657  2021/12/31 11:48  ...  4795255\n",
              "9658  2021/12/31 14:22  ...  4795270\n",
              "\n",
              "[9659 rows x 7 columns]"
            ]
          },
          "metadata": {},
          "execution_count": 25
        }
      ]
    },
    {
      "cell_type": "markdown",
      "source": [
        "# 連結Google Drive並匯出資料"
      ],
      "metadata": {
        "id": "lbF3QCDQizsk"
      }
    },
    {
      "cell_type": "code",
      "source": [
        "from google.colab import drive\n",
        "drive.mount('/content/drive')\n",
        "\n",
        "\n",
        "#輸出檔案\n",
        "\n",
        "path = '/content/drive/MyDrive/DATA set/'+file_name+'_fast.csv'\n",
        "data.to_csv(path, index=None)"
      ],
      "metadata": {
        "id": "KtmisyrisxVr",
        "colab": {
          "base_uri": "https://localhost:8080/"
        },
        "outputId": "ef11432d-de04-4864-efca-947dfcb3a2e3"
      },
      "execution_count": 26,
      "outputs": [
        {
          "output_type": "stream",
          "name": "stdout",
          "text": [
            "Drive already mounted at /content/drive; to attempt to forcibly remount, call drive.mount(\"/content/drive\", force_remount=True).\n"
          ]
        }
      ]
    }
  ]
}