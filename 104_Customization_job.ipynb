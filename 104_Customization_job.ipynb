{
  "nbformat": 4,
  "nbformat_minor": 0,
  "metadata": {
    "colab": {
      "name": "104 Customization job.ipynb",
      "provenance": [],
      "collapsed_sections": [],
      "authorship_tag": "ABX9TyMkiawEYNf/JVERs1AgIYZC",
      "include_colab_link": true
    },
    "kernelspec": {
      "name": "python3",
      "display_name": "Python 3"
    },
    "language_info": {
      "name": "python"
    }
  },
  "cells": [
    {
      "cell_type": "markdown",
      "metadata": {
        "id": "view-in-github",
        "colab_type": "text"
      },
      "source": [
        "<a href=\"https://colab.research.google.com/github/cheng1103/Test/blob/main/104_Customization_job.ipynb\" target=\"_parent\"><img src=\"https://colab.research.google.com/assets/colab-badge.svg\" alt=\"Open In Colab\"/></a>"
      ]
    },
    {
      "cell_type": "markdown",
      "source": [
        "#104自訂條件職缺爬蟲(暫時版)"
      ],
      "metadata": {
        "id": "lzbZVC65SwxK"
      }
    },
    {
      "cell_type": "code",
      "execution_count": 1,
      "metadata": {
        "id": "ZsLYMgzUPo7d"
      },
      "outputs": [],
      "source": [
        "ID = \"Axxxxxxxxx\" #輸入帳號\n",
        "password = \"xxxxxxxxx\" #輸入密碼\n",
        "\n",
        "\n"
      ]
    },
    {
      "cell_type": "code",
      "source": [
        "!pip install selenium\n",
        "!apt-get update # to update ubuntu to correctly run apt install\n",
        "#!apt-get install xvfb\n",
        "!apt install chromium-chromedriver\n",
        "!cp /usr/lib/chromium-browser/chromedriver /usr/bin\n",
        "import sys\n",
        "sys.path.insert(0,'/usr/lib/chromium-browser/chromedriver')\n",
        "from selenium import webdriver\n",
        "from selenium.webdriver.chrome.options import Options\n",
        "from selenium.webdriver.common.by import By\n",
        "from selenium.webdriver import ActionChains\n",
        "from selenium.webdriver.support import expected_conditions as EC \n",
        "from selenium.webdriver.support.ui import WebDriverWait\n",
        "\n",
        "!pip install fake_useragent\n",
        "from fake_useragent import UserAgent\n",
        "from bs4 import BeautifulSoup\n",
        "import requests\n",
        "import pandas as pd\n",
        "import random\n",
        "import time\n",
        "\n",
        "from google.colab import drive\n",
        "drive.mount('/content/drive')"
      ],
      "metadata": {
        "id": "z9uEyVpPP6qX"
      },
      "execution_count": null,
      "outputs": []
    },
    {
      "cell_type": "code",
      "source": [
        "chrome_options = webdriver.ChromeOptions()\n",
        "chrome_options.add_argument('--headless')\n",
        "chrome_options.add_argument('--no-sandbox')\n",
        "chrome_options.add_argument('--disable-dev-shm-usage')\n",
        "browser = webdriver.Chrome('chromedriver',chrome_options=chrome_options)\n"
      ],
      "metadata": {
        "colab": {
          "base_uri": "https://localhost:8080/"
        },
        "id": "SH05VZG2QVLg",
        "outputId": "f1bc8aeb-20bf-42ef-917f-b7ae32accf55"
      },
      "execution_count": 43,
      "outputs": [
        {
          "output_type": "stream",
          "name": "stderr",
          "text": [
            "/usr/local/lib/python3.7/dist-packages/ipykernel_launcher.py:5: DeprecationWarning: use options instead of chrome_options\n",
            "  \"\"\"\n"
          ]
        }
      ]
    },
    {
      "cell_type": "code",
      "source": [
        "url = \"https://www.104.com.tw/jobs/main/\"\n",
        "browser.get(url)\n",
        "time.sleep(3) #暫停\n",
        "\n",
        "#進入登入頁面\n",
        "signin = browser.find_element_by_css_selector('#global_bk > ul > li.right > ul > li:nth-child(6) > a')\n",
        "browser.execute_script(\"arguments[0].click();\", signin)\n",
        "time.sleep(1) #暫停\n",
        "\n",
        "#填帳號密碼與登入\n",
        "context = browser.find_element(by=By.XPATH, value='//*[@id=\"username\"]')\n",
        "context.send_keys(ID)\n",
        "time.sleep(0.2) #暫停\n",
        "context = browser.find_element(by=By.XPATH, value='//*[@id=\"password\"]')\n",
        "context.send_keys(password)\n",
        "time.sleep(0.2) #暫停\n",
        "\n",
        "submit = browser.find_element(by=By.XPATH, value='//*[@id=\"submitBtn\"]/h2')\n",
        "submit.click() #點擊登入\n",
        "time.sleep(5) #暫停\n"
      ],
      "metadata": {
        "colab": {
          "base_uri": "https://localhost:8080/"
        },
        "id": "6txKDA8sQZt1",
        "outputId": "b91e362b-46a3-47e8-c7a3-716039eb814a"
      },
      "execution_count": 44,
      "outputs": [
        {
          "output_type": "stream",
          "name": "stderr",
          "text": [
            "/usr/local/lib/python3.7/dist-packages/ipykernel_launcher.py:6: DeprecationWarning: find_element_by_css_selector is deprecated. Please use find_element(by=By.CSS_SELECTOR, value=css_selector) instead\n",
            "  \n"
          ]
        }
      ]
    },
    {
      "cell_type": "code",
      "source": [
        "#瀏覽自訂工作\n",
        "newjob = browser.find_element_by_css_selector('#bubjobs_li > a')\n",
        "browser.execute_script(\"arguments[0].click();\", newjob) #點擊\n",
        "time.sleep(5) #暫停\n",
        "\n",
        "#第三項自訂工作\n",
        "newjob3 = browser.find_element_by_css_selector('#li_newjob3')\n",
        "browser.execute_script(\"arguments[0].click();\", newjob3)\n",
        "\n",
        "#檢查並切換頁面\n",
        "n = browser.window_handles  # 生成一個新視窗或新頁籤的識別號，代表這個窗口的模擬driver\n",
        "print('當前識別號:', n)  # 列印所有頁面識別號\n",
        "browser.switch_to.window(browser.window_handles[-1])  # 瀏覽器切换至最新跳出的頁面\n",
        "\n",
        "\n",
        "soup = BeautifulSoup(browser.page_source, 'html.parser') #解析網頁\n",
        "\n",
        "#browser.execute_script(\"window.scrollTo(0,document.body.scrollHeight)\")"
      ],
      "metadata": {
        "id": "ekA1UtC-i80u",
        "colab": {
          "base_uri": "https://localhost:8080/"
        },
        "outputId": "2d9309f0-d953-45f8-fb28-e4114475e5fb"
      },
      "execution_count": 45,
      "outputs": [
        {
          "output_type": "stream",
          "name": "stderr",
          "text": [
            "/usr/local/lib/python3.7/dist-packages/ipykernel_launcher.py:2: DeprecationWarning: find_element_by_css_selector is deprecated. Please use find_element(by=By.CSS_SELECTOR, value=css_selector) instead\n",
            "  \n",
            "/usr/local/lib/python3.7/dist-packages/ipykernel_launcher.py:7: DeprecationWarning: find_element_by_css_selector is deprecated. Please use find_element(by=By.CSS_SELECTOR, value=css_selector) instead\n",
            "  import sys\n"
          ]
        },
        {
          "output_type": "stream",
          "name": "stdout",
          "text": [
            "當前識別號: ['CDwindow-DFA880B949E6834A0561C51E7C4E8342', 'CDwindow-18066610B1A7736FDDFD2B8381FC90EA']\n"
          ]
        }
      ]
    },
    {
      "cell_type": "code",
      "source": [
        "#soup = BeautifulSoup(browser.page_source, 'html.parser') #解析網頁\n",
        "last_page = soup.find('select', class_=\"form-control p-0 h3 h-auto font-weight-bold\").find('option').text\n",
        "last_page"
      ],
      "metadata": {
        "colab": {
          "base_uri": "https://localhost:8080/",
          "height": 36
        },
        "id": "g0XOXnckT7Oq",
        "outputId": "24320555-7e1f-4d3e-9ef5-ec5d90b58e93"
      },
      "execution_count": 53,
      "outputs": [
        {
          "output_type": "execute_result",
          "data": {
            "text/plain": [
              "' 第 1 / 16 頁 '"
            ],
            "application/vnd.google.colaboratory.intrinsic+json": {
              "type": "string"
            }
          },
          "metadata": {},
          "execution_count": 53
        }
      ]
    },
    {
      "cell_type": "code",
      "source": [
        "for i in range(25):\n",
        "  browser.execute_script(\"window.scrollTo(0,document.body.scrollHeight)\")\n",
        "  t = random.uniform(3, 4) #隨機數\n",
        "  time.sleep(t) #暫停\n",
        "\n"
      ],
      "metadata": {
        "id": "gywJsXHJf8MH"
      },
      "execution_count": null,
      "outputs": []
    },
    {
      "cell_type": "code",
      "source": [
        "'''\n",
        "<div data-v-c3fc6aca=\"\" class=\"pagination__count d-inline-block\"> 第 1 / 15 頁 </div>\n",
        "\n",
        "'''"
      ],
      "metadata": {
        "colab": {
          "base_uri": "https://localhost:8080/"
        },
        "id": "T1rd3nogVeud",
        "outputId": "fb9fa2d9-c8cc-4c68-c24a-6d75d7b4cb38"
      },
      "execution_count": 25,
      "outputs": [
        {
          "output_type": "stream",
          "name": "stdout",
          "text": [
            "當前識別號: ['CDwindow-F337808F840770344843C456194DEA76', 'CDwindow-1BACF39DB216C16035021B0601D2700D']\n",
            "CDwindow-1BACF39DB216C16035021B0601D2700D\n"
          ]
        }
      ]
    },
    {
      "cell_type": "code",
      "source": [
        "\n",
        "\n",
        "\n"
      ],
      "metadata": {
        "id": "a6ouAxA5QIDK"
      },
      "execution_count": null,
      "outputs": []
    }
  ]
}