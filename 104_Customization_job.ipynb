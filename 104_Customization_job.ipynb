{
  "nbformat": 4,
  "nbformat_minor": 0,
  "metadata": {
    "colab": {
      "name": "104 Customization job.ipynb",
      "provenance": [],
      "collapsed_sections": [],
      "authorship_tag": "ABX9TyPIpU3fCZxuJmxHh1Il6hZO",
      "include_colab_link": true
    },
    "kernelspec": {
      "name": "python3",
      "display_name": "Python 3"
    },
    "language_info": {
      "name": "python"
    }
  },
  "cells": [
    {
      "cell_type": "markdown",
      "metadata": {
        "id": "view-in-github",
        "colab_type": "text"
      },
      "source": [
        "<a href=\"https://colab.research.google.com/github/cheng1103/Test/blob/main/104_Customization_job.ipynb\" target=\"_parent\"><img src=\"https://colab.research.google.com/assets/colab-badge.svg\" alt=\"Open In Colab\"/></a>"
      ]
    },
    {
      "cell_type": "markdown",
      "source": [
        "#104自訂條件職缺爬蟲(暫時版)"
      ],
      "metadata": {
        "id": "lzbZVC65SwxK"
      }
    },
    {
      "cell_type": "code",
      "execution_count": 69,
      "metadata": {
        "id": "ZsLYMgzUPo7d"
      },
      "outputs": [],
      "source": [
        "ID = \"*********\" #輸入帳號\n",
        "password = \"*********\" #輸入密碼\n",
        "job_op = '#li_newjob1'\n",
        "\n"
      ]
    },
    {
      "cell_type": "code",
      "source": [
        "!pip install selenium\n",
        "!apt-get update # to update ubuntu to correctly run apt install\n",
        "#!apt-get install xvfb\n",
        "!apt install chromium-chromedriver\n",
        "!cp /usr/lib/chromium-browser/chromedriver /usr/bin\n",
        "import sys\n",
        "sys.path.insert(0,'/usr/lib/chromium-browser/chromedriver')\n",
        "from selenium import webdriver\n",
        "from selenium.webdriver.chrome.options import Options\n",
        "from selenium.webdriver.common.by import By\n",
        "from selenium.webdriver import ActionChains\n",
        "from selenium.webdriver.support import expected_conditions as EC \n",
        "from selenium.webdriver.support.ui import WebDriverWait\n",
        "\n",
        "!pip install fake_useragent\n",
        "from fake_useragent import UserAgent\n",
        "from bs4 import BeautifulSoup\n",
        "import requests\n",
        "import pandas as pd\n",
        "import random\n",
        "import time\n",
        "\n",
        "from google.colab import drive\n",
        "drive.mount('/content/drive')"
      ],
      "metadata": {
        "id": "z9uEyVpPP6qX"
      },
      "execution_count": null,
      "outputs": []
    },
    {
      "cell_type": "code",
      "source": [
        "chrome_options = webdriver.ChromeOptions()\n",
        "chrome_options.add_argument('--headless')\n",
        "chrome_options.add_argument('--no-sandbox')\n",
        "chrome_options.add_argument('--disable-dev-shm-usage')\n",
        "browser = webdriver.Chrome('chromedriver',chrome_options=chrome_options)\n"
      ],
      "metadata": {
        "colab": {
          "base_uri": "https://localhost:8080/"
        },
        "id": "SH05VZG2QVLg",
        "outputId": "26c47cc0-ce7c-4550-e628-74991e8ed731"
      },
      "execution_count": 64,
      "outputs": [
        {
          "output_type": "stream",
          "name": "stderr",
          "text": [
            "/usr/local/lib/python3.7/dist-packages/ipykernel_launcher.py:5: DeprecationWarning: use options instead of chrome_options\n",
            "  \"\"\"\n"
          ]
        }
      ]
    },
    {
      "cell_type": "code",
      "source": [
        "url = \"https://www.104.com.tw/jobs/main/\"\n",
        "browser.get(url)\n",
        "time.sleep(3) #暫停\n",
        "\n",
        "#進入登入頁面\n",
        "signin = browser.find_element_by_css_selector('#global_bk > ul > li.right > ul > li:nth-child(6) > a')\n",
        "browser.execute_script(\"arguments[0].click();\", signin)\n",
        "time.sleep(1) #暫停\n",
        "\n",
        "#填帳號密碼與登入\n",
        "context = browser.find_element(by=By.XPATH, value='//*[@id=\"username\"]')\n",
        "context.send_keys(ID)\n",
        "time.sleep(0.2) #暫停\n",
        "context = browser.find_element(by=By.XPATH, value='//*[@id=\"password\"]')\n",
        "context.send_keys(password)\n",
        "time.sleep(0.2) #暫停\n",
        "\n",
        "submit = browser.find_element(by=By.XPATH, value='//*[@id=\"submitBtn\"]/h2')\n",
        "submit.click() #點擊登入\n",
        "time.sleep(5) #暫停\n"
      ],
      "metadata": {
        "colab": {
          "base_uri": "https://localhost:8080/"
        },
        "id": "6txKDA8sQZt1",
        "outputId": "da52a2a6-8cff-4065-c7a7-5729d72de993"
      },
      "execution_count": 65,
      "outputs": [
        {
          "output_type": "stream",
          "name": "stderr",
          "text": [
            "/usr/local/lib/python3.7/dist-packages/ipykernel_launcher.py:6: DeprecationWarning: find_element_by_css_selector is deprecated. Please use find_element(by=By.CSS_SELECTOR, value=css_selector) instead\n",
            "  \n"
          ]
        }
      ]
    },
    {
      "cell_type": "code",
      "source": [
        "#顯示自訂工作列表\n",
        "newjob = browser.find_element_by_css_selector('#bubjobs_li > a')\n",
        "browser.execute_script(\"arguments[0].click();\", newjob) #點擊\n",
        "time.sleep(5) #暫停\n",
        "\n",
        "#自訂工作\n",
        "newjob = browser.find_element_by_css_selector(job_op)\n",
        "browser.execute_script(\"arguments[0].click();\", newjob)\n",
        "\n",
        "#檢查並切換頁面\n",
        "n = browser.window_handles  # 生成一個新視窗或新頁籤的識別碼，代表這個窗口的模擬driver\n",
        "print('當前識別碼:', n)  # 列印所有頁面識別碼\n",
        "browser.switch_to.window(browser.window_handles[-1])  # 瀏覽器切换至最新跳出的頁面\n",
        "time.sleep(5) #暫停\n",
        "\n",
        "#擷取總頁數\n",
        "soup = BeautifulSoup(browser.page_source, 'html.parser') #解析網頁\n",
        "last_page = soup.find('select', class_=\"form-control p-0 h3 h-auto font-weight-bold\").find('option').text\n",
        "last_page = last_page.split(' ')[-3]\n",
        "last_page = int(last_page)+1\n",
        "\n",
        "for i in range(last_page):\n",
        "  browser.execute_script(\"window.scrollTo(0,document.body.scrollHeight)\")\n",
        "  t = random.uniform(3, 4) #隨機數\n",
        "  time.sleep(t) #暫停\n",
        "\n",
        "#擷取職缺網址\n",
        "soup = BeautifulSoup(browser.page_source, 'html.parser') #解析網頁\n",
        "job_links = []\n",
        "urls = soup.find_all('a', class_=\"info-job__text jb-link jb-link-blue jb-link-blue--visited h2\")\n",
        "for url in urls:\n",
        "  link = url.get(\"href\").replace('//', '')\n",
        "  job_links.append(link)"
      ],
      "metadata": {
        "id": "ekA1UtC-i80u",
        "colab": {
          "base_uri": "https://localhost:8080/"
        },
        "outputId": "33af01af-221e-4cbd-f98e-0fffb48f621e"
      },
      "execution_count": 70,
      "outputs": [
        {
          "output_type": "stream",
          "name": "stderr",
          "text": [
            "/usr/local/lib/python3.7/dist-packages/ipykernel_launcher.py:2: DeprecationWarning: find_element_by_css_selector is deprecated. Please use find_element(by=By.CSS_SELECTOR, value=css_selector) instead\n",
            "  \n",
            "/usr/local/lib/python3.7/dist-packages/ipykernel_launcher.py:7: DeprecationWarning: find_element_by_css_selector is deprecated. Please use find_element(by=By.CSS_SELECTOR, value=css_selector) instead\n",
            "  import sys\n"
          ]
        },
        {
          "output_type": "stream",
          "name": "stdout",
          "text": [
            "當前識別碼: ['CDwindow-9811C06EE25C6A0965FBEFD760BFB0A3', 'CDwindow-9A22722FBD4A8CFCECE2E260C5658CBC', 'CDwindow-4AAD4D36F2AE875BA722C0F393D19551']\n"
          ]
        }
      ]
    },
    {
      "cell_type": "code",
      "source": [
        "job_links\n"
      ],
      "metadata": {
        "colab": {
          "base_uri": "https://localhost:8080/"
        },
        "id": "g0XOXnckT7Oq",
        "outputId": "bd4267ed-b9df-4e7e-fe70-3224f6ea91e0"
      },
      "execution_count": 72,
      "outputs": [
        {
          "output_type": "execute_result",
          "data": {
            "text/plain": [
              "['www.104.com.tw/job/6wlz1?jobsource=m104_apply',\n",
              " 'www.104.com.tw/job/7bwnb?jobsource=m104_apply',\n",
              " 'www.104.com.tw/job/7ddta?jobsource=m104_apply',\n",
              " 'www.104.com.tw/job/7asdk?jobsource=m104_apply',\n",
              " 'www.104.com.tw/job/6x0q4?jobsource=m104_apply',\n",
              " 'www.104.com.tw/job/6wohk?jobsource=m104_apply',\n",
              " 'www.104.com.tw/job/7jf9y?jobsource=m104_apply',\n",
              " 'www.104.com.tw/job/6wnct?jobsource=m104_apply',\n",
              " 'www.104.com.tw/job/78w57?jobsource=m104_apply',\n",
              " 'www.104.com.tw/job/7iy0k?jobsource=m104_apply',\n",
              " 'www.104.com.tw/job/48rwl?jobsource=m104_apply',\n",
              " 'www.104.com.tw/job/6uwns?jobsource=m104_apply',\n",
              " 'www.104.com.tw/job/7lfq5?jobsource=m104_apply',\n",
              " 'www.104.com.tw/job/4x6os?jobsource=m104_apply',\n",
              " 'www.104.com.tw/job/61735?jobsource=m104_apply',\n",
              " 'www.104.com.tw/job/7j4q6?jobsource=m104_apply',\n",
              " 'www.104.com.tw/job/6dmla?jobsource=m104_apply',\n",
              " 'www.104.com.tw/job/7ktmq?jobsource=m104_apply',\n",
              " 'www.104.com.tw/job/7lsxt?jobsource=m104_apply',\n",
              " 'www.104.com.tw/job/61va2?jobsource=m104_apply',\n",
              " 'www.104.com.tw/job/7g8n2?jobsource=m104_apply',\n",
              " 'www.104.com.tw/job/6r128?jobsource=m104_apply',\n",
              " 'www.104.com.tw/job/78tbq?jobsource=m104_apply',\n",
              " 'www.104.com.tw/job/74efs?jobsource=m104_apply',\n",
              " 'www.104.com.tw/job/6w0tg?jobsource=m104_apply',\n",
              " 'www.104.com.tw/job/6do9d?jobsource=m104_apply',\n",
              " 'www.104.com.tw/job/3dw81?jobsource=m104_apply',\n",
              " 'www.104.com.tw/job/7jmht?jobsource=m104_apply',\n",
              " 'www.104.com.tw/job/6jgm8?jobsource=m104_apply',\n",
              " 'www.104.com.tw/job/4j8qz?jobsource=m104_apply',\n",
              " 'www.104.com.tw/job/73r4x?jobsource=m104_apply',\n",
              " 'www.104.com.tw/job/6ecm5?jobsource=m104_apply',\n",
              " 'www.104.com.tw/job/56vv6?jobsource=m104_apply',\n",
              " 'www.104.com.tw/job/77mgl?jobsource=m104_apply',\n",
              " 'www.104.com.tw/job/79a30?jobsource=m104_apply',\n",
              " 'www.104.com.tw/job/6v672?jobsource=m104_apply',\n",
              " 'www.104.com.tw/job/7kp36?jobsource=m104_apply',\n",
              " 'www.104.com.tw/job/7h2l4?jobsource=m104_apply',\n",
              " 'www.104.com.tw/job/7h2l7?jobsource=m104_apply',\n",
              " 'www.104.com.tw/job/7flfs?jobsource=m104_apply',\n",
              " 'www.104.com.tw/job/5k11s?jobsource=m104_apply',\n",
              " 'www.104.com.tw/job/6lzkl?jobsource=m104_apply',\n",
              " 'www.104.com.tw/job/4zpki?jobsource=m104_apply',\n",
              " 'www.104.com.tw/job/78p64?jobsource=m104_apply',\n",
              " 'www.104.com.tw/job/78p5n?jobsource=m104_apply',\n",
              " 'www.104.com.tw/job/6nqi9?jobsource=m104_apply',\n",
              " 'www.104.com.tw/job/7cknp?jobsource=m104_apply',\n",
              " 'www.104.com.tw/job/77hz7?jobsource=m104_apply',\n",
              " 'www.104.com.tw/job/4onwu?jobsource=m104_apply',\n",
              " 'www.104.com.tw/job/3qvj6?jobsource=m104_apply',\n",
              " 'www.104.com.tw/job/7lol3?jobsource=m104_apply',\n",
              " 'www.104.com.tw/job/6vsql?jobsource=m104_apply',\n",
              " 'www.104.com.tw/job/55oe1?jobsource=m104_apply',\n",
              " 'www.104.com.tw/job/5bkqm?jobsource=m104_apply',\n",
              " 'www.104.com.tw/job/6vzqs?jobsource=m104_apply',\n",
              " 'www.104.com.tw/job/4hax7?jobsource=m104_apply',\n",
              " 'www.104.com.tw/job/74v3v?jobsource=m104_apply',\n",
              " 'www.104.com.tw/job/79m1u?jobsource=m104_apply',\n",
              " 'www.104.com.tw/job/7f4e0?jobsource=m104_apply',\n",
              " 'www.104.com.tw/job/7ez0s?jobsource=m104_apply',\n",
              " 'www.104.com.tw/job/7avk5?jobsource=m104_apply',\n",
              " 'www.104.com.tw/job/3toal?jobsource=m104_apply']"
            ]
          },
          "metadata": {},
          "execution_count": 72
        }
      ]
    },
    {
      "cell_type": "code",
      "source": [
        ""
      ],
      "metadata": {
        "id": "gywJsXHJf8MH"
      },
      "execution_count": null,
      "outputs": []
    },
    {
      "cell_type": "code",
      "source": [
        ""
      ],
      "metadata": {
        "id": "T1rd3nogVeud"
      },
      "execution_count": null,
      "outputs": []
    }
  ]
}